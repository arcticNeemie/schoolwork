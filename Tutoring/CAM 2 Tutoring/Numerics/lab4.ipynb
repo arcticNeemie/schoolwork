{
 "cells": [
  {
   "cell_type": "code",
   "execution_count": null,
   "metadata": {
    "ExecuteTime": {
     "end_time": "2018-09-09T10:16:14.774150Z",
     "start_time": "2018-09-09T10:16:14.771421Z"
    }
   },
   "outputs": [],
   "source": [
    "# Initialisation Cell\n",
    "#from matplotlib import pyplot as plt\n",
    "from IPython.display import display, HTML, Javascript\n",
    "from math import *\n",
    "#import seaborn as sns\n",
    "#import pandas as pd\n",
    "import numpy as np\n",
    "import numpy.testing as nt\n",
    "import time"
   ]
  },
  {
   "cell_type": "markdown",
   "metadata": {
    "deletable": false,
    "editable": false,
    "nbgrader": {
     "checksum": "8e40ae81e189f83bf8e743e4f7158bd2",
     "grade": false,
     "grade_id": "cell-2aef6ebb153818d5",
     "locked": true,
     "schema_version": 1,
     "solution": false
    }
   },
   "source": [
    "# Numerical Analysis II - Lab 4\n",
    "\n",
    "\n",
    "## Instructions\n",
    "\n",
    "* Read all the instructions carefully.\n",
    "* **Numpy** has a help file for every function if you get stuck. See: https://docs.scipy.org/doc/numpy-1.14.5/reference/\n",
    "* See these useful links:\n",
    "    * https://docs.scipy.org/doc/numpy/user/numpy-for-matlab-users.html\n",
    "    * https://docs.scipy.org/doc/numpy/user/quickstart.html\n",
    "* **Numpy** is not always required.\n",
    "* There are also numerous sources available on the internet, Google is your friend!\n",
    "* To launch jupyter correctly in the labs using vmuser, type the following at the terminal:\n",
    "    `/usr/local/anaconda3/bin/jupyter-notebook`"
   ]
  },
  {
   "cell_type": "markdown",
   "metadata": {
    "deletable": false,
    "editable": false,
    "nbgrader": {
     "checksum": "cc1997cf115fbe5afabf23339cf1682c",
     "grade": false,
     "grade_id": "cell-d5f2539841c7130f",
     "locked": true,
     "schema_version": 1,
     "solution": false
    }
   },
   "source": [
    "## Warm-up Exercises\n",
    "\n",
    "### Question 1\n",
    "\n",
    "Write a function called `neighbour` which takes as input an array `v` and creates another array as output which contains the absolute values of the differences between neighbouring elements of `v`. For example, if `v = [1, 2, 4, 7]`, then the output of the function would be `[1, 2, 3]`. Observe that the length of the output vector is one less than that of the input. Therefore, ensure that your function checks that `v` has at least 2 elements and returns an empty array otherwise.\n"
   ]
  },
  {
   "cell_type": "code",
   "execution_count": null,
   "metadata": {
    "ExecuteTime": {
     "end_time": "2018-09-05T09:45:58.055629Z",
     "start_time": "2018-09-05T09:45:58.052250Z"
    },
    "deletable": false,
    "nbgrader": {
     "checksum": "67e006adfc34614b77e1953640c42d8b",
     "grade": false,
     "grade_id": "cell-000fe1f563df602b",
     "locked": false,
     "schema_version": 1,
     "solution": true
    }
   },
   "outputs": [],
   "source": [
    "def neighbour(v):\n",
    "    # YOUR CODE HERE\n",
    "    raise NotImplementedError()"
   ]
  },
  {
   "cell_type": "code",
   "execution_count": null,
   "metadata": {
    "ExecuteTime": {
     "end_time": "2018-09-05T09:45:58.524939Z",
     "start_time": "2018-09-05T09:45:58.520760Z"
    },
    "deletable": false,
    "editable": false,
    "nbgrader": {
     "checksum": "45043aed7a8b7da5bcdcce940db391af",
     "grade": true,
     "grade_id": "cell-e935f58fd8666288",
     "locked": true,
     "points": 1,
     "schema_version": 1,
     "solution": false
    }
   },
   "outputs": [],
   "source": [
    "# Run this test cell to check your code\n",
    "# Do not delete this cell\n",
    "# 1 Marks\n",
    "nt.assert_array_equal([1, 2, 3], neighbour(np.array([1, 2, 4, 7])))\n",
    "nt.assert_array_equal([1],       neighbour(np.array([1, 2])))\n",
    "nt.assert_array_equal([],        neighbour(np.array([1])))\n",
    "print('All tests passed!!!')"
   ]
  },
  {
   "cell_type": "markdown",
   "metadata": {
    "deletable": false,
    "editable": false,
    "nbgrader": {
     "checksum": "17dba9338fbcacbd33919e9bc131ee87",
     "grade": false,
     "grade_id": "cell-3b3243b64796f00f",
     "locked": true,
     "schema_version": 1,
     "solution": false
    }
   },
   "source": [
    "### Question 2\n",
    "\n",
    "Write a function `element_identifier` which takes input `x` which may be either a vector or matrix. The function must identify the elements of `x` where its value is greater than the sum of their two indexes. For example, if `x[2, 3] = 6`, then that element would be identified since 6 is greater than 2 + 3. The output of the function should give the indexes if such elements found in row-major order. That is a matrix with two columns. The first column contains the row indexes and the second the corresponding column indexes."
   ]
  },
  {
   "cell_type": "code",
   "execution_count": null,
   "metadata": {
    "ExecuteTime": {
     "end_time": "2018-09-05T09:48:43.292197Z",
     "start_time": "2018-09-05T09:48:43.287923Z"
    },
    "deletable": false,
    "nbgrader": {
     "checksum": "342e152993f1f759a78620b67bc09e9d",
     "grade": false,
     "grade_id": "cell-61e87eaa9660c443",
     "locked": false,
     "schema_version": 1,
     "solution": true
    }
   },
   "outputs": [],
   "source": [
    "def element_identifier(x):\n",
    "    # YOUR CODE HERE\n",
    "    raise NotImplementedError()"
   ]
  },
  {
   "cell_type": "code",
   "execution_count": null,
   "metadata": {
    "ExecuteTime": {
     "end_time": "2018-09-05T09:48:43.616905Z",
     "start_time": "2018-09-05T09:48:43.612370Z"
    },
    "deletable": false,
    "editable": false,
    "nbgrader": {
     "checksum": "19536b607542d14b8f6120d654a61b44",
     "grade": true,
     "grade_id": "cell-5db98e58ed25093c",
     "locked": true,
     "points": 2,
     "schema_version": 1,
     "solution": false
    }
   },
   "outputs": [],
   "source": [
    "# Run this test cell to check your code\n",
    "# Do not delete this cell\n",
    "# 2 Marks\n",
    "x = np.array([[1, 4], [5, 2], [6, 0]])\n",
    "nt.assert_array_equal(np.array([[0, 0],\n",
    "                                [0, 1],\n",
    "                                [1, 0],\n",
    "                                [2, 0]]), element_identifier(x))\n",
    "print('All tests passed!!!')"
   ]
  },
  {
   "cell_type": "markdown",
   "metadata": {
    "deletable": false,
    "editable": false,
    "nbgrader": {
     "checksum": "e138f3907500f7589ce56c5d52ee3c5f",
     "grade": false,
     "grade_id": "cell-c49ca10e1e45b2bb",
     "locked": true,
     "schema_version": 1,
     "solution": false
    }
   },
   "source": [
    "### Question 3\n",
    "\n",
    "Starting in the top left hand corner of a  2 x 2 grid and only being able to move to the right and down, there are exactly 6 routes to the bottom right corner. Write a function `route_cal` that takes as input an integer `n`. Your function should return the number of possible routes using right and down moves from the top left corner to the bottom right corner."
   ]
  },
  {
   "cell_type": "code",
   "execution_count": null,
   "metadata": {
    "ExecuteTime": {
     "end_time": "2018-09-05T09:49:27.585380Z",
     "start_time": "2018-09-05T09:49:27.581148Z"
    },
    "deletable": false,
    "nbgrader": {
     "checksum": "9752f80cac3a601d88ad20ba0451bb07",
     "grade": false,
     "grade_id": "cell-47c9566fe5e9f641",
     "locked": false,
     "schema_version": 1,
     "solution": true
    }
   },
   "outputs": [],
   "source": [
    "def route_calc(n):\n",
    "    # YOUR CODE HERE\n",
    "    raise NotImplementedError()"
   ]
  },
  {
   "cell_type": "code",
   "execution_count": null,
   "metadata": {
    "ExecuteTime": {
     "end_time": "2018-09-05T09:49:27.887400Z",
     "start_time": "2018-09-05T09:49:27.883845Z"
    },
    "deletable": false,
    "editable": false,
    "nbgrader": {
     "checksum": "3db66da1c0da23c12b89b3b7dbd2be73",
     "grade": true,
     "grade_id": "cell-f242cfc7b9a05606",
     "locked": true,
     "points": 2,
     "schema_version": 1,
     "solution": false
    }
   },
   "outputs": [],
   "source": [
    "# Run this test cell to check your code\n",
    "# Do not delete this cell\n",
    "# 2 Marks\n",
    "assert(6            == route_calc(2))\n",
    "assert(184756       == route_calc(10))\n",
    "assert(137846528820 == route_calc(20))\n",
    "print('All tests passed!!!')"
   ]
  },
  {
   "cell_type": "markdown",
   "metadata": {
    "deletable": false,
    "editable": false,
    "nbgrader": {
     "checksum": "b7f44af62bf94667c9aa6faf5a2479e0",
     "grade": false,
     "grade_id": "cell-e7f4abd7bfe781f1",
     "locked": true,
     "schema_version": 1,
     "solution": false
    }
   },
   "source": [
    "## Main Exercises\n",
    "\n",
    "Complete the following problems:\n",
    "\n",
    "### Question 1\n",
    "\n",
    "Write a function that will produce a Lagrange interpolating polynomial $P(x)$ and evaluate it at a point `xstar`, outputting the resulting `P(xstar)`. The degree ($n - 1$) polynomial should run through each of the $n$ points ($x, y$) exactly. The inputs `x` and `y` are numpy arrays, `xstar` a scalar and the corresponding output a scalar.\n"
   ]
  },
  {
   "cell_type": "code",
   "execution_count": null,
   "metadata": {
    "ExecuteTime": {
     "end_time": "2018-09-09T10:16:23.833514Z",
     "start_time": "2018-09-09T10:16:23.829389Z"
    },
    "deletable": false,
    "nbgrader": {
     "checksum": "f6601b8067567683c229b1c18f61ac99",
     "grade": false,
     "grade_id": "cell-92018dddc9a3cbf9",
     "locked": false,
     "schema_version": 1,
     "solution": true
    }
   },
   "outputs": [],
   "source": [
    "def lagrange_polynomial(x, y, xstar):\n",
    "    # YOUR CODE HERE\n",
    "    raise NotImplementedError()"
   ]
  },
  {
   "cell_type": "code",
   "execution_count": null,
   "metadata": {
    "ExecuteTime": {
     "end_time": "2018-09-09T14:27:08.751134Z",
     "start_time": "2018-09-09T14:27:08.746935Z"
    },
    "deletable": false,
    "editable": false,
    "nbgrader": {
     "checksum": "39e04d15ff537bfd2cccee1343df1530",
     "grade": true,
     "grade_id": "cell-ba92523551688e0c",
     "locked": true,
     "points": 8,
     "schema_version": 1,
     "solution": false
    }
   },
   "outputs": [],
   "source": [
    "# Run this test cell to check your code\n",
    "# Do not delete this cell\n",
    "# 8 Marks\n",
    "xval = np.array([0,1,2,3,4])\n",
    "yval = np.array([5,11,101,473,1445])\n",
    "xstar = 0.5\n",
    "nt.assert_almost_equal(5.1875, lagrange_polynomial(xval, yval, xstar))\n",
    "print('All tests passed!!!')"
   ]
  },
  {
   "cell_type": "markdown",
   "metadata": {
    "deletable": false,
    "editable": false,
    "nbgrader": {
     "checksum": "1d26204ba5608b62cbd79eddd654b03e",
     "grade": false,
     "grade_id": "cell-f0159e13f736e308",
     "locked": true,
     "schema_version": 1,
     "solution": false
    }
   },
   "source": [
    "### Question 2\n",
    "\n",
    "Write a function which performs the Newton's Divided difference for interpolation. The function `newton_divided` should take as inputs the arrays `x` and `y` and produce 1 or 2 outputs depending on whether the optional input `*star` is passed. If the `*star*` is passed, then the function should return 2 outputs. The first being the evaluation of the interpolating polynomial at `xstar` (i.e. a scalar) and the second output the divided difference table. If no optional input is passed, then the function should return only the divided difference table. You may assume this to be lower triangular and thus pad the matrix with zeros where necessary.\n"
   ]
  },
  {
   "cell_type": "code",
   "execution_count": null,
   "metadata": {
    "ExecuteTime": {
     "end_time": "2018-09-09T14:27:43.337827Z",
     "start_time": "2018-09-09T14:27:43.332158Z"
    },
    "deletable": false,
    "nbgrader": {
     "checksum": "e79334a9208ad87a76c7c8a1c6be942b",
     "grade": false,
     "grade_id": "cell-b7b12a651dd21c52",
     "locked": false,
     "schema_version": 1,
     "solution": true
    }
   },
   "outputs": [],
   "source": [
    "def newton_divided(x, y, *xstar):\n",
    "    # YOUR CODE HERE\n",
    "    raise NotImplementedError()"
   ]
  },
  {
   "cell_type": "code",
   "execution_count": null,
   "metadata": {
    "ExecuteTime": {
     "end_time": "2018-09-09T14:27:15.479699Z",
     "start_time": "2018-09-09T14:27:15.473770Z"
    },
    "deletable": false,
    "editable": false,
    "nbgrader": {
     "checksum": "d38ca72ac47bc74d291203b53105bd81",
     "grade": true,
     "grade_id": "cell-2dbe78aef4f22566",
     "locked": true,
     "points": 4,
     "schema_version": 1,
     "solution": false
    }
   },
   "outputs": [],
   "source": [
    "# Run this test cell to check your code\n",
    "# Do not delete this cell\n",
    "# 4 Marks\n",
    "xval  = np.array([-4, -1, 0, 2, 5])\n",
    "yval  = np.array([1245, 33, 5, 9, 1335])\n",
    "xstar = 1.5\n",
    "tans  = (479.0, np.array([[1245.,    0.,    0.,    0.,    0.],\n",
    "                          [  33., -404.,    0.,    0.,    0.],\n",
    "                          [   5.,  -28.,   94.,    0.,    0.],\n",
    "                          [   9.,    2.,   10.,  -14.,    0.],\n",
    "                          [1335.,  442.,   88.,   13.,    3.]]))\n",
    "\n",
    "nt.assert_equal(tans, newton_divided(xval, yval, -3))\n",
    "print('All tests passed!!!')"
   ]
  },
  {
   "cell_type": "code",
   "execution_count": null,
   "metadata": {
    "ExecuteTime": {
     "end_time": "2018-09-09T14:27:16.159016Z",
     "start_time": "2018-09-09T14:27:16.155358Z"
    },
    "deletable": false,
    "editable": false,
    "nbgrader": {
     "checksum": "d1b13cef92f6a7c23e46976e00072bdd",
     "grade": true,
     "grade_id": "cell-9738c8891631ac1a",
     "locked": true,
     "points": 3,
     "schema_version": 1,
     "solution": false
    }
   },
   "outputs": [],
   "source": [
    "# Run this test cell to check your code\n",
    "# Do not delete this cell\n",
    "# 3 Marks\n",
    "nt.assert_equal(tans[1], newton_divided(xval, yval))\n",
    "print('All tests passed!!!')"
   ]
  }
 ],
 "metadata": {
  "kernelspec": {
   "display_name": "Python 3",
   "language": "python",
   "name": "python3"
  },
  "language_info": {
   "codemirror_mode": {
    "name": "ipython",
    "version": 3
   },
   "file_extension": ".py",
   "mimetype": "text/x-python",
   "name": "python",
   "nbconvert_exporter": "python",
   "pygments_lexer": "ipython3",
   "version": "3.6.5"
  },
  "latex_envs": {
   "LaTeX_envs_menu_present": true,
   "autoclose": false,
   "autocomplete": false,
   "bibliofile": "biblio.bib",
   "cite_by": "apalike",
   "current_citInitial": 1,
   "eqLabelWithNumbers": true,
   "eqNumInitial": 1,
   "hotkeys": {
    "equation": "Ctrl-E",
    "itemize": "Ctrl-I"
   },
   "labels_anchors": false,
   "latex_user_defs": false,
   "report_style_numbering": false,
   "user_envs_cfg": false
  },
  "varInspector": {
   "cols": {
    "lenName": 16,
    "lenType": 16,
    "lenVar": 40
   },
   "kernels_config": {
    "python": {
     "delete_cmd_postfix": "",
     "delete_cmd_prefix": "del ",
     "library": "var_list.py",
     "varRefreshCmd": "print(var_dic_list())"
    },
    "r": {
     "delete_cmd_postfix": ") ",
     "delete_cmd_prefix": "rm(",
     "library": "var_list.r",
     "varRefreshCmd": "cat(var_dic_list()) "
    }
   },
   "types_to_exclude": [
    "module",
    "function",
    "builtin_function_or_method",
    "instance",
    "_Feature"
   ],
   "window_display": false
  }
 },
 "nbformat": 4,
 "nbformat_minor": 2
}
