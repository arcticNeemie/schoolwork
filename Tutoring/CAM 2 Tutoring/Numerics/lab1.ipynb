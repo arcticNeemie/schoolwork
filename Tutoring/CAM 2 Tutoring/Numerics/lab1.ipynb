{
 "cells": [
  {
   "cell_type": "code",
   "execution_count": null,
   "metadata": {},
   "outputs": [],
   "source": [
    "# Initialisation Cell\n",
    "from matplotlib import pyplot as plt\n",
    "from IPython.display import display, HTML, Javascript\n",
    "from math import *\n",
    "import seaborn as sns\n",
    "import pandas as pd\n",
    "import numpy as np\n",
    "import numpy.testing as nt"
   ]
  },
  {
   "cell_type": "markdown",
   "metadata": {
    "deletable": false,
    "editable": false,
    "nbgrader": {
     "checksum": "c35d70db82973b6a56f49adf518f73f2",
     "grade": false,
     "grade_id": "cell-7131554f2615e1fb",
     "locked": true,
     "schema_version": 1,
     "solution": false
    }
   },
   "source": [
    "# Numerical Analysis II - Lab 1\n",
    "\n",
    "\n",
    "## Instructions\n",
    "\n",
    "* Read all the instructions carefully.\n",
    "* **Numpy** has a help file for every function if you get stuck. See: https://docs.scipy.org/doc/numpy-1.14.5/reference/\n",
    "* See these useful links:\n",
    "    * https://docs.scipy.org/doc/numpy/user/numpy-for-matlab-users.html\n",
    "    * https://docs.scipy.org/doc/numpy/user/quickstart.html\n",
    "* **Numpy** is not always required.\n",
    "* There are also numerous sources available on the internet, Google is your friend!"
   ]
  },
  {
   "cell_type": "markdown",
   "metadata": {
    "deletable": false,
    "editable": false,
    "nbgrader": {
     "checksum": "224929eaf66400971189ef85b143ac98",
     "grade": false,
     "grade_id": "cell-8cd4363de50a3335",
     "locked": true,
     "schema_version": 1,
     "solution": false
    }
   },
   "source": [
    "## Warm-up Exercises\n",
    "\n",
    "Complete the following warm-up tasks:"
   ]
  },
  {
   "cell_type": "markdown",
   "metadata": {
    "deletable": false,
    "editable": false,
    "nbgrader": {
     "checksum": "bfe4e383dab29901053e8130a239daa0",
     "grade": false,
     "grade_id": "cell-6bb6f40185a9db41",
     "locked": true,
     "schema_version": 1,
     "solution": false
    }
   },
   "source": [
    "### Question 1\n",
    "\n",
    "Write a function that will compute gross pay, i.e. it must take inputs **hours** and **rate** and return **pay**."
   ]
  },
  {
   "cell_type": "code",
   "execution_count": null,
   "metadata": {
    "deletable": false,
    "nbgrader": {
     "checksum": "e43e010abc79d0387c2bcf31d2a2a147",
     "grade": false,
     "grade_id": "cell-26de8dfe31111379",
     "locked": false,
     "schema_version": 1,
     "solution": true
    }
   },
   "outputs": [],
   "source": [
    "def compute_gross_pay(hours, rate):\n",
    "    \"\"\"\n",
    "    Inputs\n",
    "    hours: scalar input of hours worked\n",
    "    rate : scalar hourly rate of pay\n",
    "    \n",
    "    Outputs\n",
    "    pay: scalar of total pay earned\n",
    "    \"\"\"\n",
    "    # YOUR CODE HERE\n",
    "    raise NotImplementedError()"
   ]
  },
  {
   "cell_type": "code",
   "execution_count": null,
   "metadata": {
    "deletable": false,
    "editable": false,
    "nbgrader": {
     "checksum": "69b90d083fc99db0b7340c5484727f70",
     "grade": true,
     "grade_id": "cell-0bbabebbcd5d993f",
     "locked": true,
     "points": 1,
     "schema_version": 1,
     "solution": false
    }
   },
   "outputs": [],
   "source": [
    "# Run this test cell to check your code\n",
    "# Do not delete this cell\n",
    "x = np.random.randint(10)\n",
    "y = np.random.randint(150)\n",
    "nt.assert_approx_equal(x*y, compute_gross_pay(x, y), err_msg = 'function incorrect')\n",
    "print('All Tests Passed!!!')"
   ]
  },
  {
   "cell_type": "markdown",
   "metadata": {
    "deletable": false,
    "editable": false,
    "nbgrader": {
     "checksum": "22311ace98293d2a1c910844c07a76cb",
     "grade": false,
     "grade_id": "cell-eb758d9f8569926d",
     "locked": true,
     "schema_version": 1,
     "solution": false
    }
   },
   "source": [
    "### Question 2\n",
    "\n",
    "If we list all the natural number below 10 that are multiples of 3 or 5, we get 3, 5, 6, 9. The sum of these multiples is 23. Write a function that will take in as input **n** and return the sum of all the multiples of 3 or 5 below **n**."
   ]
  },
  {
   "cell_type": "code",
   "execution_count": null,
   "metadata": {
    "deletable": false,
    "nbgrader": {
     "checksum": "f256f7dd7d17141f9a14de7e5ec80663",
     "grade": false,
     "grade_id": "cell-5d3ea102fee7c698",
     "locked": false,
     "schema_version": 1,
     "solution": true
    }
   },
   "outputs": [],
   "source": [
    "def nat_num_multi(n):\n",
    "    \"\"\"\n",
    "    Inputs\n",
    "    n: integer value\n",
    "    \n",
    "    Outputs\n",
    "    total: sum of all multiples of 3 or 5 below n\n",
    "    \"\"\"\n",
    "    # YOUR CODE HERE\n",
    "    raise NotImplementedError()"
   ]
  },
  {
   "cell_type": "code",
   "execution_count": null,
   "metadata": {
    "deletable": false,
    "editable": false,
    "nbgrader": {
     "checksum": "bde4b29f6ab8d7428eef139ede26155a",
     "grade": true,
     "grade_id": "cell-b76f520bfa4e1957",
     "locked": true,
     "points": 1,
     "schema_version": 1,
     "solution": false
    }
   },
   "outputs": [],
   "source": [
    "# Run this test cell to check your code\n",
    "# Do not delete this cell\n",
    "nt.assert_approx_equal(23, nat_num_multi(10), err_msg = 'function incorrect')\n",
    "print('All Tests Passed!!!')"
   ]
  },
  {
   "cell_type": "markdown",
   "metadata": {
    "deletable": false,
    "editable": false,
    "nbgrader": {
     "checksum": "be79b6579f08b518a49602e3a5f4721a",
     "grade": false,
     "grade_id": "cell-3b31d724dc4aceca",
     "locked": true,
     "schema_version": 1,
     "solution": false
    }
   },
   "source": [
    "### Question 3\n",
    "\n",
    "Each new term in the Fibonacci sequence is generated by adding the previous two terms. By starting at 1 and 2, the first 10 terms will be:\n",
    "\\begin{equation*}\n",
    "1, 1, 2, 3, 5, 8, 13, 21, 34, 55, \\ldots\n",
    "\\end{equation*}\n",
    "By considering the terms in the Fibonacci sequence whose values do not exceed input **n**, write a function that returns the sum of the even-valued terms."
   ]
  },
  {
   "cell_type": "code",
   "execution_count": null,
   "metadata": {
    "deletable": false,
    "nbgrader": {
     "checksum": "5d5b4e0c29a7b30d79c7b4450e7179e3",
     "grade": false,
     "grade_id": "cell-1ff8a6ef521af566",
     "locked": false,
     "schema_version": 1,
     "solution": true
    }
   },
   "outputs": [],
   "source": [
    "def fib_sum(n):\n",
    "    \"\"\"\n",
    "    Inputs\n",
    "    n: integer value\n",
    "    \n",
    "    Outputs\n",
    "    total: sum of the even-valued terms\n",
    "    \"\"\"\n",
    "    # YOUR CODE HERE\n",
    "    raise NotImplementedError()"
   ]
  },
  {
   "cell_type": "code",
   "execution_count": null,
   "metadata": {
    "deletable": false,
    "editable": false,
    "nbgrader": {
     "checksum": "0ca0c4afd7c8f59bc43819f8d12a0dfe",
     "grade": true,
     "grade_id": "cell-5cc3edac6b86680e",
     "locked": true,
     "points": 1,
     "schema_version": 1,
     "solution": false
    }
   },
   "outputs": [],
   "source": [
    "# Run this test cell to check your code\n",
    "# Do not delete this cell\n",
    "nt.assert_approx_equal(10, 10, err_msg='function incorrect')\n",
    "print('All Tests Passed!!!')"
   ]
  },
  {
   "cell_type": "markdown",
   "metadata": {
    "deletable": false,
    "editable": false,
    "nbgrader": {
     "checksum": "5ed12aa01268cd1de5de2df5488a4df1",
     "grade": false,
     "grade_id": "cell-0fcec1a3633d6e36",
     "locked": true,
     "schema_version": 1,
     "solution": false
    }
   },
   "source": [
    "### Question 4\n",
    "\n",
    "Stirling's approximation is a powerful formula for computing factorials. Write a function to compute the absolute and relative errors in Stirling's approximation:\n",
    "\\begin{equation*}\n",
    "n! \\approx \\sqrt{2\\pi n}\\left(\\dfrac{n}{e}\\right)^n, \n",
    "\\end{equation*}\n",
    "for $n = 1,\\ldots,10$. Does the absolute error grow or shrink as $n$ increases? Does the relative error grow or shrink as $n$ increases?"
   ]
  },
  {
   "cell_type": "code",
   "execution_count": null,
   "metadata": {
    "deletable": false,
    "nbgrader": {
     "checksum": "39ebbf8be5884a4855a23d59f2666b68",
     "grade": false,
     "grade_id": "cell-fc8c0cd689060597",
     "locked": false,
     "schema_version": 1,
     "solution": true
    }
   },
   "outputs": [],
   "source": [
    "def stirling_error(n):\n",
    "    \"\"\"\n",
    "    Inputs\n",
    "    n: integer value\n",
    "    \n",
    "    Outputs\n",
    "    absolute_error, relative_error: absolute error and relative error of Stirling's approximation\n",
    "    \"\"\"\n",
    "\n",
    "    # YOUR CODE HERE\n",
    "    raise NotImplementedError()"
   ]
  },
  {
   "cell_type": "code",
   "execution_count": null,
   "metadata": {
    "deletable": false,
    "editable": false,
    "nbgrader": {
     "checksum": "33aa7b8f23edb53f8eae508f7d880761",
     "grade": true,
     "grade_id": "cell-6ca947f02fceee7c",
     "locked": true,
     "points": 1,
     "schema_version": 1,
     "solution": false
    }
   },
   "outputs": [],
   "source": [
    "# Run this test cell to check your code\n",
    "# Do not delete this cell\n",
    "nt.assert_array_almost_equal([1.9808320424099009, 0.016506933686749173], \n",
    "                             np.asarray(stirling_error(5)), \n",
    "                             err_msg = 'function incorrect')\n",
    "print('All Tests Passed!!!')"
   ]
  },
  {
   "cell_type": "markdown",
   "metadata": {
    "deletable": false,
    "editable": false,
    "nbgrader": {
     "checksum": "6c1137828540ec97e56826eed26e30ee",
     "grade": false,
     "grade_id": "cell-f57234e09afbdf3a",
     "locked": true,
     "schema_version": 1,
     "solution": false
    }
   },
   "source": [
    "## Main Exercises\n"
   ]
  },
  {
   "cell_type": "markdown",
   "metadata": {
    "deletable": false,
    "editable": false,
    "nbgrader": {
     "checksum": "95ec8144b1aa45cc8757fa13fd97ce5f",
     "grade": false,
     "grade_id": "cell-e0c4603ed5b402a2",
     "locked": true,
     "schema_version": 1,
     "solution": false
    }
   },
   "source": [
    "### Question 1\n",
    "\n",
    "Write functions that can compute the first derivative approximation using backward, forward and central differences."
   ]
  },
  {
   "cell_type": "code",
   "execution_count": null,
   "metadata": {
    "deletable": false,
    "nbgrader": {
     "checksum": "52477e5e0f613599e0cf4d2d381d722e",
     "grade": false,
     "grade_id": "cell-48d50d22a40f6bf1",
     "locked": false,
     "schema_version": 1,
     "solution": true
    }
   },
   "outputs": [],
   "source": [
    "def fdf(f, h, x):\n",
    "    \"\"\"\n",
    "    Inputs\n",
    "    f: anonymous function of variable x\n",
    "    h: scalar step-size\n",
    "    x: value at which the derivative is approximated at\n",
    "    \n",
    "    Outputs\n",
    "    derivative: the approximation of the first derivative of f(x)\n",
    "    \"\"\"\n",
    "    # YOUR CODE HERE\n",
    "    raise NotImplementedError()\n"
   ]
  },
  {
   "cell_type": "code",
   "execution_count": null,
   "metadata": {
    "deletable": false,
    "editable": false,
    "nbgrader": {
     "checksum": "b84c9d0be195e64b6f3ffd2518078c12",
     "grade": true,
     "grade_id": "cell-63147f138ecf1247",
     "locked": true,
     "points": 1,
     "schema_version": 1,
     "solution": false
    }
   },
   "outputs": [],
   "source": [
    "# Run this test cell to check your code\n",
    "# Do not delete this cell\n",
    "f = lambda x: x**2 - 1\n",
    "h = 0.1\n",
    "x = 1\n",
    "nt.assert_approx_equal(2.100000000000002, fdf(f, h, x))\n",
    "print('All Tests Passed!!!')"
   ]
  },
  {
   "cell_type": "code",
   "execution_count": null,
   "metadata": {
    "deletable": false,
    "nbgrader": {
     "checksum": "4999a422e349fdc16f76dc8533ece7a6",
     "grade": false,
     "grade_id": "cell-977f38f5c4af46ab",
     "locked": false,
     "schema_version": 1,
     "solution": true
    }
   },
   "outputs": [],
   "source": [
    "def bdf(f, h, x):\n",
    "    \"\"\"\n",
    "    Inputs\n",
    "    f: anonymous function of variable x\n",
    "    h: scalar step-size\n",
    "    x: value at which the derivative is approximated at\n",
    "    \n",
    "    Outputs\n",
    "    derivative: the approximation of the first derivative of f(x)\n",
    "    \"\"\"\n",
    "    # YOUR CODE HERE\n",
    "    raise NotImplementedError()\n"
   ]
  },
  {
   "cell_type": "code",
   "execution_count": null,
   "metadata": {
    "deletable": false,
    "editable": false,
    "nbgrader": {
     "checksum": "51cee640262137c4ac5087f6895c8758",
     "grade": true,
     "grade_id": "cell-1eb816e28827a4b6",
     "locked": true,
     "points": 1,
     "schema_version": 1,
     "solution": false
    }
   },
   "outputs": [],
   "source": [
    "# Run this test cell to check your code\n",
    "# Do not delete this cell\n",
    "nt.assert_approx_equal(1.8999999999999995, bdf(f, h, x))\n",
    "print('All Tests Passed!!!')"
   ]
  },
  {
   "cell_type": "code",
   "execution_count": null,
   "metadata": {
    "deletable": false,
    "nbgrader": {
     "checksum": "957ac6d2d30d735a3985457d38993785",
     "grade": false,
     "grade_id": "cell-46346acc20f28cf8",
     "locked": false,
     "schema_version": 1,
     "solution": true
    }
   },
   "outputs": [],
   "source": [
    "def cdf(f, h, x):\n",
    "    \"\"\"\n",
    "    Inputs\n",
    "    f: anonymous function of variable x\n",
    "    h: scalar step-size\n",
    "    x: value at which the derivative is approximated at\n",
    "    \n",
    "    Outputs\n",
    "    derivative: the approximation of the first derivative of f(x)\n",
    "    \"\"\"\n",
    "    # YOUR CODE HERE\n",
    "    raise NotImplementedError()\n"
   ]
  },
  {
   "cell_type": "code",
   "execution_count": null,
   "metadata": {
    "deletable": false,
    "editable": false,
    "nbgrader": {
     "checksum": "94c70717dfed8044e8d88af5073daecb",
     "grade": true,
     "grade_id": "cell-1f5d246a868c8564",
     "locked": true,
     "points": 1,
     "schema_version": 1,
     "solution": false
    }
   },
   "outputs": [],
   "source": [
    "# Run this test cell to check your code\n",
    "# Do not delete this cell\n",
    "nt.assert_approx_equal(2.0000000000000004, cdf(f, h, x))\n",
    "print('All Tests Passed!!!')"
   ]
  },
  {
   "cell_type": "markdown",
   "metadata": {
    "deletable": false,
    "editable": false,
    "nbgrader": {
     "checksum": "353f8fdbff5b6fb4bd905becaafcd681",
     "grade": false,
     "grade_id": "cell-3b60109ac43c9d4a",
     "locked": true,
     "schema_version": 1,
     "solution": false
    }
   },
   "source": [
    "### Question 2\n",
    "\n",
    "Write a function that returns the Richardson's extrapolation table as a matrix. It should use central difference for its initial approximations. The non-entries of the table can be assigned a NaN."
   ]
  },
  {
   "cell_type": "code",
   "execution_count": null,
   "metadata": {
    "deletable": false,
    "nbgrader": {
     "checksum": "20d2a913eb2ed7b56616b9856120e686",
     "grade": false,
     "grade_id": "cell-494d1e5949310bae",
     "locked": false,
     "schema_version": 1,
     "solution": true
    }
   },
   "outputs": [],
   "source": [
    "def richardson_table(f, h, x):\n",
    "    \"\"\"\n",
    "    Inputs\n",
    "    f: anonymous function of variable x\n",
    "    h: scalar step-size\n",
    "    x: value at which the derivative is approximated at\n",
    "    \n",
    "    Outputs\n",
    "    r_table: the Richardson's extrapolation table as numpy array\n",
    "    \"\"\"\n",
    "    # YOUR CODE HERE\n",
    "    raise NotImplementedError()\n",
    "    "
   ]
  },
  {
   "cell_type": "code",
   "execution_count": null,
   "metadata": {
    "deletable": false,
    "editable": false,
    "nbgrader": {
     "checksum": "79524ecd2096ad79627ebf87d69f55b9",
     "grade": true,
     "grade_id": "cell-3ee7c9beac015dc5",
     "locked": true,
     "points": 3,
     "schema_version": 1,
     "solution": false
    }
   },
   "outputs": [],
   "source": [
    "# Run this test cell to check your code\n",
    "# Do not delete this cell\n",
    "f = lambda x: x**2*cos(x)\n",
    "h = np.array([0.1, 0.05, 0.025, 0.0125])\n",
    "x = 1\n",
    "tans = [[0.22673616,        nan,        nan,        nan],\n",
    "       [0.23603092, 0.23912917,        nan,        nan],\n",
    "       [0.23835774, 0.23913335, 0.23913363,        nan],\n",
    "       [0.23893964, 0.23913361, 0.23913363, 0.23913363]]\n",
    "nt.assert_array_almost_equal(tans, richardson_table(f, h, x), err_msg='function incorrect')\n",
    "print('All Tests Passed!!!')"
   ]
  }
 ],
 "metadata": {
  "kernelspec": {
   "display_name": "Python 3",
   "language": "python",
   "name": "python3"
  },
  "language_info": {
   "codemirror_mode": {
    "name": "ipython",
    "version": 3
   },
   "file_extension": ".py",
   "mimetype": "text/x-python",
   "name": "python",
   "nbconvert_exporter": "python",
   "pygments_lexer": "ipython3",
   "version": "3.6.6"
  },
  "latex_envs": {
   "LaTeX_envs_menu_present": true,
   "autoclose": false,
   "autocomplete": true,
   "bibliofile": "biblio.bib",
   "cite_by": "apalike",
   "current_citInitial": 1,
   "eqLabelWithNumbers": true,
   "eqNumInitial": 1,
   "hotkeys": {
    "equation": "Ctrl-E",
    "itemize": "Ctrl-I"
   },
   "labels_anchors": false,
   "latex_user_defs": false,
   "report_style_numbering": false,
   "user_envs_cfg": false
  },
  "varInspector": {
   "cols": {
    "lenName": 16,
    "lenType": 16,
    "lenVar": 40
   },
   "kernels_config": {
    "python": {
     "delete_cmd_postfix": "",
     "delete_cmd_prefix": "del ",
     "library": "var_list.py",
     "varRefreshCmd": "print(var_dic_list())"
    },
    "r": {
     "delete_cmd_postfix": ") ",
     "delete_cmd_prefix": "rm(",
     "library": "var_list.r",
     "varRefreshCmd": "cat(var_dic_list()) "
    }
   },
   "types_to_exclude": [
    "module",
    "function",
    "builtin_function_or_method",
    "instance",
    "_Feature"
   ],
   "window_display": false
  }
 },
 "nbformat": 4,
 "nbformat_minor": 2
}
