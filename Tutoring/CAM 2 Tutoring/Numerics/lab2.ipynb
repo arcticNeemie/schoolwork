{
 "cells": [
  {
   "cell_type": "code",
   "execution_count": null,
   "metadata": {},
   "outputs": [],
   "source": [
    "# Initialisation Cell\n",
    "from matplotlib import pyplot as plt\n",
    "from IPython.display import display, HTML, Javascript\n",
    "from math import *\n",
    "import seaborn as sns\n",
    "import pandas as pd\n",
    "import numpy as np\n",
    "import numpy.testing as nt"
   ]
  },
  {
   "cell_type": "markdown",
   "metadata": {
    "deletable": false,
    "editable": false,
    "nbgrader": {
     "checksum": "c4b9ff61a3ce3b6a82eaddaf96d47e0f",
     "grade": false,
     "grade_id": "cell-3ed44fa044c0a6df",
     "locked": true,
     "schema_version": 1,
     "solution": false
    }
   },
   "source": [
    "# Numerical Analysis II - Lab 2\n",
    "\n",
    "\n",
    "## Instructions\n",
    "\n",
    "* Read all the instructions carefully.\n",
    "* **Numpy** has a help file for every function if you get stuck. See: https://docs.scipy.org/doc/numpy-1.14.5/reference/\n",
    "* See these useful links:\n",
    "    * https://docs.scipy.org/doc/numpy/user/numpy-for-matlab-users.html\n",
    "    * https://docs.scipy.org/doc/numpy/user/quickstart.html\n",
    "* **Numpy** is not always required.\n",
    "* There are also numerous sources available on the internet, Google is your friend!\n",
    "* To launch jupyter correctly in the labs using vmuser, type the following at the terminal:\n",
    "    `/usr/local/anaconda3/bin/jupyter-notebook`"
   ]
  },
  {
   "cell_type": "markdown",
   "metadata": {
    "deletable": false,
    "editable": false,
    "nbgrader": {
     "checksum": "ef0b8067a6ec548690799e3d63615d34",
     "grade": false,
     "grade_id": "cell-3217474dfd44e125",
     "locked": true,
     "schema_version": 1,
     "solution": false
    }
   },
   "source": [
    "## Warm-up Exercises\n",
    "\n",
    "Complete the following warm-up tasks:"
   ]
  },
  {
   "cell_type": "markdown",
   "metadata": {
    "deletable": false,
    "editable": false,
    "nbgrader": {
     "checksum": "a94f8cd7b4865b392817724be96bdb62",
     "grade": false,
     "grade_id": "cell-52cea3849f85e507",
     "locked": true,
     "schema_version": 1,
     "solution": false
    }
   },
   "source": [
    "### Question 1\n",
    "\n",
    "In ancient Greece, Eratosthenes developed a method to generate the prime numbers below $n$. The idea was to start with a table of all the numbers between 2 and $n$ in a list:\n",
    "\t$$\n",
    "\t2,3,\\ldots,n,\n",
    "\t$$\n",
    "\tand to step through the list, starting at 2. We keep each number we see on the list but remove all of its multiples. When completed, we are left with a list of prime numbers below $n$. For example, with $n = 10$, we start with:\n",
    "\t$$\n",
    "\t2,3,4,5,6,7,8,9,10.\n",
    "\t$$\n",
    "\tThen removing all multiples of 2:\n",
    "\tyields:\n",
    "\t$$\n",
    "\t2,3,5,7,9.\n",
    "\t$$\n",
    "\tNow stepping along we hit 3, so we remove all the multiples of 3:\n",
    "\tWhich produces:\n",
    "\t$$\n",
    "\t2,3,5,7.\n",
    "\t$$\n",
    "\tThere are no multiples of 5 or 7 on the list, so what remains is the list of primes below 10. \n",
    "    \n",
    "Write a function that takes one input $\\texttt{n}$ and produces a list of primes below $n$ as an output. See how well your function performs as you increase $\\texttt{n}$ (go upwards of 1 000 000).\n",
    "    \n",
    "    \n",
    "    \n"
   ]
  },
  {
   "cell_type": "code",
   "execution_count": null,
   "metadata": {
    "deletable": false,
    "nbgrader": {
     "checksum": "c9c2bf1768d4ea07e1bd79f2252ef38a",
     "grade": false,
     "grade_id": "cell-7d1e896888239523",
     "locked": false,
     "schema_version": 1,
     "solution": true
    }
   },
   "outputs": [],
   "source": [
    "def sieve(n):\n",
    "    \"\"\"\n",
    "    Inputs:\n",
    "          n: a integer\n",
    "    Ouputs:\n",
    "        lst: a numpy array of all primes below n\n",
    "    \"\"\"\n",
    "    # YOUR CODE HERE\n",
    "    raise NotImplementedError()"
   ]
  },
  {
   "cell_type": "code",
   "execution_count": null,
   "metadata": {
    "deletable": false,
    "editable": false,
    "nbgrader": {
     "checksum": "2119dbc826fb328c6097bddc3fc42565",
     "grade": true,
     "grade_id": "cell-00b8fc30ff6f831b",
     "locked": true,
     "points": 2,
     "schema_version": 1,
     "solution": false
    }
   },
   "outputs": [],
   "source": [
    "# Run this test cell to check your code\n",
    "# Do not delete this cell\n",
    "nt.assert_array_equal(np.array([ 2,  3,  5,  7, 11, 13, 17, 19, 23, 29, 31, 37, 41, 43, 47, 53, 59,\n",
    "       61, 67, 71, 73, 79, 83, 89, 97]), sieve(100))\n",
    "print('All Tests Passed!!!')"
   ]
  },
  {
   "cell_type": "markdown",
   "metadata": {
    "deletable": false,
    "editable": false,
    "nbgrader": {
     "checksum": "74da36548f794fdec9000a7e79a86ef0",
     "grade": false,
     "grade_id": "cell-ff0b8780159926bf",
     "locked": true,
     "schema_version": 1,
     "solution": false
    }
   },
   "source": [
    "### Question 2\n",
    "\n",
    "There are many ways to compute $\\pi$. The easiest is:\n",
    "\t$$\n",
    "\t\\dfrac{\\pi}{4} = 1 - \\dfrac{1}{3} + \\dfrac{1}{5} - \\dfrac{1}{7} + \\dfrac{1}{9} - \\ldots.\n",
    "\t$$\n",
    "Write function `approx_pi` to compute $\\pi$ directly from this Taylor series. The series should end when the last term has a magnitude less that $10^{-7}$.\n",
    "\n",
    "Another formula to compute $\\pi$ is:\n",
    "\t$$\n",
    "\t\\dfrac{\\pi}{8} = \\dfrac{1}{1\\times 3} + \\dfrac{1}{5 \\times 7} + \\dfrac{1}{9 \\times 11} + \\ldots.\n",
    "\t$$\n",
    "Write function `approx_pi_2` to compute $\\pi$ using the series. As before, the series should end when the last term in the Taylor series is less than $10^{-7}$. Determine how many terms are needed to get your approximation to $\\pi$ to the required tolerance. Which method is better? "
   ]
  },
  {
   "cell_type": "code",
   "execution_count": null,
   "metadata": {
    "deletable": false,
    "nbgrader": {
     "checksum": "8c441f44d9be75bb0329449ed568e38a",
     "grade": false,
     "grade_id": "cell-6ae9f853b6b909ff",
     "locked": false,
     "schema_version": 1,
     "solution": true
    }
   },
   "outputs": [],
   "source": [
    "def approx_pi(tol):\n",
    "    \"\"\"\n",
    "    Inputs: \n",
    "        tol: a scalar tolerance value\n",
    "    Outputs:\n",
    "        val: the final approximation of pi\n",
    "        i  : the number of iterations required to reached tolerance\n",
    "    \"\"\"\n",
    "    # YOUR CODE HERE\n",
    "    raise NotImplementedError()\n"
   ]
  },
  {
   "cell_type": "code",
   "execution_count": null,
   "metadata": {
    "deletable": false,
    "editable": false,
    "nbgrader": {
     "checksum": "479ea6fa38911d87ac8f487f740e07ff",
     "grade": true,
     "grade_id": "cell-aa037b9f1e7c450e",
     "locked": true,
     "points": 1,
     "schema_version": 1,
     "solution": false
    }
   },
   "outputs": [],
   "source": [
    "# Run this test cell to check your code\n",
    "# Do not delete this cell\n",
    "nt.assert_almost_equal(3.141612653189785, approx_pi(1e-5)[0])\n",
    "print('All Tests Passed!!!')"
   ]
  },
  {
   "cell_type": "code",
   "execution_count": null,
   "metadata": {
    "deletable": false,
    "editable": false,
    "nbgrader": {
     "checksum": "d2db951c4ad04a91ab0175f7b50c92cb",
     "grade": true,
     "grade_id": "cell-6683479d42bdc1d1",
     "locked": true,
     "points": 1,
     "schema_version": 1,
     "solution": false
    }
   },
   "outputs": [],
   "source": [
    "# Run this test cell to check your code\n",
    "# Do not delete this cell\n",
    "nt.assert_almost_equal(50001, approx_pi(1e-5)[1])\n",
    "print('All Tests Passed!!!')"
   ]
  },
  {
   "cell_type": "code",
   "execution_count": null,
   "metadata": {
    "deletable": false,
    "nbgrader": {
     "checksum": "7c5cfb1b2838cc345b01c3c848d3625c",
     "grade": false,
     "grade_id": "cell-eaf96dcdaa70b19a",
     "locked": false,
     "schema_version": 1,
     "solution": true
    }
   },
   "outputs": [],
   "source": [
    "def approx_pi_2(tol):\n",
    "    \"\"\"\n",
    "    Inputs: \n",
    "        tol: a scalar tolerance value\n",
    "    Outputs:\n",
    "        val: the final approximation of pi\n",
    "        i  : the number of iterations required to reached tolerance\n",
    "    \"\"\"\n",
    "    # YOUR CODE HERE\n",
    "    raise NotImplementedError()\n"
   ]
  },
  {
   "cell_type": "code",
   "execution_count": null,
   "metadata": {
    "deletable": false,
    "editable": false,
    "nbgrader": {
     "checksum": "19e51286232270841e6f7b9e625727f4",
     "grade": true,
     "grade_id": "cell-bf0d400b157b70ca",
     "locked": true,
     "points": 1,
     "schema_version": 1,
     "solution": false
    }
   },
   "outputs": [],
   "source": [
    "# Run this test cell to check your code\n",
    "# Do not delete this cell\n",
    "nt.assert_almost_equal(3.1415294184817166, approx_pi_2(1e-9)[0])\n",
    "print('All Tests Passed!!!')"
   ]
  },
  {
   "cell_type": "code",
   "execution_count": null,
   "metadata": {
    "deletable": false,
    "editable": false,
    "nbgrader": {
     "checksum": "756193566c995de8ab0562642ee905b3",
     "grade": true,
     "grade_id": "cell-5066674623a41ccf",
     "locked": true,
     "points": 1,
     "schema_version": 1,
     "solution": false
    }
   },
   "outputs": [],
   "source": [
    "# Run this test cell to check your code\n",
    "# Do not delete this cell\n",
    "nt.assert_almost_equal(7907, approx_pi_2(1e-9)[1])\n",
    "print('All Tests Passed!!!')"
   ]
  },
  {
   "cell_type": "markdown",
   "metadata": {
    "deletable": false,
    "editable": false,
    "nbgrader": {
     "checksum": "839ba0cdd00a020147a4477cae7f9578",
     "grade": false,
     "grade_id": "cell-994a3341e0c754d4",
     "locked": true,
     "schema_version": 1,
     "solution": false
    }
   },
   "source": [
    "### Question 3\n",
    "\n",
    "A palindromic number reads the same both ways. The largest palindrome made from the product of two 2-digit numbers is $9009 = 91 \\times 99$. Write a function that finds the largest palindrome made from the product of two n-digit numbers."
   ]
  },
  {
   "cell_type": "code",
   "execution_count": null,
   "metadata": {
    "deletable": false,
    "nbgrader": {
     "checksum": "a8f8c0e13f80d6a9ae2e648245e092ba",
     "grade": false,
     "grade_id": "cell-87cf70d3a46f73d3",
     "locked": false,
     "schema_version": 1,
     "solution": true
    }
   },
   "outputs": [],
   "source": [
    "def palindrome_largest(n):\n",
    "    \"\"\"\n",
    "    Inputs:\n",
    "              n : the number of digits for each number, i.e. 2, 3, etc.\n",
    "    Outputs:\n",
    "        largest : the largest palindrome from the product of two n-digit numbers \n",
    "    \"\"\"\n",
    "    # YOUR CODE HERE\n",
    "    raise NotImplementedError()"
   ]
  },
  {
   "cell_type": "code",
   "execution_count": null,
   "metadata": {
    "deletable": false,
    "editable": false,
    "nbgrader": {
     "checksum": "9dca1512bda171dc48599e276509256e",
     "grade": true,
     "grade_id": "cell-7b1839c9e4818550",
     "locked": true,
     "points": 3,
     "schema_version": 1,
     "solution": false
    }
   },
   "outputs": [],
   "source": [
    "# Run this test cell to check your code\n",
    "# Do not delete this cell\n",
    "assert(9009 == palindrome_largest(2))\n",
    "assert(906609 == palindrome_largest(3))\n",
    "print('All Tests Passed!!!')"
   ]
  },
  {
   "cell_type": "markdown",
   "metadata": {
    "deletable": false,
    "editable": false,
    "nbgrader": {
     "checksum": "4f7047fa303ea37cacee93d7dd796dfb",
     "grade": false,
     "grade_id": "cell-d3421328042e7f9f",
     "locked": true,
     "schema_version": 1,
     "solution": false
    }
   },
   "source": [
    "## Main Exercises\n",
    "\n",
    "### Question 1\n",
    "\n",
    "Write a function that performs the Bisection Method. Your function should take as inputs, the function handle $\\texttt{f}$, the domain, $\\texttt{a}$, $\\texttt{b}$ and a tolerance $\\texttt{tol}$. The function should return the final values for `a`  and `b`. Control the tolerance of your loop with `abs(a - b)`."
   ]
  },
  {
   "cell_type": "code",
   "execution_count": null,
   "metadata": {
    "deletable": false,
    "nbgrader": {
     "checksum": "393838c54b1052536a12151e19f283c3",
     "grade": false,
     "grade_id": "cell-f5a05c1c66c51d9b",
     "locked": false,
     "schema_version": 1,
     "solution": true
    }
   },
   "outputs": [],
   "source": [
    "def bisection(f, a, b, tol):\n",
    "    \"\"\"\n",
    "    Inputs:\n",
    "        f   : a anonymous function\n",
    "        a   : left endpoint\n",
    "        b   : right endpoint\n",
    "        tol : a scalar tolerance value\n",
    "    Outputs:\n",
    "        vals: the final domain [a, b] - numpy array\n",
    "    \"\"\"\n",
    "    # YOUR CODE HERE\n",
    "    raise NotImplementedError()\n"
   ]
  },
  {
   "cell_type": "code",
   "execution_count": null,
   "metadata": {
    "deletable": false,
    "editable": false,
    "nbgrader": {
     "checksum": "515e2018fc4fe1708e18b2d7fc050317",
     "grade": true,
     "grade_id": "cell-a598e674ea8178b4",
     "locked": true,
     "points": 3,
     "schema_version": 1,
     "solution": false
    }
   },
   "outputs": [],
   "source": [
    "# Run this test cell to check your code\n",
    "# Do not delete this cell\n",
    "f   = lambda x: x**2 - 1\n",
    "a   = 0\n",
    "b   = 3\n",
    "tol = 1e-7\n",
    "nt.assert_array_almost_equal(np.array([0.9999999403953552, 1.0000000298023224]), bisection(f, a, b, tol))\n",
    "print('All Tests Passed!!!')"
   ]
  },
  {
   "cell_type": "markdown",
   "metadata": {
    "deletable": false,
    "editable": false,
    "nbgrader": {
     "checksum": "a9d97a61ad3150881d6ee31a4a571dc8",
     "grade": false,
     "grade_id": "cell-6314d14d9fff1b7f",
     "locked": true,
     "schema_version": 1,
     "solution": false
    }
   },
   "source": [
    "### Question 2\n",
    "\n",
    "Write a function that performs the False Position Method. Your function should take as inputs, the function handle $\\texttt{f}$, the domain, $\\texttt{a}$, $\\texttt{b}$ and a tolerance $\\texttt{tol}$. You should control your tolerance with the `abs(f(c))`. The function should return the approximation of the root, i.e. the final `c` value."
   ]
  },
  {
   "cell_type": "code",
   "execution_count": null,
   "metadata": {
    "code_folding": [],
    "deletable": false,
    "nbgrader": {
     "checksum": "9211b6d8298fa66fc8e925c67b5dca16",
     "grade": false,
     "grade_id": "cell-6254e2f8372848f4",
     "locked": false,
     "schema_version": 1,
     "solution": true
    }
   },
   "outputs": [],
   "source": [
    "def false_position(f, a, b, tol):\n",
    "    \"\"\"\n",
    "    Inputs:\n",
    "        f   : a anonymous function\n",
    "        a   : left endpoint\n",
    "        b   : right endpoint\n",
    "        tol : a scalar tolerance value\n",
    "    Outputs:\n",
    "        vals: the final c value - scalar\n",
    "    \"\"\"\n",
    "    # YOUR CODE HERE\n",
    "    raise NotImplementedError()\n"
   ]
  },
  {
   "cell_type": "code",
   "execution_count": null,
   "metadata": {
    "deletable": false,
    "editable": false,
    "nbgrader": {
     "checksum": "55db3385a5fc9a65cbe0e5a3dbfea716",
     "grade": true,
     "grade_id": "cell-65d2be6c3f082c94",
     "locked": true,
     "points": 3,
     "schema_version": 1,
     "solution": false
    }
   },
   "outputs": [],
   "source": [
    "# Run this test cell to check your code\n",
    "# Do not delete this cell\n",
    "f   = lambda x: x**2 - 1\n",
    "a   = 0\n",
    "b   = 3\n",
    "tol = 1e-7\n",
    "nt.assert_almost_equal(0.9999999701976782, false_position(f, a, b, tol))\n",
    "print('All Tests Passed!!!')"
   ]
  },
  {
   "cell_type": "markdown",
   "metadata": {
    "deletable": false,
    "editable": false,
    "nbgrader": {
     "checksum": "cfc500d5c79199eab229587b032083e3",
     "grade": false,
     "grade_id": "cell-5739d46616a7924c",
     "locked": true,
     "schema_version": 1,
     "solution": false
    }
   },
   "source": [
    "### Question 3\n",
    "\n",
    "Write a function that performs Newton's Method. Your function should take as input the function handle $\\texttt{f}$, the derivative the function handle $\\texttt{g}$, the initial guess $\\texttt{x0}$ and a tolerance $\\texttt{tol}$. You should control your tolerance with `abs(xnew - x0)`. The function should return the approximation of the root."
   ]
  },
  {
   "cell_type": "code",
   "execution_count": null,
   "metadata": {
    "deletable": false,
    "nbgrader": {
     "checksum": "60938b7067f351c92a52766b8221a8a8",
     "grade": false,
     "grade_id": "cell-8199c1477f6cffe0",
     "locked": false,
     "schema_version": 1,
     "solution": true
    }
   },
   "outputs": [],
   "source": [
    "def newton_method(f, g, x0, tol):\n",
    "    \"\"\"\n",
    "    Inputs:\n",
    "        f   : a anonymous function\n",
    "        g   : the derivative of f (anonymous function)\n",
    "        x0  : the initial guess\n",
    "        tol : a scalar tolerance value\n",
    "    Outputs:\n",
    "        vals: the final x value - scalar\n",
    "    \"\"\"\n",
    "    # YOUR CODE HERE\n",
    "    raise NotImplementedError()"
   ]
  },
  {
   "cell_type": "code",
   "execution_count": null,
   "metadata": {
    "deletable": false,
    "editable": false,
    "nbgrader": {
     "checksum": "258befce585d8b57b2a67503309b018d",
     "grade": true,
     "grade_id": "cell-18f6a038e1092259",
     "locked": true,
     "points": 3,
     "schema_version": 1,
     "solution": false
    }
   },
   "outputs": [],
   "source": [
    "# Run this test cell to check your code\n",
    "# Do not delete this cell\n",
    "f   = lambda x: x**2 - 1\n",
    "g   = lambda x: 2*x\n",
    "tol = 1e-3\n",
    "x0  = 3\n",
    "nt.assert_almost_equal(1.0000000004656613, newton_method(f, g, x0, tol))\n",
    "print('All Tests Passed!!!')"
   ]
  }
 ],
 "metadata": {
  "kernelspec": {
   "display_name": "Python 3",
   "language": "python",
   "name": "python3"
  },
  "language_info": {
   "codemirror_mode": {
    "name": "ipython",
    "version": 3
   },
   "file_extension": ".py",
   "mimetype": "text/x-python",
   "name": "python",
   "nbconvert_exporter": "python",
   "pygments_lexer": "ipython3",
   "version": "3.6.6"
  },
  "latex_envs": {
   "LaTeX_envs_menu_present": true,
   "autoclose": false,
   "autocomplete": true,
   "bibliofile": "biblio.bib",
   "cite_by": "apalike",
   "current_citInitial": 1,
   "eqLabelWithNumbers": true,
   "eqNumInitial": 1,
   "hotkeys": {
    "equation": "Ctrl-E",
    "itemize": "Ctrl-I"
   },
   "labels_anchors": false,
   "latex_user_defs": false,
   "report_style_numbering": false,
   "user_envs_cfg": false
  },
  "varInspector": {
   "cols": {
    "lenName": 16,
    "lenType": 16,
    "lenVar": 40
   },
   "kernels_config": {
    "python": {
     "delete_cmd_postfix": "",
     "delete_cmd_prefix": "del ",
     "library": "var_list.py",
     "varRefreshCmd": "print(var_dic_list())"
    },
    "r": {
     "delete_cmd_postfix": ") ",
     "delete_cmd_prefix": "rm(",
     "library": "var_list.r",
     "varRefreshCmd": "cat(var_dic_list()) "
    }
   },
   "types_to_exclude": [
    "module",
    "function",
    "builtin_function_or_method",
    "instance",
    "_Feature"
   ],
   "window_display": false
  }
 },
 "nbformat": 4,
 "nbformat_minor": 2
}
