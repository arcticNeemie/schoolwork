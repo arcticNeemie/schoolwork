{
 "cells": [
  {
   "cell_type": "code",
   "execution_count": null,
   "metadata": {},
   "outputs": [],
   "source": [
    "# Initialisation Cell\n",
    "from matplotlib import pyplot as plt\n",
    "from IPython.display import display, HTML, Javascript\n",
    "from math import *\n",
    "import seaborn as sns\n",
    "import pandas as pd\n",
    "import numpy as np\n",
    "import numpy.testing as nt\n",
    "import time"
   ]
  },
  {
   "cell_type": "markdown",
   "metadata": {
    "deletable": false,
    "editable": false,
    "nbgrader": {
     "checksum": "984097e0a77c7909d06ee809b98801c3",
     "grade": false,
     "grade_id": "cell-216430db041a81a7",
     "locked": true,
     "schema_version": 1,
     "solution": false
    }
   },
   "source": [
    "# Numerical Analysis II - Lab 3\n",
    "\n",
    "\n",
    "## Instructions\n",
    "\n",
    "* Read all the instructions carefully.\n",
    "* **Numpy** has a help file for every function if you get stuck. See: https://docs.scipy.org/doc/numpy-1.14.5/reference/\n",
    "* See these useful links:\n",
    "    * https://docs.scipy.org/doc/numpy/user/numpy-for-matlab-users.html\n",
    "    * https://docs.scipy.org/doc/numpy/user/quickstart.html\n",
    "* **Numpy** is not always required.\n",
    "* There are also numerous sources available on the internet, Google is your friend!\n",
    "* To launch jupyter correctly in the labs using vmuser, type the following at the terminal:\n",
    "    `/usr/local/anaconda3/bin/jupyter-notebook`"
   ]
  },
  {
   "cell_type": "markdown",
   "metadata": {
    "deletable": false,
    "editable": false,
    "nbgrader": {
     "checksum": "ff07c581346dac359144e1c5fe97804c",
     "grade": false,
     "grade_id": "cell-4c122aa8f4cb278d",
     "locked": true,
     "schema_version": 1,
     "solution": false
    }
   },
   "source": [
    "## Warm-up Exercises\n",
    "\n",
    "### Question 1\n",
    "\n",
    "The prime 41, can be written as the sum of six consecutive primes:\n",
    "$$\n",
    "41 = 2 + 3 + 5 + 7 + 11 + 13\n",
    "$$\n",
    "This is the longest sum of consecutive primes that adds to a prime below one-hundred. The longest sum of consecutive primes below one-thousand that adds to a prime, contains 21 terms, and is equal to 953. Write a function which takes in `n` and finds the longest sum of primes below this number which sum to a prime.\n",
    "\n",
    "**Hint:** Use the sieve developed for primes from the earlier lab. \n",
    "\n",
    "**Note:** The time limits for the varying sized inputs.\n"
   ]
  },
  {
   "cell_type": "code",
   "execution_count": null,
   "metadata": {
    "deletable": false,
    "nbgrader": {
     "checksum": "7cac7cb2ef7268477d5a3560699edafd",
     "grade": false,
     "grade_id": "cell-d2506e985e5350d9",
     "locked": false,
     "schema_version": 1,
     "solution": true
    }
   },
   "outputs": [],
   "source": [
    "def prime_chain(n):\n",
    "    \"\"\"\n",
    "    Inputs: \n",
    "        n : the upper bound that the sequence of primes may not exceed - scalar\n",
    "    Output:\n",
    "        max_prime  : the maximum prime corresponding to the longest sum\n",
    "        max_length : the length of the sequence of primes - scalar\n",
    "    \"\"\"\n",
    "    # YOUR CODE HERE\n",
    "    raise NotImplementedError()"
   ]
  },
  {
   "cell_type": "code",
   "execution_count": null,
   "metadata": {
    "deletable": false,
    "editable": false,
    "nbgrader": {
     "checksum": "e293b6f576e9b61de6e8e366ee3e0e88",
     "grade": true,
     "grade_id": "cell-f72029192b2be785",
     "locked": true,
     "points": 1,
     "schema_version": 1,
     "solution": false
    }
   },
   "outputs": [],
   "source": [
    "# Run this test cell to check your code\n",
    "# Do not delete this cell\n",
    "# unit test\n",
    "# 1 Mark\n",
    "\n",
    "assert(41 == prime_chain(100)[0])\n",
    "assert(6 == prime_chain(100)[1])\n",
    "print('All Tests Passed!!!')\n",
    "\n"
   ]
  },
  {
   "cell_type": "code",
   "execution_count": null,
   "metadata": {
    "deletable": false,
    "editable": false,
    "nbgrader": {
     "checksum": "7b78449256ea5fe172a4b8994d39e429",
     "grade": true,
     "grade_id": "cell-59f048f596b43f02",
     "locked": true,
     "points": 1,
     "schema_version": 1,
     "solution": false
    }
   },
   "outputs": [],
   "source": [
    "# Run this test cell to check your code\n",
    "# Do not delete this cell\n",
    "# small input\n",
    "# 1 Marks\n",
    "\n",
    "assert(953 == prime_chain(1000)[0])\n",
    "assert(21 == prime_chain(1000)[1])\n",
    "print('All Tests Passed!!!')"
   ]
  },
  {
   "cell_type": "code",
   "execution_count": null,
   "metadata": {
    "deletable": false,
    "editable": false,
    "nbgrader": {
     "checksum": "3d2f7b3d6fa243440648c28277fa0bb5",
     "grade": true,
     "grade_id": "cell-aa2d65369223d7c5",
     "locked": true,
     "points": 1,
     "schema_version": 1,
     "solution": false
    }
   },
   "outputs": [],
   "source": [
    "# Run this test cell to check your code\n",
    "# Do not delete this cell\n",
    "# medium input\n",
    "#--------------------------\n",
    "# 15 second time limit\n",
    "#--------------------------\n",
    "# 1 Mark\n",
    "\n",
    "start      = time.time()\n",
    "time_limit = 15\n",
    "\n",
    "assert((9521, 65) == prime_chain(10000))\n",
    "if abs(time.time() - start) < time_limit:\n",
    "    print('All Tests Passed!!!')\n",
    "else:\n",
    "    raise AssertionError('Program Too Slow!!!')\n",
    " "
   ]
  },
  {
   "cell_type": "code",
   "execution_count": null,
   "metadata": {
    "deletable": false,
    "editable": false,
    "nbgrader": {
     "checksum": "e50759bebdf75b1f5b2ebdbff9b9846f",
     "grade": true,
     "grade_id": "cell-691c66a46631903a",
     "locked": true,
     "points": 1,
     "schema_version": 1,
     "solution": false
    }
   },
   "outputs": [],
   "source": [
    "# Run this test cell to check your code\n",
    "# Do not delete this cell\n",
    "# large inputs\n",
    "#--------------------------\n",
    "# 30 second time limit\n",
    "#--------------------------\n",
    "# 1 Mark\n",
    "\n",
    "start      = time.time()\n",
    "time_limit = 30\n",
    "\n",
    "assert((92951, 183) == prime_chain(100000))\n",
    "if abs(time.time() - start) < time_limit:\n",
    "    print('All Tests Passed!!!')\n",
    "else:\n",
    "    raise AssertionError('Program Too Slow!!!')\n"
   ]
  },
  {
   "cell_type": "code",
   "execution_count": null,
   "metadata": {
    "deletable": false,
    "editable": false,
    "nbgrader": {
     "checksum": "7bc9b8ca73e46f4d01bc1686f712a17a",
     "grade": true,
     "grade_id": "cell-ecc0b175512d51a4",
     "locked": true,
     "points": 1,
     "schema_version": 1,
     "solution": false
    }
   },
   "outputs": [],
   "source": [
    "# Run this test cell to check your code\n",
    "# Do not delete this cell\n",
    "# large inputs\n",
    "#--------------------------\n",
    "# 60 second time limit\n",
    "#--------------------------\n",
    "# 1 Mark\n",
    "\n",
    "start      = time.time()\n",
    "time_limit = 60\n",
    "\n",
    "assert((997651, 543) == prime_chain(1000000))\n",
    "if abs(time.time() - start) < time_limit:\n",
    "    print('All Tests Passed!!!')\n",
    "else:\n",
    "    raise AssertionError('Program Too Slow!!!')\n"
   ]
  },
  {
   "cell_type": "code",
   "execution_count": null,
   "metadata": {
    "deletable": false,
    "editable": false,
    "nbgrader": {
     "checksum": "dc85f3ec0109c1e8a0facaa31a8f9f49",
     "grade": true,
     "grade_id": "cell-82e2d53721690905",
     "locked": true,
     "points": 2,
     "schema_version": 1,
     "solution": false
    }
   },
   "outputs": [],
   "source": [
    "# Run this test cell to check your code\n",
    "# Do not delete this cell\n",
    "#--------------------------\n",
    "# 60 second time limit\n",
    "#--------------------------\n",
    "# huge inputs\n",
    "# 2 Marks\n",
    "\n",
    "start      = time.time()\n",
    "time_limit = 60\n",
    "assert((9951191, 1587) == prime_chain(10000000))\n",
    "if abs(time.time() - start) < time_limit:\n",
    "    print('All Tests Passed!!!')\n",
    "else:\n",
    "    raise AssertionError('Program Too Slow!!!')\n"
   ]
  },
  {
   "cell_type": "markdown",
   "metadata": {
    "deletable": false,
    "editable": false,
    "nbgrader": {
     "checksum": "c5ccc4b45a8fe60b2c6478dfd92516f9",
     "grade": false,
     "grade_id": "cell-2f1ee87ee577cbf1",
     "locked": true,
     "schema_version": 1,
     "solution": false
    }
   },
   "source": [
    "### Question 2\n",
    "\n",
    "A Pythagorean triplet is the set of three natural numbers, $a < b < c$, for which,\n",
    "$$\n",
    "a^2 + b^2 = c^2.\n",
    "$$\n",
    "For example, $3^2 + 4^2 = 9 + 16  = 25 = 5^2.$ \n",
    "Write a function `py_triplet` which takes as input `total` (the sum: $a + b + c$) and returns the sides of the Pythagorean triplet `a`, `b`, `c` and the product `abc` if it exists. Otherwise the function should return the string, ` 'No pythagorean triplet satisfies that total'`."
   ]
  },
  {
   "cell_type": "code",
   "execution_count": null,
   "metadata": {
    "deletable": false,
    "nbgrader": {
     "checksum": "1d160d6bf220e3e643bc64190b765537",
     "grade": false,
     "grade_id": "cell-502b06418275b9e2",
     "locked": false,
     "schema_version": 1,
     "solution": true
    }
   },
   "outputs": [],
   "source": [
    "def py_triplet(total):\n",
    "    \"\"\"\n",
    "    Inputs:\n",
    "        total : an the input of a, b, c. That is (a + b + c) = total. Scalar input\n",
    "    Outputs:\n",
    "        string  : where the string is: 'No pythagorean triplet satisfies that total' - only if there is not feasible triplet\n",
    "        results : the tuple (a, b, c, a*b*c) corresponding to (a + b + c) = total\n",
    "    \"\"\"\n",
    "    # YOUR CODE HERE\n",
    "    raise NotImplementedError()\n"
   ]
  },
  {
   "cell_type": "code",
   "execution_count": null,
   "metadata": {
    "deletable": false,
    "editable": false,
    "nbgrader": {
     "checksum": "7ba37aa01560fd720046e9cdbe108e6e",
     "grade": true,
     "grade_id": "cell-c80dd3fe79b1196f",
     "locked": true,
     "points": 1,
     "schema_version": 1,
     "solution": false
    }
   },
   "outputs": [],
   "source": [
    "# Run this test cell to check your code\n",
    "# Do not delete this cell\n",
    "# unit test\n",
    "# 1 Mark\n",
    "\n",
    "assert((3, 4, 5, 60) == py_triplet(12))\n",
    "print('All Tests Passed!!!')"
   ]
  },
  {
   "cell_type": "code",
   "execution_count": null,
   "metadata": {
    "deletable": false,
    "editable": false,
    "nbgrader": {
     "checksum": "c648f603a44db5d1a6b529856dde4341",
     "grade": true,
     "grade_id": "cell-dda59f97c4720764",
     "locked": true,
     "points": 1,
     "schema_version": 1,
     "solution": false
    }
   },
   "outputs": [],
   "source": [
    "# Run this test cell to check your code\n",
    "# Do not delete this cell\n",
    "# unit test\n",
    "# 1 Mark\n",
    "\n",
    "assert('No pythagorean triplet satisfies that total' == py_triplet(7))\n",
    "print('All Tests Passed!!!')"
   ]
  },
  {
   "cell_type": "code",
   "execution_count": null,
   "metadata": {
    "deletable": false,
    "editable": false,
    "nbgrader": {
     "checksum": "6e1e80eb78a7d038ce201e901ac4373f",
     "grade": true,
     "grade_id": "cell-2420d53948216e91",
     "locked": true,
     "points": 1,
     "schema_version": 1,
     "solution": false
    }
   },
   "outputs": [],
   "source": [
    "# Run this test cell to check your code\n",
    "# Do not delete this cell\n",
    "# small input\n",
    "# 1 Mark\n",
    "\n",
    "assert((20, 21, 29, 12180) == py_triplet(70))\n",
    "print('All Tests Passed!!!')"
   ]
  },
  {
   "cell_type": "code",
   "execution_count": null,
   "metadata": {
    "deletable": false,
    "editable": false,
    "nbgrader": {
     "checksum": "50ce847e022821f962c8b0b58806c277",
     "grade": true,
     "grade_id": "cell-9b18cd07e11cddef",
     "locked": true,
     "points": 3,
     "schema_version": 1,
     "solution": false
    }
   },
   "outputs": [],
   "source": [
    "# Run this test cell to check your code\n",
    "# Do not delete this cell\n",
    "# large input\n",
    "# 3 Marks\n",
    "\n",
    "start      = time.time()\n",
    "time_limit = 30\n",
    "assert((200, 375, 425, 31875000) == py_triplet(1000))\n",
    "if abs(time.time() - start) < time_limit:    \n",
    "    print('All Tests Passed!!!')\n",
    "else:\n",
    "    raise AssertionError('Program Too Slow!!!')"
   ]
  },
  {
   "cell_type": "markdown",
   "metadata": {
    "deletable": false,
    "editable": false,
    "nbgrader": {
     "checksum": "95e459601f495c5e748a2771633c309e",
     "grade": false,
     "grade_id": "cell-7de837ff5454b6a7",
     "locked": true,
     "schema_version": 1,
     "solution": false
    }
   },
   "source": [
    "### Question 3\n",
    "\n",
    "\n",
    "\t\n",
    "The following iterative sequence is defined for the set of positive integers:\n",
    "$$\n",
    "\\begin{cases}\n",
    "n \\rightarrow n/2\\ \\ (n\\ \\ \\text{is even}) \\\\\n",
    "n \\rightarrow 3n + 1\\ \\ (n\\ \\ \\text{is odd})\n",
    "\\end{cases}\n",
    "$$\n",
    "Using this rule and starting with 13, we generate the following sequence:\n",
    "$$13 \\rightarrow 40 \\rightarrow 20 \\rightarrow 10 \\rightarrow 5 \\rightarrow 16 \\rightarrow 8 \\rightarrow 4 \\rightarrow 2 \\rightarrow 1$$\n",
    "It can be seen that this sequence (starting at 13 and finishing at 1) contains 10 terms. Although it has not been proven, it is thought that all starting numbers finish at 1. \n",
    "Write a function `longest_sequence` which takes in a upper bound integer `start` and finds which integer less than or equal to `start` that produces the longest sequence."
   ]
  },
  {
   "cell_type": "code",
   "execution_count": null,
   "metadata": {
    "deletable": false,
    "nbgrader": {
     "checksum": "09b762c8c1ba22aac5cde2ddb3c44097",
     "grade": false,
     "grade_id": "cell-15b7b9f2d503cfcb",
     "locked": false,
     "schema_version": 1,
     "solution": true
    }
   },
   "outputs": [],
   "source": [
    "def longest_sequence(start):\n",
    "    \"\"\"\n",
    "    Inputs:\n",
    "        start : the upper bound of starting number\n",
    "    Outputs:\n",
    "        result : the tuple containing the length of the longest sequence and the starting value which obtained it\n",
    "    \"\"\"\n",
    "    # YOUR CODE HERE\n",
    "    raise NotImplementedError()\n",
    "\n"
   ]
  },
  {
   "cell_type": "code",
   "execution_count": null,
   "metadata": {
    "deletable": false,
    "editable": false,
    "nbgrader": {
     "checksum": "038899e67173f9bb34923cad948f6b69",
     "grade": true,
     "grade_id": "cell-f22f4299a85730e6",
     "locked": true,
     "points": 1,
     "schema_version": 1,
     "solution": false
    }
   },
   "outputs": [],
   "source": [
    "# Run this test cell to check your code\n",
    "# Do not delete this cell\n",
    "# unit test\n",
    "# 1 Mark\n",
    "\n",
    "assert((20, 9) == longest_sequence(10))\n",
    "print('All Tests Passed!!!')"
   ]
  },
  {
   "cell_type": "code",
   "execution_count": null,
   "metadata": {
    "deletable": false,
    "editable": false,
    "nbgrader": {
     "checksum": "a39314db5698168767251c648b47345d",
     "grade": true,
     "grade_id": "cell-c18d07f821eccd0b",
     "locked": true,
     "points": 1,
     "schema_version": 1,
     "solution": false
    }
   },
   "outputs": [],
   "source": [
    "# Run this test cell to check your code\n",
    "# Do not delete this cell\n",
    "# small input\n",
    "# 1 Mark\n",
    "\n",
    "assert((179, 871) == longest_sequence(1000))\n",
    "print('All Tests Passed!!!')"
   ]
  },
  {
   "cell_type": "code",
   "execution_count": null,
   "metadata": {
    "deletable": false,
    "editable": false,
    "nbgrader": {
     "checksum": "e26a2eba58e0aab2e2341d2d0de017d8",
     "grade": true,
     "grade_id": "cell-dbe66a9d49d18577",
     "locked": true,
     "points": 2,
     "schema_version": 1,
     "solution": false
    }
   },
   "outputs": [],
   "source": [
    "# Run this test cell to check your code\n",
    "# Do not delete this cell\n",
    "# large input\n",
    "# 2 Marks\n",
    "\n",
    "start      = time.time()\n",
    "time_limit = 30\n",
    "assert((525, 837799) == longest_sequence(1000000))\n",
    "if abs(time.time() - start) < time_limit:\n",
    "    print('All Tests Passed!!!')\n",
    "else:\n",
    "    raise AssertionError('Program Too Slow!!!')"
   ]
  },
  {
   "cell_type": "markdown",
   "metadata": {
    "deletable": false,
    "editable": false,
    "nbgrader": {
     "checksum": "cdda9d2fb3bcdfcd5542ec2e994cc3b1",
     "grade": false,
     "grade_id": "cell-c0d1e69d8a93ab1f",
     "locked": true,
     "schema_version": 1,
     "solution": false
    }
   },
   "source": [
    "## Main Exercises\n",
    "\n",
    "Complete the following problems:\n",
    "\n",
    "### Question 1\n",
    "\n",
    "1. Write a function that implements Newton's Method for systems called `newton_system`. The function takes in as inputs, the system of equations, `F`, the Jacobian `J`, the initial guess `x` and the tolerance `tol`. The function should return the tuple of the approximation and the number of iterations required. Use `abs(norm(F(x))` to control your tolerance.\n",
    "\n"
   ]
  },
  {
   "cell_type": "code",
   "execution_count": null,
   "metadata": {
    "deletable": false,
    "nbgrader": {
     "checksum": "d5bb0f225b9bb9ca29161141adc25064",
     "grade": false,
     "grade_id": "cell-2f98686877a5a4f9",
     "locked": false,
     "schema_version": 1,
     "solution": true
    }
   },
   "outputs": [],
   "source": [
    "def newton_system(F, J, x, tol):\n",
    "    \"\"\"\n",
    "    Inputs:\n",
    "        F : numpy matrix of equations\n",
    "        J : the jacobian - numpy matrix\n",
    "        x : initial guess - numpy array\n",
    "    Outputs:\n",
    "        x  : final approximation - numpy array\n",
    "        it : the number of iterations required\n",
    "    \"\"\"\n",
    "    # YOUR CODE HERE\n",
    "    raise NotImplementedError()"
   ]
  },
  {
   "cell_type": "code",
   "execution_count": null,
   "metadata": {
    "deletable": false,
    "editable": false,
    "nbgrader": {
     "checksum": "58d5048f4301ce38a92d6a1b6b38012d",
     "grade": true,
     "grade_id": "cell-eeafa6decd30db8d",
     "locked": true,
     "points": 2,
     "schema_version": 1,
     "solution": false
    }
   },
   "outputs": [],
   "source": [
    "# Run this test cell to check your code\n",
    "# Do not delete this cell\n",
    "# 2 Marks\n",
    "\n",
    "F   = lambda x: np.array([x[0]**3 - 3*x[0]*x[1]**2 - 1, \n",
    "                          3*x[0]**2*x[1] - x[1]**3])\n",
    "J   = lambda x: np.array([[3*x[0]**2 - 3*x[1]**2, -6*x[0]*x[1]], \n",
    "                          [6*x[0]*x[1], 3*x[0]**2 - 3*x[1]**2]])\n",
    "x0     = np.array([-.6, .6])\n",
    "tol    = 1e-6 \n",
    "newton_system(F, J, x0, tol)\n",
    "nt.assert_array_almost_equal([-0.5,0.86602539], newton_system(F, J, x0, tol)[0])\n",
    "print('All Tests Passed!!!')"
   ]
  },
  {
   "cell_type": "code",
   "execution_count": null,
   "metadata": {
    "deletable": false,
    "editable": false,
    "nbgrader": {
     "checksum": "a3078ae0c3e595a1921b2ce77b4c393a",
     "grade": true,
     "grade_id": "cell-2d36636e2432c682",
     "locked": true,
     "points": 2,
     "schema_version": 1,
     "solution": false
    }
   },
   "outputs": [],
   "source": [
    "# Run this test cell to check your code\n",
    "# Do not delete this cell\n",
    "# 2 Marks\n",
    "\n",
    "nt.assert_almost_equal(4, newton_system(F, J, x0, tol)[1])\n",
    "print('All Tests Passed!!!')"
   ]
  },
  {
   "cell_type": "markdown",
   "metadata": {
    "deletable": false,
    "editable": false,
    "nbgrader": {
     "checksum": "f60f18f663bd55f5fe8bb5a573403d25",
     "grade": false,
     "grade_id": "cell-79b8ac1c7b7bbea6",
     "locked": true,
     "schema_version": 1,
     "solution": false
    }
   },
   "source": [
    "### Question 2\n",
    "\n",
    "Write a function that implements the Power Method to compute the largest eigenvalue and corresponding eigenvector. The final eigenvector should be normalised according the infinity norm."
   ]
  },
  {
   "cell_type": "code",
   "execution_count": null,
   "metadata": {
    "deletable": false,
    "nbgrader": {
     "checksum": "cfe6e0db2f15a5accd9249324668dfc9",
     "grade": false,
     "grade_id": "cell-614e53b8625d4343",
     "locked": false,
     "schema_version": 1,
     "solution": true
    }
   },
   "outputs": [],
   "source": [
    "def power_method(A, x, n):\n",
    "    \"\"\"\n",
    "    Inputs:\n",
    "        A : a numpy matrix array\n",
    "        x : a initial guess, numpy vector\n",
    "        n : a scalar value - number of iterations to perform\n",
    "    Outputs:\n",
    "        lambda  : the dominant eigenvalue - scalar\n",
    "        evector : the corresponding eigenvector - numpy array\n",
    "    \"\"\"\n",
    "    # YOUR CODE HERE\n",
    "    raise NotImplementedError()\n",
    "\n",
    "\n"
   ]
  },
  {
   "cell_type": "code",
   "execution_count": null,
   "metadata": {
    "deletable": false,
    "editable": false,
    "nbgrader": {
     "checksum": "fe387c6afc3b0abfbb8f70fc0e0c5279",
     "grade": true,
     "grade_id": "cell-b777d8a216512d16",
     "locked": true,
     "points": 2,
     "schema_version": 1,
     "solution": false
    }
   },
   "outputs": [],
   "source": [
    "# Run this test cell to check your code\n",
    "# Do not delete this cell\n",
    "# 2 Marks\n",
    "\n",
    "A  = np.array([[1, 3], [2, 2]])\n",
    "x0 = np.array([-5, 5])\n",
    "n  = 15\n",
    "power_method(A, x0, n)\n",
    "nt.assert_array_almost_equal([1., 0.99999999], power_method(A, x0, n)[0])\n",
    "print('All Tests Passed!!!')"
   ]
  },
  {
   "cell_type": "code",
   "execution_count": null,
   "metadata": {
    "deletable": false,
    "editable": false,
    "nbgrader": {
     "checksum": "cb9e5283f808ff0aada5c5c7794551b3",
     "grade": true,
     "grade_id": "cell-55bf935c5a61d3c2",
     "locked": true,
     "points": 2,
     "schema_version": 1,
     "solution": false
    }
   },
   "outputs": [],
   "source": [
    "# Run this test cell to check your code\n",
    "# Do not delete this cell\n",
    "# 2 Marks\n",
    "\n",
    "A  = np.array([[1, 3], [2, 2]])\n",
    "x0 = np.array([-5, 5])\n",
    "n  = 15\n",
    "power_method(A, x0, n)\n",
    "nt.assert_almost_equal(4.00000001862645, power_method(A, x0, n)[1])\n",
    "print('All Tests Passed!!!')"
   ]
  }
 ],
 "metadata": {
  "kernelspec": {
   "display_name": "Python 3",
   "language": "python",
   "name": "python3"
  },
  "language_info": {
   "codemirror_mode": {
    "name": "ipython",
    "version": 3
   },
   "file_extension": ".py",
   "mimetype": "text/x-python",
   "name": "python",
   "nbconvert_exporter": "python",
   "pygments_lexer": "ipython3",
   "version": "3.6.5"
  },
  "latex_envs": {
   "LaTeX_envs_menu_present": true,
   "autoclose": false,
   "autocomplete": true,
   "bibliofile": "biblio.bib",
   "cite_by": "apalike",
   "current_citInitial": 1,
   "eqLabelWithNumbers": true,
   "eqNumInitial": 1,
   "hotkeys": {
    "equation": "Ctrl-E",
    "itemize": "Ctrl-I"
   },
   "labels_anchors": false,
   "latex_user_defs": false,
   "report_style_numbering": false,
   "user_envs_cfg": false
  },
  "varInspector": {
   "cols": {
    "lenName": 16,
    "lenType": 16,
    "lenVar": 40
   },
   "kernels_config": {
    "python": {
     "delete_cmd_postfix": "",
     "delete_cmd_prefix": "del ",
     "library": "var_list.py",
     "varRefreshCmd": "print(var_dic_list())"
    },
    "r": {
     "delete_cmd_postfix": ") ",
     "delete_cmd_prefix": "rm(",
     "library": "var_list.r",
     "varRefreshCmd": "cat(var_dic_list()) "
    }
   },
   "types_to_exclude": [
    "module",
    "function",
    "builtin_function_or_method",
    "instance",
    "_Feature"
   ],
   "window_display": false
  }
 },
 "nbformat": 4,
 "nbformat_minor": 2
}
