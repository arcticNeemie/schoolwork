{
 "cells": [
  {
   "cell_type": "code",
   "execution_count": null,
   "metadata": {
    "ExecuteTime": {
     "end_time": "2018-09-10T12:38:09.147861Z",
     "start_time": "2018-09-10T12:38:08.679927Z"
    }
   },
   "outputs": [],
   "source": [
    "# Initialisation Cell\n",
    "from matplotlib import pyplot as plt\n",
    "from IPython.display import display, HTML, Javascript\n",
    "from math import *\n",
    "import seaborn as sns\n",
    "import pandas as pd\n",
    "import numpy as np\n",
    "import numpy.testing as nt\n",
    "import time"
   ]
  },
  {
   "cell_type": "markdown",
   "metadata": {
    "deletable": false,
    "editable": false,
    "nbgrader": {
     "checksum": "8b7e53647a1523bb7fb4e1e506e9f05f",
     "grade": false,
     "grade_id": "cell-5ffa39c7934bfc74",
     "locked": true,
     "schema_version": 1,
     "solution": false
    }
   },
   "source": [
    "# Optimisation II - Lab 3\n",
    "\n",
    "\n",
    "## Instructions\n",
    "\n",
    "* Read all the instructions carefully.\n",
    "* **Numpy** has a help file for every function if you get stuck. See: https://docs.scipy.org/doc/numpy-1.14.5/reference/\n",
    "* See these useful links:\n",
    "    * https://docs.scipy.org/doc/numpy/user/numpy-for-matlab-users.html\n",
    "    * https://docs.scipy.org/doc/numpy/user/quickstart.html\n",
    "* **Numpy** is not always required.\n",
    "* There are also numerous sources available on the internet, Google is your friend!\n",
    "* To launch jupyter correctly in the labs using vmuser, type the following at the terminal:\n",
    "    `/usr/local/anaconda3/bin/jupyter-notebook`"
   ]
  },
  {
   "cell_type": "markdown",
   "metadata": {
    "deletable": false,
    "editable": false,
    "nbgrader": {
     "checksum": "b71aef8486f1c0c9ac997d9aaaa61768",
     "grade": false,
     "grade_id": "cell-f175a70d1cde6918",
     "locked": true,
     "schema_version": 1,
     "solution": false
    }
   },
   "source": [
    "## Warm-up Exercises\n",
    "\n",
    "\n",
    "\n",
    "### Question 1\n",
    "\n",
    "Write a function that called performs a multiplication table. The function takes in inputs, $n$ and $m$. The function outputs a $n\\times m$  matrix which is the resultant multiplication table. That is, the element at row $i$ and column $j$ equals to $i\\times j$. The function is also to have a second output which is the sum of all elements of the matrix.\n"
   ]
  },
  {
   "cell_type": "code",
   "execution_count": null,
   "metadata": {
    "ExecuteTime": {
     "end_time": "2018-09-10T12:38:09.152285Z",
     "start_time": "2018-09-10T12:38:09.149458Z"
    },
    "deletable": false,
    "nbgrader": {
     "checksum": "487e76bbdc6ea1628ff8020a3d2a9223",
     "grade": false,
     "grade_id": "cell-d4419213e8358355",
     "locked": false,
     "schema_version": 1,
     "solution": true
    }
   },
   "outputs": [],
   "source": [
    "def multi_table(n, m):\n",
    "    # YOUR CODE HERE\n",
    "    raise NotImplementedError()"
   ]
  },
  {
   "cell_type": "code",
   "execution_count": null,
   "metadata": {
    "ExecuteTime": {
     "end_time": "2018-09-10T12:38:09.163993Z",
     "start_time": "2018-09-10T12:38:09.153737Z"
    },
    "deletable": false,
    "editable": false,
    "nbgrader": {
     "checksum": "045a987c977cf726a9cfecf5860b261b",
     "grade": true,
     "grade_id": "cell-724c8d0b130b9158",
     "locked": true,
     "points": 1,
     "schema_version": 1,
     "solution": false
    }
   },
   "outputs": [],
   "source": [
    "# Run this test cell to check your code\n",
    "# Do not delete this cell\n",
    "# 1 Mark\n",
    "o1 = np.array([[  1.,   2.,   3.,   4.,   5.,   6.,   7.,   8.,   9.,  10.],\n",
    "               [  2.,   4.,   6.,   8.,  10.,  12.,  14.,  16.,  18.,  20.],\n",
    "               [  3.,   6.,   9.,  12.,  15.,  18.,  21.,  24.,  27.,  30.],\n",
    "               [  4.,   8.,  12.,  16.,  20.,  24.,  28.,  32.,  36.,  40.],\n",
    "               [  5.,  10.,  15.,  20.,  25.,  30.,  35.,  40.,  45.,  50.],\n",
    "               [  6.,  12.,  18.,  24.,  30.,  36.,  42.,  48.,  54.,  60.],\n",
    "               [  7.,  14.,  21.,  28.,  35.,  42.,  49.,  56.,  63.,  70.],\n",
    "               [  8.,  16.,  24.,  32.,  40.,  48.,  56.,  64.,  72.,  80.],\n",
    "               [  9.,  18.,  27.,  36.,  45.,  54.,  63.,  72.,  81.,  90.],\n",
    "               [ 10.,  20.,  30.,  40.,  50.,  60.,  70.,  80.,  90., 100.],\n",
    "               [ 11.,  22.,  33.,  44.,  55.,  66.,  77.,  88.,  99., 110.],\n",
    "               [ 12.,  24.,  36.,  48.,  60.,  72.,  84.,  96., 108., 120.]])\n",
    "\n",
    "nt.assert_array_equal(o1, multi_table(12, 10)[0])\n",
    "print('All Tests Passed!!!')"
   ]
  },
  {
   "cell_type": "code",
   "execution_count": null,
   "metadata": {
    "ExecuteTime": {
     "end_time": "2018-09-10T12:38:09.171766Z",
     "start_time": "2018-09-10T12:38:09.165762Z"
    },
    "deletable": false,
    "editable": false,
    "nbgrader": {
     "checksum": "c3dbd3fe9c344078ed9b9f9ae6b7843a",
     "grade": true,
     "grade_id": "cell-cb17d19bbfe95654",
     "locked": true,
     "points": 1,
     "schema_version": 1,
     "solution": false
    }
   },
   "outputs": [],
   "source": [
    "# Run this test cell to check your code\n",
    "# Do not delete this cell \n",
    "# 1 Mark\n",
    "nt.assert_array_equal(4290, multi_table(12, 10)[1])\n",
    "print('All Tests Passed!!!')"
   ]
  },
  {
   "cell_type": "markdown",
   "metadata": {
    "deletable": false,
    "editable": false,
    "nbgrader": {
     "checksum": "5f1a072c8b3d73ce9e24c5aaf87196c4",
     "grade": false,
     "grade_id": "cell-9bda32c28e14551b",
     "locked": true,
     "schema_version": 1,
     "solution": false
    }
   },
   "source": [
    "### Question 2\n",
    "\n",
    "Write a function that takes in three scalar inputs and returns these values in a single row vector of increasing order. The function may not use any builtin functions but must perform this task only using if statements (possibly nested)."
   ]
  },
  {
   "cell_type": "code",
   "execution_count": null,
   "metadata": {
    "ExecuteTime": {
     "end_time": "2018-09-10T12:38:09.178087Z",
     "start_time": "2018-09-10T12:38:09.173419Z"
    },
    "deletable": false,
    "nbgrader": {
     "checksum": "d7a81a33ffbc47e4e78134c6175dd599",
     "grade": false,
     "grade_id": "cell-93cca8afdbd291dc",
     "locked": false,
     "schema_version": 1,
     "solution": true
    }
   },
   "outputs": [],
   "source": [
    "def tri_sort(a, b, c):\n",
    "    # YOUR CODE HERE\n",
    "    raise NotImplementedError()"
   ]
  },
  {
   "cell_type": "code",
   "execution_count": null,
   "metadata": {
    "ExecuteTime": {
     "end_time": "2018-09-10T12:38:09.188097Z",
     "start_time": "2018-09-10T12:38:09.180665Z"
    },
    "deletable": false,
    "editable": false,
    "nbgrader": {
     "checksum": "66e518b81ebc1cb1d5b700390b80c56c",
     "grade": true,
     "grade_id": "cell-0f90471fb407fd6a",
     "locked": true,
     "points": 1,
     "schema_version": 1,
     "solution": false
    }
   },
   "outputs": [],
   "source": [
    "# Run this test cell to check your code\n",
    "# Do not delete this cell \n",
    "# 1 Mark\n",
    "nt.assert_array_equal(np.array([1, 5, 8]), tri_sort(5, 8, 1))\n",
    "print('All Tests Passed!!!')"
   ]
  },
  {
   "cell_type": "code",
   "execution_count": null,
   "metadata": {
    "ExecuteTime": {
     "end_time": "2018-09-10T12:38:09.195952Z",
     "start_time": "2018-09-10T12:38:09.190312Z"
    },
    "deletable": false,
    "editable": false,
    "nbgrader": {
     "checksum": "c364d76783c65aae77bb067e72f93f09",
     "grade": true,
     "grade_id": "cell-31305435a7ff7218",
     "locked": true,
     "points": 2,
     "schema_version": 1,
     "solution": false
    }
   },
   "outputs": [],
   "source": [
    "# Run this test cell to check your code\n",
    "# Do not delete this cell \n",
    "# 2 Mark\n",
    "old_sort = np.sort\n",
    "del np.sort\n",
    "try:\n",
    "    nt.assert_array_equal(np.array([1, 5, 8]), tri_sort(5, 8, 1))\n",
    "    print('All Tests Passed!!!')\n",
    "except AttributeError:\n",
    "    raise AssertionError('You may not use build-in functions for sorting!')\n",
    "finally:\n",
    "    np.sort = old_sort\n",
    "    "
   ]
  },
  {
   "cell_type": "markdown",
   "metadata": {
    "deletable": false,
    "editable": false,
    "nbgrader": {
     "checksum": "8d1105a57d5418b4ad2ab96c3892aa58",
     "grade": false,
     "grade_id": "cell-8c063f8ca9d96b14",
     "locked": true,
     "schema_version": 1,
     "solution": false
    }
   },
   "source": [
    "### Question 3\n",
    "\n",
    "Write a function that takes in one input argument, $x$. If $x$ is an empty matrix, the function must return -1. If $x$ is a scalar it must return $0$. If $x$ is a vector it must return 1. Finally, if $x$ is none of these it must return 2. You may not use any builtin function such as `𝚒𝚜𝚜𝚌𝚊𝚕𝚊𝚛` etc.\n",
    "\n"
   ]
  },
  {
   "cell_type": "code",
   "execution_count": null,
   "metadata": {
    "ExecuteTime": {
     "end_time": "2018-09-10T12:38:09.202708Z",
     "start_time": "2018-09-10T12:38:09.197430Z"
    },
    "deletable": false,
    "nbgrader": {
     "checksum": "2fd06175f2becefc3eaeae459d7a396c",
     "grade": false,
     "grade_id": "cell-a72418fe29efd23e",
     "locked": false,
     "schema_version": 1,
     "solution": true
    }
   },
   "outputs": [],
   "source": [
    "def classifier(x):\n",
    "    # YOUR CODE HERE\n",
    "    raise NotImplementedError()"
   ]
  },
  {
   "cell_type": "code",
   "execution_count": null,
   "metadata": {
    "ExecuteTime": {
     "end_time": "2018-09-10T12:38:09.213354Z",
     "start_time": "2018-09-10T12:38:09.204844Z"
    },
    "deletable": false,
    "editable": false,
    "nbgrader": {
     "checksum": "ed5f8fe9e2b3c5e44611c1b3acd75091",
     "grade": true,
     "grade_id": "cell-9d54beae06fc4634",
     "locked": true,
     "points": 1,
     "schema_version": 1,
     "solution": false
    }
   },
   "outputs": [],
   "source": [
    "# Run this test cell to check your code\n",
    "# Do not delete this cell \n",
    "# 1 Mark\n",
    "assert(2 == classifier(np.random.rand(2, 5)))\n",
    "print('All Tests Passed!!!')"
   ]
  },
  {
   "cell_type": "code",
   "execution_count": null,
   "metadata": {
    "ExecuteTime": {
     "end_time": "2018-09-10T12:38:09.220869Z",
     "start_time": "2018-09-10T12:38:09.215895Z"
    },
    "deletable": false,
    "editable": false,
    "nbgrader": {
     "checksum": "797d291b1bfd7cebd1b8ff2e1fe8364e",
     "grade": true,
     "grade_id": "cell-42d9a6f0f42b2e4d",
     "locked": true,
     "points": 1,
     "schema_version": 1,
     "solution": false
    }
   },
   "outputs": [],
   "source": [
    "# Run this test cell to check your code\n",
    "# Do not delete this cell \n",
    "# 1 Mark\n",
    "assert(1 == classifier(np.random.rand(1, 5)))\n",
    "print('All Tests Passed!!!')"
   ]
  },
  {
   "cell_type": "code",
   "execution_count": null,
   "metadata": {
    "ExecuteTime": {
     "end_time": "2018-09-10T12:38:09.228365Z",
     "start_time": "2018-09-10T12:38:09.222887Z"
    },
    "deletable": false,
    "editable": false,
    "nbgrader": {
     "checksum": "89ba25ad97206904af26ae40c26d4032",
     "grade": true,
     "grade_id": "cell-85906eaba1fca368",
     "locked": true,
     "points": 1,
     "schema_version": 1,
     "solution": false
    }
   },
   "outputs": [],
   "source": [
    "# Run this test cell to check your code\n",
    "# Do not delete this cell \n",
    "# 1 Mark\n",
    "assert(-1 == classifier(np.array([])))\n",
    "print('All Tests Passed!!!')"
   ]
  },
  {
   "cell_type": "code",
   "execution_count": null,
   "metadata": {
    "ExecuteTime": {
     "end_time": "2018-09-10T12:38:09.236206Z",
     "start_time": "2018-09-10T12:38:09.229942Z"
    },
    "deletable": false,
    "editable": false,
    "nbgrader": {
     "checksum": "00894745be6450b010fba78a64fb9643",
     "grade": true,
     "grade_id": "cell-53d833588f03cc02",
     "locked": true,
     "points": 1,
     "schema_version": 1,
     "solution": false
    }
   },
   "outputs": [],
   "source": [
    "# Run this test cell to check your code\n",
    "# Do not delete this cell \n",
    "# 1 Mark\n",
    "assert(0 == classifier([1]))\n",
    "print('All Tests Passed!!!')"
   ]
  },
  {
   "cell_type": "code",
   "execution_count": null,
   "metadata": {
    "ExecuteTime": {
     "end_time": "2018-09-10T12:38:09.245706Z",
     "start_time": "2018-09-10T12:38:09.238245Z"
    },
    "deletable": false,
    "editable": false,
    "nbgrader": {
     "checksum": "401b8ae542d101339643d518754c2c9d",
     "grade": true,
     "grade_id": "cell-08466bc9460b766f",
     "locked": true,
     "points": 4,
     "schema_version": 1,
     "solution": false
    }
   },
   "outputs": [],
   "source": [
    "# Run this test cell to check your code\n",
    "# Do not delete this cell \n",
    "# Hidden cases\n",
    "# 4 Mark\n",
    "\n",
    "\n"
   ]
  },
  {
   "cell_type": "markdown",
   "metadata": {
    "deletable": false,
    "editable": false,
    "nbgrader": {
     "checksum": "3db69e55eb399c3938270aa38f9ca0db",
     "grade": false,
     "grade_id": "cell-33d819c213acffcf",
     "locked": true,
     "schema_version": 1,
     "solution": false
    }
   },
   "source": [
    "## Main Exercises\n",
    "\n",
    "Complete the following problems:\n",
    "\n",
    "### Question 1\n",
    "\n",
    "Write a function `fixed_steepest_descent` which implements the method of Steepest Descent using a fixed step size. The function should take as inputs the multivariate function `f`, the gradient `g`, some initial guess `x`, the fixed step size `alpha` and some tolerance `tol`. Use `norm(x, 2)` to control your tolerance. The function should return the approximation to the minimum as well as the number of iterations required to find it.\n"
   ]
  },
  {
   "cell_type": "code",
   "execution_count": null,
   "metadata": {
    "ExecuteTime": {
     "end_time": "2018-09-10T12:39:26.643499Z",
     "start_time": "2018-09-10T12:39:26.638247Z"
    },
    "deletable": false,
    "nbgrader": {
     "checksum": "cde412f3d91b04fb4fe57fd02db3f7f4",
     "grade": false,
     "grade_id": "cell-f575685d404745fe",
     "locked": false,
     "schema_version": 1,
     "solution": true
    }
   },
   "outputs": [],
   "source": [
    "def fixed_steepest_descent(f, g, x, alpha, tol):\n",
    "    # YOUR CODE HERE\n",
    "    raise NotImplementedError()\n"
   ]
  },
  {
   "cell_type": "code",
   "execution_count": null,
   "metadata": {
    "ExecuteTime": {
     "end_time": "2018-09-10T12:39:00.212598Z",
     "start_time": "2018-09-10T12:39:00.206693Z"
    },
    "deletable": false,
    "editable": false,
    "nbgrader": {
     "checksum": "b68a2bda58fb5fcd92818e9926594deb",
     "grade": true,
     "grade_id": "cell-8a68c5415ecbcdc1",
     "locked": true,
     "points": 10,
     "schema_version": 1,
     "solution": false
    }
   },
   "outputs": [],
   "source": [
    "# Run this test cell to check your code\n",
    "# Do not delete this cell \n",
    "# 10 Marks\n",
    "f1    = lambda x: 2*x[0]**2 + 3*x[1]**2\n",
    "g1    = lambda x: np.array([-4*x[0], -6*x[1]])\n",
    "x0    = np.array([1, 1]) \n",
    "alpha = 52/280\n",
    "tol   = 1e-5\n",
    "\n",
    "nt.assert_array_almost_equal([ 4.91552813e-06, -3.32604042e-09], fixed_steepest_descent(f1, g1, x0, alpha, tol)[0])\n",
    "print('Test case passed!!!')"
   ]
  },
  {
   "cell_type": "code",
   "execution_count": null,
   "metadata": {
    "ExecuteTime": {
     "end_time": "2018-09-10T12:39:11.999039Z",
     "start_time": "2018-09-10T12:39:11.995201Z"
    },
    "deletable": false,
    "editable": false,
    "nbgrader": {
     "checksum": "4dbb2569c8000924f24d8fccc2d02b02",
     "grade": true,
     "grade_id": "cell-d856d4d834972723",
     "locked": true,
     "points": 5,
     "schema_version": 1,
     "solution": false
    }
   },
   "outputs": [],
   "source": [
    "# Run this test cell to check your code\n",
    "# Do not delete this cell \n",
    "# 5 Marks\n",
    "f1    = lambda x: 2*x[0]**2 + 3*x[1]**2\n",
    "g1    = lambda x: np.array([-4*x[0], -6*x[1]])\n",
    "x0    = np.array([1, 1]) \n",
    "alpha = 52/280\n",
    "tol   = 1e-5\n",
    "\n",
    "assert(9 == fixed_steepest_descent(f1, g1, x0, alpha, tol)[1])\n",
    "print('Test case passed!!!')"
   ]
  }
 ],
 "metadata": {
  "kernelspec": {
   "display_name": "Python 3",
   "language": "python",
   "name": "python3"
  },
  "language_info": {
   "codemirror_mode": {
    "name": "ipython",
    "version": 3
   },
   "file_extension": ".py",
   "mimetype": "text/x-python",
   "name": "python",
   "nbconvert_exporter": "python",
   "pygments_lexer": "ipython3",
   "version": "3.6.5"
  },
  "latex_envs": {
   "LaTeX_envs_menu_present": true,
   "autoclose": false,
   "autocomplete": false,
   "bibliofile": "biblio.bib",
   "cite_by": "apalike",
   "current_citInitial": 1,
   "eqLabelWithNumbers": true,
   "eqNumInitial": 1,
   "hotkeys": {
    "equation": "Ctrl-E",
    "itemize": "Ctrl-I"
   },
   "labels_anchors": false,
   "latex_user_defs": false,
   "report_style_numbering": false,
   "user_envs_cfg": false
  },
  "varInspector": {
   "cols": {
    "lenName": 16,
    "lenType": 16,
    "lenVar": 40
   },
   "kernels_config": {
    "python": {
     "delete_cmd_postfix": "",
     "delete_cmd_prefix": "del ",
     "library": "var_list.py",
     "varRefreshCmd": "print(var_dic_list())"
    },
    "r": {
     "delete_cmd_postfix": ") ",
     "delete_cmd_prefix": "rm(",
     "library": "var_list.r",
     "varRefreshCmd": "cat(var_dic_list()) "
    }
   },
   "types_to_exclude": [
    "module",
    "function",
    "builtin_function_or_method",
    "instance",
    "_Feature"
   ],
   "window_display": false
  }
 },
 "nbformat": 4,
 "nbformat_minor": 2
}
