{
 "cells": [
  {
   "cell_type": "code",
   "execution_count": 2,
   "metadata": {},
   "outputs": [],
   "source": [
    "# Initialisation Cell\n",
    "from matplotlib import pyplot as plt\n",
    "from IPython.display import display, HTML, Javascript\n",
    "from math import *\n",
    "import seaborn as sns\n",
    "import pandas as pd\n",
    "import numpy as np\n",
    "import numpy.testing as nt"
   ]
  },
  {
   "cell_type": "markdown",
   "metadata": {
    "deletable": false,
    "editable": false,
    "nbgrader": {
     "checksum": "c4b2f84ad9c54e9444ad35dce8c70470",
     "grade": false,
     "grade_id": "cell-40940d476e3bbf42",
     "locked": true,
     "schema_version": 1,
     "solution": false
    }
   },
   "source": [
    "# Optimisation II - Lab 1\n",
    "\n",
    "\n",
    "## Instructions\n",
    "\n",
    "* Read all the instructions carefully.\n",
    "* **Numpy** has a help file for every function if you get stuck. See: https://docs.scipy.org/doc/numpy-1.14.5/reference/\n",
    "* See these useful links:\n",
    "    * https://docs.scipy.org/doc/numpy/user/numpy-for-matlab-users.html\n",
    "    * https://docs.scipy.org/doc/numpy/user/quickstart.html\n",
    "* **Numpy** is not always required.\n",
    "* There are also numerous sources available on the internet, Google is your friend!"
   ]
  },
  {
   "cell_type": "markdown",
   "metadata": {
    "deletable": false,
    "editable": false,
    "nbgrader": {
     "checksum": "9f2005de4b05d24c8bedfa628045aa22",
     "grade": false,
     "grade_id": "cell-f706b4c0a8a930f3",
     "locked": true,
     "schema_version": 1,
     "solution": false
    }
   },
   "source": [
    "## Warm-up Exercises\n",
    "\n",
    "Complete the following warm-up tasks:\n",
    "### Question 1\n",
    "\n",
    "Write a function that will convert a decimal number to a binary number. The function must be able to handle a decimal of any length."
   ]
  },
  {
   "cell_type": "code",
   "execution_count": 25,
   "metadata": {
    "deletable": false,
    "nbgrader": {
     "checksum": "4b7a5c630d091d753651e8a6c6f60774",
     "grade": false,
     "grade_id": "cell-80ac4251514f5c19",
     "locked": false,
     "schema_version": 1,
     "solution": true
    }
   },
   "outputs": [],
   "source": [
    "def dec_to_bin(n):\n",
    "    \"\"\"\n",
    "    Inputs\n",
    "        n: a scalar real value\n",
    "    \n",
    "    Output\n",
    "        s: a binary string equal to n\n",
    "    \"\"\"\n",
    "    quotient = n\n",
    "    s = \"\"\n",
    "    while quotient != 0:\n",
    "        remainder = quotient % 2\n",
    "        quotient = quotient // 2\n",
    "        s = str(remainder) + s\n",
    "        \n",
    "    return s"
   ]
  },
  {
   "cell_type": "code",
   "execution_count": 26,
   "metadata": {
    "deletable": false,
    "editable": false,
    "nbgrader": {
     "checksum": "21e17d1df3954e8b546d39382eee3df1",
     "grade": true,
     "grade_id": "cell-6c3a3b0bd11b9679",
     "locked": true,
     "points": 1,
     "schema_version": 1,
     "solution": false
    }
   },
   "outputs": [
    {
     "name": "stdout",
     "output_type": "stream",
     "text": [
      "All Tests Passed!!!\n"
     ]
    }
   ],
   "source": [
    "# Run this test cell to check your code\n",
    "# Do not delete this cell\n",
    "nt.assert_string_equal('1101', dec_to_bin(13))\n",
    "print('All Tests Passed!!!')"
   ]
  },
  {
   "cell_type": "markdown",
   "metadata": {
    "deletable": false,
    "editable": false,
    "nbgrader": {
     "checksum": "7035eb63e1d7f1db4e37d61e42b2b00b",
     "grade": false,
     "grade_id": "cell-cbeafb83bffda83f",
     "locked": true,
     "schema_version": 1,
     "solution": false
    }
   },
   "source": [
    "### Question 2\n",
    "\n",
    "A string is simply an ordered collection of symbols selected from some alphabet and formed into a word; the length of a string is the number of symbols that it contains. An example of a length 21 DNA string (whose alphabet contains the symbols 'A', 'C', 'G', and 'T') is \"ATGCTTCAGAAAGGTCTTACG.\" Write a function that takes as input, a vector  $s$  and returns a vector of four integers counting the respective number of times that the symbols 'A', 'C', 'G', and 'T' occur in  $s$."
   ]
  },
  {
   "cell_type": "code",
   "execution_count": 31,
   "metadata": {
    "deletable": false,
    "nbgrader": {
     "checksum": "7f3b9c9fa2e73eaeb33b138aa68309c4",
     "grade": false,
     "grade_id": "cell-20a316b3cb0c9a7e",
     "locked": false,
     "schema_version": 1,
     "solution": true
    }
   },
   "outputs": [],
   "source": [
    "def dna(s):\n",
    "    \"\"\"\n",
    "    Inputs\n",
    "    s: a string of DNA sequence\n",
    "    \n",
    "    Outputs\n",
    "    occ_seq: a list of the number of times A, C, G and T occur (in this order)\n",
    "    \"\"\"\n",
    "    #ACGT\n",
    "    occ_seq = [0,0,0,0]\n",
    "    for i in s:\n",
    "        if i == \"A\":\n",
    "            occ_seq[0] += 1\n",
    "        elif i == \"C\":\n",
    "            occ_seq[1] += 1\n",
    "        elif i == \"G\":\n",
    "            occ_seq[2] += 1\n",
    "        elif i == \"T\":\n",
    "            occ_seq[3] += 1\n",
    "    return occ_seq\n",
    "\n",
    "    "
   ]
  },
  {
   "cell_type": "code",
   "execution_count": 32,
   "metadata": {
    "deletable": false,
    "editable": false,
    "nbgrader": {
     "checksum": "836a4e808c460c941b23152a601e1e31",
     "grade": true,
     "grade_id": "cell-b76fc117fec3caf5",
     "locked": true,
     "points": 1,
     "schema_version": 1,
     "solution": false
    }
   },
   "outputs": [
    {
     "name": "stdout",
     "output_type": "stream",
     "text": [
      "All Tests Passed!!!\n"
     ]
    }
   ],
   "source": [
    "# Run this test cell to check your code\n",
    "# Do not delete this cell\n",
    "s = 'ATGCTTCAGAAAGGTCTTACG'\n",
    "nt.assert_array_equal([6, 4, 5, 6], dna(s), err_msg='incorrect function')\n",
    "print('All Tests Passed!!!')"
   ]
  },
  {
   "cell_type": "markdown",
   "metadata": {
    "deletable": false,
    "editable": false,
    "nbgrader": {
     "checksum": "da819764854ae6a2a35b9e0202b6f24c",
     "grade": false,
     "grade_id": "cell-f3cfad8ed95cfae3",
     "locked": true,
     "schema_version": 1,
     "solution": false
    }
   },
   "source": [
    "### Question 3\n",
    "\n",
    "Write a function that takes a matrix  $M$  as input and returns a matrix that contains only those elements of  $M$  that are in odd rows and columns."
   ]
  },
  {
   "cell_type": "code",
   "execution_count": 45,
   "metadata": {
    "deletable": false,
    "nbgrader": {
     "checksum": "d6d3e9bb324e5bf7fc3be986b596b452",
     "grade": false,
     "grade_id": "cell-eb2e16563f9ad93c",
     "locked": false,
     "schema_version": 1,
     "solution": true
    }
   },
   "outputs": [],
   "source": [
    "def matrix_extraction(M):\n",
    "    \"\"\"\n",
    "    Inputs:\n",
    "        M: a random numpy matrix\n",
    "    \n",
    "    Outputs:\n",
    "        N: a matrix with the odd rows and columns of M only\n",
    "    \"\"\"\n",
    "    r = ceil(M.shape[0]/2)\n",
    "    c = ceil(M.shape[1]/2)\n",
    "    Nr = np.zeros(shape=(r,M.shape[1]))\n",
    "    for i in range(0,r):\n",
    "        Nr[i,:] = M[i*2,:]\n",
    "    N = np.zeros(shape=(r,c))\n",
    "    for i in range(0,c):\n",
    "        N[:,i] = Nr[:,i*2]\n",
    "    return N    \n",
    "    "
   ]
  },
  {
   "cell_type": "code",
   "execution_count": 46,
   "metadata": {
    "deletable": false,
    "editable": false,
    "nbgrader": {
     "checksum": "4399337b61d82c46c1f681343221c5b0",
     "grade": true,
     "grade_id": "cell-c218ee59cfff7319",
     "locked": true,
     "points": 1,
     "schema_version": 1,
     "solution": false
    }
   },
   "outputs": [
    {
     "name": "stdout",
     "output_type": "stream",
     "text": [
      "All Tests Passed!!!\n"
     ]
    }
   ],
   "source": [
    "# Run this test cell to check your code\n",
    "# Do not delete this cell\n",
    "M = np.array([[0.29977941, 0.05186872, 0.57587171, 0.56806655, 0.38424249],\n",
    "             [0.25568574, 0.53849314, 0.76387274, 0.29669909, 0.68029403],\n",
    "             [0.9338883,  0.44839289, 0.48052527, 0.60921226, 0.89123473],\n",
    "             [0.76114271, 0.61475746, 0.04465618, 0.85599524, 0.29450567],\n",
    "             [0.43419249, 0.04936524, 0.14366823, 0.30798834, 0.91016638]])\n",
    "N = np.array([[0.29977941, 0.57587171, 0.38424249],\n",
    "             [0.9338883,  0.48052527, 0.89123473],\n",
    "             [0.43419249, 0.14366823, 0.91016638]])\n",
    "nt.assert_array_almost_equal(N, matrix_extraction(M), err_msg='incorrect function')\n",
    "print('All Tests Passed!!!')"
   ]
  },
  {
   "cell_type": "markdown",
   "metadata": {
    "deletable": false,
    "editable": false,
    "nbgrader": {
     "checksum": "8ced711110d60807d62568fedc095385",
     "grade": false,
     "grade_id": "cell-7df5458bd6995573",
     "locked": true,
     "schema_version": 1,
     "solution": false
    }
   },
   "source": [
    "### Question 4\n",
    "\n",
    "Write a function that computes how much money we have. It takes a single input argument, a row vector  $c$, whose elements specify the number of five cent, 10 cent, 20 cent and 50 cent coins we have (in the order listed here). The output should be a scalar value of the total in Rands - not cents."
   ]
  },
  {
   "cell_type": "code",
   "execution_count": 47,
   "metadata": {
    "deletable": false,
    "nbgrader": {
     "checksum": "b1b23b79b33747dce307f723e2c0a8ec",
     "grade": false,
     "grade_id": "cell-a704b5e3ed62f694",
     "locked": false,
     "schema_version": 1,
     "solution": true
    }
   },
   "outputs": [],
   "source": [
    "def rand_compute(c):\n",
    "    \"\"\"\n",
    "    Inputs\n",
    "        c: a list of the number of 5, 10, 20 and 50 cent coins\n",
    "        \n",
    "    Outputs\n",
    "        total: the scalar Rand value of all the coins in the list\n",
    "    \"\"\"\n",
    "    #5c,10c,20c,50c\n",
    "    values = [0.05,0.10,0.20,0.50]\n",
    "    total = 0\n",
    "    for i in range(0,len(c)):\n",
    "        total += c[i]*values[i]\n",
    "    return total\n",
    "    "
   ]
  },
  {
   "cell_type": "code",
   "execution_count": 48,
   "metadata": {
    "deletable": false,
    "editable": false,
    "nbgrader": {
     "checksum": "649b7e58924bbc0a635fcd936d787177",
     "grade": true,
     "grade_id": "cell-1c9b1a1a5285d24b",
     "locked": true,
     "points": 1,
     "schema_version": 1,
     "solution": false
    }
   },
   "outputs": [
    {
     "name": "stdout",
     "output_type": "stream",
     "text": [
      "All Tests Passed!!!\n"
     ]
    }
   ],
   "source": [
    "# Run this test cell to check your code\n",
    "# Do not delete this cell\n",
    "c = [0,1,0,2]\n",
    "nt.assert_equal(1.1, rand_compute(c), err_msg= 'incorrect function')\n",
    "print('All Tests Passed!!!')"
   ]
  },
  {
   "cell_type": "markdown",
   "metadata": {
    "deletable": false,
    "editable": false,
    "nbgrader": {
     "checksum": "42f17edc7853a6097fb0a85889656fe8",
     "grade": false,
     "grade_id": "cell-14b815fba3c89035",
     "locked": true,
     "schema_version": 1,
     "solution": false
    }
   },
   "source": [
    "## Main Exercises\n",
    "\n",
    "### Question 1\n",
    "\n",
    "Write a function which randomly samples a local neighbourhood. This neighbourhood maybe circular or square in nature. The function takes as input, a vector of (x, y) coordinate points, i.e. $[x, y]$. A scalar, $r$, a radial value, a scalar, $n$, the number of samples and scalar, $s$, the shape to explore ($s = 1$ - a circular radius and $s =2$ a square neighbourhood). The function should return array containing the coordinates of the randomly generated samples. Finally, plot these coordinates and its \"origin\" on the same set of axes to see your function in action. Explore with different values for your inputs."
   ]
  },
  {
   "cell_type": "code",
   "execution_count": 86,
   "metadata": {
    "deletable": false,
    "nbgrader": {
     "checksum": "0ba78a081c8a3349d62eb6af9c99df24",
     "grade": false,
     "grade_id": "cell-eb0a9633d0730f53",
     "locked": false,
     "schema_version": 1,
     "solution": true
    }
   },
   "outputs": [],
   "source": [
    "def neighbourhood(c, r, n, s):\n",
    "    \"\"\"\n",
    "    Inputs:\n",
    "        c: a vector [x,y], the center of the space\n",
    "        r: a scalar radius\n",
    "        n: number of samples to be taken\n",
    "        s: shape, with s=1 circle and s=2 a square\n",
    "    Output:\n",
    "        P: an n*2 matrix of sampled points\n",
    "    \"\"\"\n",
    "    P = np.zeros(shape=(n,2))\n",
    "    if s == 1:\n",
    "        for i in range(0,n):\n",
    "            angle = 2*pi*np.random.random(1)[0]\n",
    "            radius = sqrt(np.random.random(1)[0])\n",
    "            xi = r*radius*cos(angle)+c[0]\n",
    "            yi = r*radius*sin(angle)+c[1]\n",
    "            P[i,:]= [xi,yi]\n",
    "    elif s == 2:\n",
    "        Px = 2*r*np.random.random((n)) + (c[0]-r)*np.ones((n))\n",
    "        Py = 2*r*np.random.random((n)) + (c[1]-r)*np.ones((n))\n",
    "        P[:,0] = Px\n",
    "        P[:,1] = Py\n",
    "        \n",
    "    return P\n"
   ]
  },
  {
   "cell_type": "code",
   "execution_count": 89,
   "metadata": {},
   "outputs": [
    {
     "data": {
      "text/plain": [
       "[<matplotlib.lines.Line2D at 0xaaefc50>]"
      ]
     },
     "execution_count": 89,
     "metadata": {},
     "output_type": "execute_result"
    },
    {
     "data": {
      "image/png": "[encoded data removed]",
      "text/plain": [
       "<Figure size 432x288 with 1 Axes>"
      ]
     },
     "metadata": {},
     "output_type": "display_data"
    }
   ],
   "source": [
    "# Question 1 is ungraded. You see run the below code to see if your code correctly generates the neigbourhoods\n",
    "c = [np.random.randint(10), np.random.randint(10)]\n",
    "r = 5\n",
    "n = 1000\n",
    "s = 2\n",
    "\n",
    "P = neighbourhood(c, r, n, s)\n",
    "plt.plot(P[:,0],P[:,1],'ro')"
   ]
  },
  {
   "cell_type": "markdown",
   "metadata": {
    "deletable": false,
    "editable": false,
    "nbgrader": {
     "checksum": "22f56dcb2dfaff0e952a5939898a333c",
     "grade": false,
     "grade_id": "cell-3e006a38ee06446e",
     "locked": true,
     "schema_version": 1,
     "solution": false
    }
   },
   "source": [
    "### Question 2\n",
    "\n",
    "Write a function which takes in as input an unordered vector of values. Your function should return a row vector ($1 \\times 3$) containing the minimum value, median value and maximum value (in this order). Do not use the builtin sort function. Look up sorting algorithms, *bubble sort* for example."
   ]
  },
  {
   "cell_type": "code",
   "execution_count": 113,
   "metadata": {
    "deletable": false,
    "nbgrader": {
     "checksum": "cc91afa44d7086f0aeea5154831b96fb",
     "grade": false,
     "grade_id": "cell-fed3c897f4aaa4f5",
     "locked": false,
     "schema_version": 1,
     "solution": true
    }
   },
   "outputs": [],
   "source": [
    "def lst_arrange(x):\n",
    "    \"\"\"\n",
    "    Inputs:\n",
    "        x: an array of random integers\n",
    "    \n",
    "    Output:\n",
    "        vals: an array of 3 elements, in the order of min, median and max values of the input\n",
    "    \"\"\"\n",
    "    # YOUR CODE HERE\n",
    "    quicksort(x)\n",
    "    n = len(x)\n",
    "    if n%2 == 0:\n",
    "        median = (x[n/2] + x[(n/2)-1])/2\n",
    "    else:\n",
    "        median = x[floor(n/2)]\n",
    "    vals = [x[0],median,x[n-1]]\n",
    "    return vals\n",
    "\n",
    "def quicksort(x):\n",
    "    doQuicksort(x,0,len(x)-1)\n",
    "    \n",
    "def doQuicksort(x,first,last):\n",
    "    if first<last:\n",
    "        part = quickPartition(x,first,last)\n",
    "        doQuicksort(x,first,part-1)\n",
    "        doQuicksort(x,part+1,last)\n",
    "        \n",
    "def quickPartition(x,first,last):\n",
    "    pivotValue = x[first]\n",
    "    \n",
    "    left = first+1\n",
    "    right = last\n",
    "    \n",
    "    done = False\n",
    "    while not done:\n",
    "        while left <= right and x[left]<=pivotValue:\n",
    "            left += 1\n",
    "        while right>=left and x[right]>=pivotValue:\n",
    "            right -= 1\n",
    "        if right<left:\n",
    "            done = True\n",
    "        else:\n",
    "            temp = x[right]\n",
    "            x[right] = x[left]\n",
    "            x[left] = temp\n",
    "    temp = x[first]\n",
    "    x[first] = x[right]\n",
    "    x[right] = temp\n",
    "    \n",
    "    return right\n",
    "            \n",
    "    "
   ]
  },
  {
   "cell_type": "code",
   "execution_count": 114,
   "metadata": {
    "deletable": false,
    "editable": false,
    "nbgrader": {
     "checksum": "5ab411486bb3f64d6a54c325952ae55d",
     "grade": true,
     "grade_id": "cell-0e0260ea0babd30e",
     "locked": true,
     "points": 2,
     "schema_version": 1,
     "solution": false
    }
   },
   "outputs": [
    {
     "name": "stdout",
     "output_type": "stream",
     "text": [
      "[2, 6, 9]\n",
      "All Tests Passed!!!\n"
     ]
    }
   ],
   "source": [
    "# Run this test cell to check your code\n",
    "# Do not delete this cell\n",
    "y = np.random.randint(1, 10, 5)\n",
    "nt.assert_array_almost_equal([np.min(y), np.median(y), np.max(y)], lst_arrange(y), err_msg= 'incorrect function')\n",
    "print('All Tests Passed!!!')\n",
    "\n",
    "\n",
    "\n"
   ]
  },
  {
   "cell_type": "markdown",
   "metadata": {
    "deletable": false,
    "editable": false,
    "nbgrader": {
     "checksum": "14d6e8e16836c97fe6b318e256f07a38",
     "grade": false,
     "grade_id": "cell-a773015d26b0a0d3",
     "locked": true,
     "schema_version": 1,
     "solution": false
    }
   },
   "source": [
    "### Question 3\n",
    "\n",
    "Write a function which takes as input an array of points, i.e. $[(x_1, y_1), (x_2, y_2), \\ldots]$. It should return as output, a smaller array containing the points of the Convex Hull vertices (ensure no duplicates). Finally, plot this Convex Hull and the original set of points on the same axes to determine if your function is doing as instructed. Some algorithms which can find the convex hull are *Andrew's monotone chain algorithm* and *gift wrapping*, there are others - choose whichever one you like."
   ]
  },
  {
   "cell_type": "code",
   "execution_count": 140,
   "metadata": {
    "deletable": false,
    "nbgrader": {
     "checksum": "678e7acb883f66474dadbcf1aabb1812",
     "grade": false,
     "grade_id": "cell-1f06cc0c776ce4dd",
     "locked": false,
     "schema_version": 1,
     "solution": true
    }
   },
   "outputs": [],
   "source": [
    "def convex_hull(points):\n",
    "    \"\"\"\n",
    "    Input: \n",
    "        points: an array of coordinates, i.e. [(x1, y1), (x2, y2), (x3, y3), ....]\n",
    "    Output: \n",
    "        lst: a smaller array of coordinates, now only contain vertices of the hull with no duplicates\n",
    "    \"\"\"\n",
    "    points = sorted(points)\n",
    "    \n",
    "    if len(points)<=1:\n",
    "        return points\n",
    "    \n",
    "    bottom = []\n",
    "    for i in points:\n",
    "        while len(bottom) >= 2 and crossProduct(bottom[-2], bottom[-1], i) <= 0:\n",
    "            bottom.pop()\n",
    "        bottom.append(i)\n",
    "        \n",
    "    top = []\n",
    "    for i in reversed(points):\n",
    "        while len(top) >= 2 and crossProduct(top[-2], top[-1], i) <= 0:\n",
    "            top.pop()\n",
    "        top.append(i)\n",
    "        \n",
    "    lst = bottom[:-1] + top[:-1]\n",
    "    return lst\n",
    "    \n",
    "#Cross product of vector from o to p and from o to q\n",
    "def crossProduct(o, p, q):\n",
    "        return (p[0] - o[0]) * (q[1] - o[1]) - (p[1] - o[1]) * (q[0] - o[0])"
   ]
  },
  {
   "cell_type": "code",
   "execution_count": 141,
   "metadata": {
    "deletable": false,
    "editable": false,
    "nbgrader": {
     "checksum": "8a1b11a765372bcc30b22da64b54aa77",
     "grade": true,
     "grade_id": "cell-74cc58d734b380fc",
     "locked": true,
     "points": 4,
     "schema_version": 1,
     "solution": false
    }
   },
   "outputs": [
    {
     "name": "stdout",
     "output_type": "stream",
     "text": [
      "All Tests Passed!!!\n"
     ]
    }
   ],
   "source": [
    "# Run this test cell to check your code\n",
    "# Do not delete this cell\n",
    "\n",
    "assert sorted(convex_hull([(i//10, i%10) for i in range(100)])) == sorted([(0, 0), (9, 0), (9, 9), (0, 9)])\n",
    "assert sorted(convex_hull([(4, 82), (80, 43), (74, 67), (77, 83), (60, 41), (4, 6), (38, 23), \n",
    "                    (4, 19), (92, 70), (62, 74), (84, 30), (63, 22), (37, 45), (56, 81), \n",
    "                    (31, 19), (31, 0), (91, 48), (34, 22), (58, 72), (22, 78), (78, 28), \n",
    "                    (15, 15), (49, 89), (13, 39), (11, 68), (18, 28), (49, 61), (11, 35), \n",
    "                    (15, 6), (61, 22), (63, 82), (31, 39), (1, 50), (50, 74), (77, 67), \n",
    "                    (58, 83), (46, 42), (62, 24), (66, 39), (93, 11), (0, 47), (29, 94), \n",
    "                    (2, 60), (43, 83), (67, 97), (32, 59), (97, 73), (43, 72), (33, 85), \n",
    "                    (48, 87), (41, 48), (95, 0), (98, 28), (17, 70), (55, 26), (7, 23), \n",
    "                    (60, 31), (79, 89), (47, 2), (43, 34), (94, 84), (12, 92), (47, 69), \n",
    "                    (25, 67), (95, 90), (16, 31), (5, 58), (84, 71), (15, 6), (23, 12), \n",
    "                    (57, 48), (36, 59), (84, 61), (95, 18), (16, 66), (84, 94), (2, 5), \n",
    "                    (9, 5), (97, 77), (0, 58), (37, 17), (25, 70), (51, 42), (78, 63), \n",
    "                    (42, 70), (31, 63), (93, 9), (33, 10), (2, 46), (66, 68), (74, 57), \n",
    "                    (69, 93), (86, 76), (78, 73), (55, 22), (68, 41), (69, 43), (97, 5), \n",
    "                    (95, 22), (27, 89)])) == sorted([(0, 47), (2, 5), (31, 0), (95, 0), (97, 5), \n",
    "                                             (98, 28), (97, 77), (95, 90), (84, 94), (67, 97), \n",
    "                                             (29, 94), (12, 92), (4, 82), (0, 58)])\n",
    "print('All Tests Passed!!!')\n",
    "\n"
   ]
  },
  {
   "cell_type": "code",
   "execution_count": 142,
   "metadata": {},
   "outputs": [
    {
     "data": {
      "text/plain": [
       "[<matplotlib.lines.Line2D at 0x97f74a8>]"
      ]
     },
     "execution_count": 142,
     "metadata": {},
     "output_type": "execute_result"
    },
    {
     "data": {
      "image/png": "[encoded data removed]",
      "text/plain": [
       "<Figure size 432x288 with 1 Axes>"
      ]
     },
     "metadata": {},
     "output_type": "display_data"
    }
   ],
   "source": [
    "# To plot and see if you convex hull looks correct. This is just a sanity check\n",
    "# You should be aiming to see all the points plotted in blue dots and the convex\n",
    "# hull wrapping the points in red.\n",
    "\n",
    "lst = []\n",
    "n   = 100\n",
    "for i in range(100):\n",
    "    lst.append((np.random.randint(100), np.random.randint(100)))\n",
    "    \n",
    "plt.figure()\n",
    "for x in lst:\n",
    "    plt.plot(x[0], x[1], 'bo')\n",
    "    \n",
    "lst2 = convex_hull(lst)\n",
    "nn   = len(lst2)\n",
    "\n",
    "xx = [lst2[i][0] for i in list(range(nn))]\n",
    "xx.append(lst2[0][0])\n",
    "\n",
    "yy = [lst2[i][1] for i in list(range(nn))]\n",
    "yy.append(lst2[0][1])\n",
    "plt.plot(xx, yy, 'r-')"
   ]
  },
  {
   "cell_type": "code",
   "execution_count": null,
   "metadata": {},
   "outputs": [],
   "source": []
  }
 ],
 "metadata": {
  "kernelspec": {
   "display_name": "Python 3",
   "language": "python",
   "name": "python3"
  },
  "language_info": {
   "codemirror_mode": {
    "name": "ipython",
    "version": 3
   },
   "file_extension": ".py",
   "mimetype": "text/x-python",
   "name": "python",
   "nbconvert_exporter": "python",
   "pygments_lexer": "ipython3",
   "version": "3.6.5"
  },
  "latex_envs": {
   "LaTeX_envs_menu_present": true,
   "autoclose": false,
   "autocomplete": true,
   "bibliofile": "biblio.bib",
   "cite_by": "apalike",
   "current_citInitial": 1,
   "eqLabelWithNumbers": true,
   "eqNumInitial": 1,
   "hotkeys": {
    "equation": "Ctrl-E",
    "itemize": "Ctrl-I"
   },
   "labels_anchors": false,
   "latex_user_defs": false,
   "report_style_numbering": false,
   "user_envs_cfg": false
  },
  "varInspector": {
   "cols": {
    "lenName": 16,
    "lenType": 16,
    "lenVar": 40
   },
   "kernels_config": {
    "python": {
     "delete_cmd_postfix": "",
     "delete_cmd_prefix": "del ",
     "library": "var_list.py",
     "varRefreshCmd": "print(var_dic_list())"
    },
    "r": {
     "delete_cmd_postfix": ") ",
     "delete_cmd_prefix": "rm(",
     "library": "var_list.r",
     "varRefreshCmd": "cat(var_dic_list()) "
    }
   },
   "types_to_exclude": [
    "module",
    "function",
    "builtin_function_or_method",
    "instance",
    "_Feature"
   ],
   "window_display": false
  }
 },
 "nbformat": 4,
 "nbformat_minor": 2
}
