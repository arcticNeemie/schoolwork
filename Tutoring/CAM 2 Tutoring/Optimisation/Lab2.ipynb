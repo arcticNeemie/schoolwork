{
 "cells": [
  {
   "cell_type": "code",
   "execution_count": null,
   "metadata": {
    "deletable": false,
    "editable": false,
    "nbgrader": {
     "checksum": "b190193b4629ebdc6ef63bcef0a2033c",
     "grade": false,
     "grade_id": "cell-7b7733ed996d6bc2",
     "locked": true,
     "schema_version": 1,
     "solution": false
    }
   },
   "outputs": [],
   "source": [
    "# Initialisation Cell\n",
    "from matplotlib import pyplot as plt\n",
    "from IPython.display import display, HTML, Javascript\n",
    "from math import *\n",
    "import seaborn as sns\n",
    "import pandas as pd\n",
    "import numpy as np\n",
    "import numpy.testing as nt"
   ]
  },
  {
   "cell_type": "markdown",
   "metadata": {
    "deletable": false,
    "editable": false,
    "nbgrader": {
     "checksum": "3378358a00e4246d110c43bbe60be0cd",
     "grade": false,
     "grade_id": "cell-382d57086df1d0ca",
     "locked": true,
     "schema_version": 1,
     "solution": false
    }
   },
   "source": [
    "# Optimisation II - Lab 2\n",
    "\n",
    "\n",
    "## Instructions\n",
    "\n",
    "* Read all the instructions carefully.\n",
    "* **Numpy** has a help file for every function if you get stuck. See: https://docs.scipy.org/doc/numpy-1.14.5/reference/\n",
    "* See these useful links:\n",
    "    * https://docs.scipy.org/doc/numpy/user/numpy-for-matlab-users.html\n",
    "    * https://docs.scipy.org/doc/numpy/user/quickstart.html\n",
    "* **Numpy** is not always required.\n",
    "* There are also numerous sources available on the internet, Google is your friend!"
   ]
  },
  {
   "cell_type": "markdown",
   "metadata": {
    "deletable": false,
    "editable": false,
    "nbgrader": {
     "checksum": "32db21b133d1edfe28362910cd3f06ca",
     "grade": false,
     "grade_id": "cell-f76bd97f5d67fc60",
     "locked": true,
     "schema_version": 1,
     "solution": false
    }
   },
   "source": [
    "## Warm-up Exercises\n",
    "\n",
    "Complete the following warm-up tasks:\n",
    "### Question 1\n",
    "\n",
    "Write a function that takes as its input argument a scalar integer named $\\texttt{n}$. The function returns $\\texttt{Q}$, a 2n-by-2n matrix. Q consists of four n-by-n submatrices. The elements of the submatrix in the top left corner are all 1s, the elements of the submatrix at the top right are 2s, the elements in the bottom left are 3s, and the elements in the bottom right are 4s. \n",
    "\n",
    "\n"
   ]
  },
  {
   "cell_type": "code",
   "execution_count": null,
   "metadata": {
    "deletable": false,
    "nbgrader": {
     "checksum": "c1c2400d88d1b08af865873447e99c84",
     "grade": false,
     "grade_id": "cell-ca236ab09c9f030f",
     "locked": false,
     "schema_version": 1,
     "solution": true
    }
   },
   "outputs": [],
   "source": [
    "def matrix_quad(n):\n",
    "    \"\"\"\n",
    "    Inputs:\n",
    "        n: a scalar integer\n",
    "    Outputs:\n",
    "        mat: a numpy matrix\n",
    "    \"\"\"\n",
    "    # YOUR CODE HERE\n",
    "    raise NotImplementedError()\n",
    "\n"
   ]
  },
  {
   "cell_type": "code",
   "execution_count": null,
   "metadata": {
    "deletable": false,
    "editable": false,
    "nbgrader": {
     "checksum": "2381f86a596a0f4317a5807e12eddd65",
     "grade": true,
     "grade_id": "cell-df37ca61382bdad0",
     "locked": true,
     "points": 1,
     "schema_version": 1,
     "solution": false
    }
   },
   "outputs": [],
   "source": [
    "# Run this test cell to check your code\n",
    "# Do not delete this cell\n",
    "test1 = np.array([[1., 1., 2., 2.],\n",
    "                 [1., 1., 2., 2.],\n",
    "                 [3., 3., 4., 4.],\n",
    "                 [3., 3., 4., 4.]])\n",
    "nt.assert_array_almost_equal(test1, matrix_quad(2), err_msg=\"Function Incorrect\")\n",
    "print('All Tests Passed!!!')"
   ]
  },
  {
   "cell_type": "markdown",
   "metadata": {
    "deletable": false,
    "editable": false,
    "nbgrader": {
     "checksum": "530941fb4e405427729f75f414e56e49",
     "grade": false,
     "grade_id": "cell-482e363fec6e1e9f",
     "locked": true,
     "schema_version": 1,
     "solution": false
    }
   },
   "source": [
    "### Question 2\n",
    "\n",
    "Write a function  that takes as input two positive integer scalars, $\\texttt{n}$ and $\\texttt{m}$, in that order. The function must create and return board, which is an n-by-m matrix. Every element of board is either 0 or 1. The first element, board(0,0) is 1. No direct neighbours in the matrix, vertically or horizontally, can be equal. That is, a 1 element cannot have 1 immediately preceding or following it in the same row or column."
   ]
  },
  {
   "cell_type": "code",
   "execution_count": null,
   "metadata": {
    "deletable": false,
    "nbgrader": {
     "checksum": "c12db124c41b873fddb4956c663264fe",
     "grade": false,
     "grade_id": "cell-c60ec8cf23d1a497",
     "locked": false,
     "schema_version": 1,
     "solution": true
    }
   },
   "outputs": [],
   "source": [
    "def check_board(n, m):\n",
    "    \"\"\"\n",
    "    Inputs:\n",
    "        n, m: scalar integers\n",
    "    Outputs:\n",
    "        board: binary numpy matrix\n",
    "    \"\"\"\n",
    "    # YOUR CODE HERE\n",
    "    raise NotImplementedError()"
   ]
  },
  {
   "cell_type": "code",
   "execution_count": null,
   "metadata": {
    "deletable": false,
    "editable": false,
    "nbgrader": {
     "checksum": "ca8617b969e5d3fe23d876eadd121fd1",
     "grade": true,
     "grade_id": "cell-a402d77abe025486",
     "locked": true,
     "points": 1,
     "schema_version": 1,
     "solution": false
    }
   },
   "outputs": [],
   "source": [
    "# Run this test cell to check your code\n",
    "# Do not delete this cell\n",
    "test1 = np.array([[1., 0., 1., 0., 1.],\n",
    "                  [0., 1., 0., 1., 0.],\n",
    "                  [1., 0., 1., 0., 1.],\n",
    "                  [0., 1., 0., 1., 0.]])\n",
    "nt.assert_array_almost_equal(test1, check_board(4, 5), err_msg=\"Function Incorrect\")\n",
    "print('All Tests Passed!!!')"
   ]
  },
  {
   "cell_type": "markdown",
   "metadata": {
    "deletable": false,
    "editable": false,
    "nbgrader": {
     "checksum": "a5366542ace7c863b050a5c8714eacb0",
     "grade": false,
     "grade_id": "cell-9b9551cad30499ab",
     "locked": true,
     "schema_version": 1,
     "solution": false
    }
   },
   "source": [
    "### Question 3\n",
    "\n",
    "Write a function that takes three input arguments: $\\texttt{limit}$, $\\texttt{n}$, and $\\texttt{m}$, in that order. The function returns an n-by-m matrix of uniformly distributed random integers between 1 and limit inclusive.  You are not allowed to use randi, but you can use rand. You will also find the built-in function floor useful for obtaining integers. To make sure that your result is indeed uniformly distributed, test the output of the function by using the built-in function hist, which plots a histogram on larger inputs."
   ]
  },
  {
   "cell_type": "code",
   "execution_count": null,
   "metadata": {
    "deletable": false,
    "nbgrader": {
     "checksum": "d8fd64e4d8acddf47d3871210d21bb20",
     "grade": false,
     "grade_id": "cell-5a14eed7438aa030",
     "locked": false,
     "schema_version": 1,
     "solution": true
    }
   },
   "outputs": [],
   "source": [
    "def random_dist(limit, n, m):\n",
    "    # YOUR CODE HERE\n",
    "    raise NotImplementedError()"
   ]
  },
  {
   "cell_type": "code",
   "execution_count": null,
   "metadata": {
    "deletable": false,
    "editable": false,
    "nbgrader": {
     "checksum": "b8bf6f6cdaf290a09b09fd31dc25573f",
     "grade": true,
     "grade_id": "cell-4f225739b4219583",
     "locked": true,
     "points": 1,
     "schema_version": 1,
     "solution": false
    }
   },
   "outputs": [],
   "source": [
    "# Run this test cell to check your code\n",
    "# Do not delete this cell\n",
    "test1 = random_dist(5, 5, 5)\n",
    "def isinteger(x):\n",
    "     return np.equal(np.mod(x, 1), 0)\n",
    "assert(np.all(isinteger(test1)) == True)\n",
    "print('All Tests Passed!!!')"
   ]
  },
  {
   "cell_type": "markdown",
   "metadata": {
    "deletable": false,
    "editable": false,
    "nbgrader": {
     "checksum": "9a9bec8a70dd91934decfb83efb9d8ae",
     "grade": false,
     "grade_id": "cell-c15b2d10516292a5",
     "locked": true,
     "schema_version": 1,
     "solution": false
    }
   },
   "source": [
    "# Main Exercises\n",
    "\n",
    "### Question 1\n",
    "\n",
    "Write a function that implements the Secant method. It should take as inputs the function handle $\\texttt{f}$ (derivative function), two initial guesses $x0, \\ x1$ and a tolerance $\\texttt{tol}$. The function should return the root of the function. Use the absolute difference to control your tolerance.\n",
    " "
   ]
  },
  {
   "cell_type": "code",
   "execution_count": null,
   "metadata": {
    "deletable": false,
    "nbgrader": {
     "checksum": "3c8aa2c5ddfeb1ab6e9d87221a38cad2",
     "grade": false,
     "grade_id": "cell-12b30bb2fb6e5938",
     "locked": false,
     "schema_version": 1,
     "solution": true
    }
   },
   "outputs": [],
   "source": [
    "def secant_min(f, x0, x1, tol):\n",
    "    \n",
    "    \"\"\"\n",
    "    Inputs:\n",
    "        f : a function handle\n",
    "        x0: an initial point - scalar\n",
    "        x1: a subsequent point - scalar\n",
    "        \n",
    "    Outputs:\n",
    "        x: root of function f - scalar\n",
    "    \"\"\"\n",
    "    # YOUR CODE HERE\n",
    "    raise NotImplementedError()"
   ]
  },
  {
   "cell_type": "code",
   "execution_count": null,
   "metadata": {
    "deletable": false,
    "editable": false,
    "nbgrader": {
     "checksum": "4daa0445f46516cfe8e9725dfbc20f6f",
     "grade": true,
     "grade_id": "cell-80114aee8ff3c945",
     "locked": true,
     "points": 2,
     "schema_version": 1,
     "solution": false
    }
   },
   "outputs": [],
   "source": [
    "# Run this test cell to check your code\n",
    "# Do not delete this cell\n",
    "f   = lambda x: x**2 - 612\n",
    "x0  = 10\n",
    "x1  = 30\n",
    "tol = 10**(-5)\n",
    "nt.assert_almost_equal(24.738633753705965, secant_min(f, x0, x1, tol), err_msg='incorrect function')\n",
    "print('All Tests Passed!!!')"
   ]
  },
  {
   "cell_type": "markdown",
   "metadata": {
    "deletable": false,
    "editable": false,
    "nbgrader": {
     "checksum": "9a656032753919f682701b82f9469600",
     "grade": false,
     "grade_id": "cell-4d16e1ba94fd3b9f",
     "locked": true,
     "schema_version": 1,
     "solution": false
    }
   },
   "source": [
    "### Question 2\n",
    "\n",
    "Write a function that performs the Golden Search method. It should take in the function handle $\\texttt{f}$, the domain, $\\texttt{a}$, $\\texttt{b}$ and a tolerance $\\texttt{tol}$. It should return a both the function value at the minima and the minima itself. Use the absolute difference to control your tolerance."
   ]
  },
  {
   "cell_type": "code",
   "execution_count": null,
   "metadata": {
    "deletable": false,
    "nbgrader": {
     "checksum": "a917d77044cc4934f4224f1cff78ef3e",
     "grade": false,
     "grade_id": "cell-2ab8c10f5699296d",
     "locked": false,
     "schema_version": 1,
     "solution": true
    }
   },
   "outputs": [],
   "source": [
    "def golden_search(f, a, b, tol):\n",
    "    \"\"\"\n",
    "    Inputs:\n",
    "        f : a function handle\n",
    "        a : left endpoint - scalar\n",
    "        b : right endpoint - scalar\n",
    "        \n",
    "    Outputs:\n",
    "        out: np.array of xmin and f(xmin)\n",
    "    \"\"\"\n",
    "    # YOUR CODE HERE\n",
    "    raise NotImplementedError()"
   ]
  },
  {
   "cell_type": "code",
   "execution_count": null,
   "metadata": {
    "deletable": false,
    "editable": false,
    "nbgrader": {
     "checksum": "be757e444f865477a7d913b84eac63a0",
     "grade": true,
     "grade_id": "cell-04925f2bc75dac92",
     "locked": true,
     "points": 2,
     "schema_version": 1,
     "solution": false
    }
   },
   "outputs": [],
   "source": [
    "# Run this test cell to check your code\n",
    "# Do not delete this cell\n",
    "f = lambda x: x**4 - 14*x**3 + 60*x**2 - 70*x\n",
    "a = 0\n",
    "b = 2\n",
    "tol = 10**(-5)\n",
    "nt.assert_array_almost_equal(np.array([0.78088186, -24.36960157]), golden_search(f, a, b, tol), err_msg='incorrect function')\n",
    "print('All Tests Passed!!!')"
   ]
  }
 ],
 "metadata": {
  "kernelspec": {
   "display_name": "Python 3",
   "language": "python",
   "name": "python3"
  },
  "language_info": {
   "codemirror_mode": {
    "name": "ipython",
    "version": 3
   },
   "file_extension": ".py",
   "mimetype": "text/x-python",
   "name": "python",
   "nbconvert_exporter": "python",
   "pygments_lexer": "ipython3",
   "version": "3.6.6"
  },
  "latex_envs": {
   "LaTeX_envs_menu_present": true,
   "autoclose": false,
   "autocomplete": true,
   "bibliofile": "biblio.bib",
   "cite_by": "apalike",
   "current_citInitial": 1,
   "eqLabelWithNumbers": true,
   "eqNumInitial": 1,
   "hotkeys": {
    "equation": "Ctrl-E",
    "itemize": "Ctrl-I"
   },
   "labels_anchors": false,
   "latex_user_defs": false,
   "report_style_numbering": false,
   "user_envs_cfg": false
  },
  "varInspector": {
   "cols": {
    "lenName": 16,
    "lenType": 16,
    "lenVar": 40
   },
   "kernels_config": {
    "python": {
     "delete_cmd_postfix": "",
     "delete_cmd_prefix": "del ",
     "library": "var_list.py",
     "varRefreshCmd": "print(var_dic_list())"
    },
    "r": {
     "delete_cmd_postfix": ") ",
     "delete_cmd_prefix": "rm(",
     "library": "var_list.r",
     "varRefreshCmd": "cat(var_dic_list()) "
    }
   },
   "types_to_exclude": [
    "module",
    "function",
    "builtin_function_or_method",
    "instance",
    "_Feature"
   ],
   "window_display": false
  }
 },
 "nbformat": 4,
 "nbformat_minor": 2
}
