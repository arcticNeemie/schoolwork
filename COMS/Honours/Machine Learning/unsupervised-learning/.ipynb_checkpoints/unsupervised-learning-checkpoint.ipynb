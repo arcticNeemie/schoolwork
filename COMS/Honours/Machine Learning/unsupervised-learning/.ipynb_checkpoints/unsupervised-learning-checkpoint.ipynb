{
 "cells": [
  {
   "cell_type": "markdown",
   "metadata": {},
   "source": [
    "# Unsupervised Learning\n",
    "\n",
    "This practical session is designed to implement K-means Clustering, Principal Component Analysis and Anomaly Detection. [The MNIST database of handwritten digits](http://yann.lecun.com/exdb/mnist/) is used for experiments.\n",
    "\n",
    "## Dataset\n",
    "The [MNIST](http://yann.lecun.com/exdb/mnist/) dataset consists of handwritten grayscale digit images. All handwritten digit images have been size-normalized and centered in a fixed size image of 28 x 28 pixels. A grayscale image is nothing but a 2D array of integers between 0 and 255. In the original dataset each pixel of the image is represented by a value between 0 and 255, where 0 is black, 255 is white and anything in between is a different shade of grey. In this lab session, we will use inverted and normalised pixel values (see `load_dataset()` for further details). Furthermore, we will only use 1,000 samples per digit. Below is some examples of [MNIST](http://yann.lecun.com/exdb/mnist/) handwritten digits:\n",
    "\n",
    "![MNIST](./images/mnist-samples.png)\n",
    "\n",
    "\n",
    "## References\n",
    "[1] http://yann.lecun.com/exdb/mnist/\n",
    "\n",
    "[2] https://pjreddie.com/projects/mnist-in-csv/"
   ]
  },
  {
   "cell_type": "markdown",
   "metadata": {},
   "source": [
    "## Dataset Loading and Visualisation\n",
    "The following function loads train and test handwritten digit image samples from [MNIST](http://yann.lecun.com/exdb/mnist/) dataset."
   ]
  },
  {
   "cell_type": "code",
   "execution_count": 1,
   "metadata": {},
   "outputs": [],
   "source": [
    "%matplotlib inline\n",
    "import matplotlib.pyplot as pl\n",
    "import numpy as np"
   ]
  },
  {
   "cell_type": "code",
   "execution_count": 2,
   "metadata": {},
   "outputs": [],
   "source": [
    "def load_dataset(train_dataset='./dataset/mnist_train.csv', test_dataset='./dataset/mnist_test.csv', samples_per_digit=1000):\n",
    "    \"\"\"\n",
    "    Loads and returns train and test datasets.\n",
    "    \"\"\"\n",
    "    np.random.seed(7)\n",
    "    data_train = np.genfromtxt(fname=train_dataset, delimiter=',')\n",
    "    y = data_train[:,0].astype(np.int)\n",
    "    x = data_train[:,1:]    \n",
    "    x = 255.0 - x\n",
    "    x = x / 255.0\n",
    "    labels = np.unique(y)\n",
    "    for l in np.arange(len(labels)):\n",
    "        index = np.where(y==labels[l])[0]\n",
    "        np.random.shuffle(index)        \n",
    "        if l == 0:\n",
    "            x_train = x[index[0:samples_per_digit]]\n",
    "            y_train = y[index[0:samples_per_digit]]\n",
    "        else:\n",
    "            x_train = np.vstack((x_train, x[index[0:samples_per_digit]]))\n",
    "            y_train = np.hstack((y_train, y[index[0:samples_per_digit]]))   \n",
    "    \n",
    "    data_test = np.genfromtxt(fname=test_dataset, delimiter=',')\n",
    "    \n",
    "    y = data_test[:,0].astype(np.int)\n",
    "    x = data_test[:,1:]    \n",
    "    x = 255.0 - x\n",
    "    x = x / 255.0\n",
    "    labels = np.unique(y)\n",
    "    for l in np.arange(len(labels)):\n",
    "        index = np.where(y==labels[l])[0]\n",
    "        np.random.shuffle(index)\n",
    "        if l == 0:\n",
    "            x_test = x[index[0:samples_per_digit]]\n",
    "            y_test = y[index[0:samples_per_digit]]\n",
    "        else:\n",
    "            x_test = np.vstack((x_test, x[index[0:samples_per_digit]]))\n",
    "            y_test = np.hstack((y_test, y[index[0:samples_per_digit]]))\n",
    "    \n",
    "    return (x_train, y_train, x_test, y_test)"
   ]
  },
  {
   "cell_type": "markdown",
   "metadata": {},
   "source": [
    "The following script calls function `load_dataset()` to load train and test datasets. _Be patient as it may take some time to load datasets!_"
   ]
  },
  {
   "cell_type": "code",
   "execution_count": 3,
   "metadata": {},
   "outputs": [],
   "source": [
    "x_train, y_train, x_test, y_test = load_dataset()"
   ]
  },
  {
   "cell_type": "markdown",
   "metadata": {},
   "source": [
    "Each row of `x_train` and `x_test` variables is a 1D vector comprised of 784 (28 * 28) real numbers in [0,1] and refers to an unpacked handwritten digit image. The following function takes a 1D vector array as input and returns the corresponding 2D representation as image."
   ]
  },
  {
   "cell_type": "code",
   "execution_count": 4,
   "metadata": {},
   "outputs": [],
   "source": [
    "def vector2image(image_vector, image_height=28, image_width=28):\n",
    "    \"\"\"\n",
    "    Returns image representation of the input 1D vector.\n",
    "    \"\"\"\n",
    "    image = np.reshape(image_vector, (image_height, image_width))\n",
    "    return image"
   ]
  },
  {
   "cell_type": "markdown",
   "metadata": {},
   "source": [
    "Now you can use `vector2image()` function to convert a 1D feature vector to 2D image for visualisation purposes, e.g.:"
   ]
  },
  {
   "cell_type": "code",
   "execution_count": null,
   "metadata": {},
   "outputs": [
    {
     "data": {
      "image/png": "[encoded data removed]",
      "text/plain": [
       "<Figure size 432x288 with 1 Axes>"
      ]
     },
     "metadata": {
      "needs_background": "light"
     },
     "output_type": "display_data"
    }
   ],
   "source": [
    "index = 0\n",
    "image = vector2image(x_train[index])\n",
    "pl.figure()\n",
    "pl.imshow(image, cmap='gray')\n",
    "pl.title('x_train[' + str(index) + '], ' + 'y_train[' + str(index) + '] = ' + str(int(y_train[index])))\n",
    "pl.show()"
   ]
  },
  {
   "cell_type": "markdown",
   "metadata": {},
   "source": [
    "You may also need the following function to convert a 2D grayscale image to 1D vector representation."
   ]
  },
  {
   "cell_type": "code",
   "execution_count": null,
   "metadata": {},
   "outputs": [],
   "source": [
    "def image2vector(image):\n",
    "    \"\"\"\n",
    "    Returns vector representation of the input 2D image.\n",
    "    \"\"\"\n",
    "    image_height, image_width = image.shape\n",
    "    image_vector = np.reshape(image, image_height*image_width)\n",
    "    return image_vector"
   ]
  },
  {
   "cell_type": "markdown",
   "metadata": {},
   "source": [
    "Thus, `vector2image(image2vector(vector2image(x_train[index])))` must produce exactly same output with that of `vector2image(x_train[index])`, i.e.:"
   ]
  },
  {
   "cell_type": "code",
   "execution_count": null,
   "metadata": {},
   "outputs": [
    {
     "data": {
      "image/png": "[encoded data removed]",
      "text/plain": [
       "<Figure size 432x288 with 1 Axes>"
      ]
     },
     "metadata": {
      "needs_background": "light"
     },
     "output_type": "display_data"
    }
   ],
   "source": [
    "image = vector2image(image2vector(vector2image(x_train[index])))\n",
    "pl.figure()\n",
    "pl.imshow(image, cmap='gray')\n",
    "pl.title('x_train[' + str(index) + '], ' + 'y_train[' + str(index) + '] = ' + str(int(y_train[index])))\n",
    "pl.show()"
   ]
  },
  {
   "cell_type": "markdown",
   "metadata": {},
   "source": [
    "Now, let's produce an image that is similar to what you see on the very first markdown cell by selecting samples from `x_train` and `y_train`!"
   ]
  },
  {
   "cell_type": "code",
   "execution_count": null,
   "metadata": {},
   "outputs": [],
   "source": [
    "def image_digits(x_train, y_train, K=10, S=16, image_loc='./images/mnist-samples.png'):\n",
    "    \"\"\"\n",
    "    Creates, shows and saves an image of digit samples from MNIST dataset.  \n",
    "    K is the number of digits and S is the number of samples per digit.\n",
    "    \"\"\"\n",
    "    for k in np.arange(K):\n",
    "        for s in np.arange(S):\n",
    "            image = vector2image(x_train[y_train==k][s])\n",
    "            if s == 0:\n",
    "                image_digits_row = image\n",
    "            else:\n",
    "                image_digits_row = np.hstack((image_digits_row, image))\n",
    "        if k == 0:\n",
    "            image_digits = image_digits_row\n",
    "        else:\n",
    "            image_digits = np.vstack((image_digits, image_digits_row))\n",
    "    pl.figure()\n",
    "    pl.imshow(image_digits, cmap='gray')\n",
    "    pl.axis('off')\n",
    "    # save a copy of this image as png file under ./images folder\n",
    "    pl.imsave(image_loc, image_digits, cmap='gray') "
   ]
  },
  {
   "cell_type": "code",
   "execution_count": null,
   "metadata": {},
   "outputs": [
    {
     "data": {
      "image/png": "[encoded data removed]",
      "text/plain": [
       "<Figure size 432x288 with 1 Axes>"
      ]
     },
     "metadata": {
      "needs_background": "light"
     },
     "output_type": "display_data"
    }
   ],
   "source": [
    "image_digits(x_train, y_train)"
   ]
  },
  {
   "cell_type": "markdown",
   "metadata": {},
   "source": [
    "We are ready to implement $K$-means clustering. We will use `x_train` and `y_train` in our experiments.\n",
    "\n",
    "## $K$-means Clustering"
   ]
  },
  {
   "cell_type": "code",
   "execution_count": null,
   "metadata": {},
   "outputs": [],
   "source": [
    "class Kmeans:\n",
    "    def __init__(self, x, c, suppress_output=True):\n",
    "        self.x = x # input dataset\n",
    "        self.c = c.copy() # initial cluster centroids                         \n",
    "        self.N = x.shape[0] # the number of data points\n",
    "        self.K = c.shape[0] # the number of clusters (K)        \n",
    "        self.a = np.zeros(self.N, dtype=np.int) # class assignment vector\n",
    "        self.a_previous = np.ones(self.N, dtype=np.int) # class assignment vector from the previous iteration\n",
    "        self.distance_matrix = np.zeros((self.N, self.K), dtype=np.float) # each column of this matrix is distance from the corresponding cluster centroid\n",
    "        self.delta = 0.01 # used for convergence\n",
    "        self.max_iteration = 100 # used for convergence\n",
    "        self.current_iteration = 1 # keeps track of the iterations\n",
    "        self.J = 0.0 # keeps the track of cost function  due to cluster updates\n",
    "        self.suppress_output = suppress_output # this is to suppress outputs\n",
    "    \n",
    "    def distance(self, x, ck):\n",
    "        return np.sqrt(np.sum((x-ck)**2, axis=1))        \n",
    "        \n",
    "    def assignment(self):\n",
    "        # calculate distances of data points from each cluster centroid\n",
    "        for k in np.arange(self.K):\n",
    "            self.distance_matrix[:, k] = self.distance(self.x, self.c[k])\n",
    "        # associate each data point to the clossest cluster centroid \n",
    "        self.a = np.argmin(self.distance_matrix, axis=1)\n",
    "        self.J = np.mean(np.min(self.distance_matrix, axis=1))\n",
    "    \n",
    "    def update(self):\n",
    "        # update cluster centroids\n",
    "        for k in np.arange(self.K):            \n",
    "            self.c[k] = np.mean(self.x[self.a == k], axis=0)\n",
    "        \n",
    "    def is_converged(self):\n",
    "        if (self.current_iteration < self.max_iteration) and ((1.0 - np.sum(self.a == self.a_previous)/self.N) >= self.delta):\n",
    "            return False\n",
    "        else:\n",
    "            return True\n",
    "    \n",
    "    def show_cluster_centroids(self, title='Cluster Centroids'):\n",
    "        for k in np.arange(self.K):        \n",
    "            image = vector2image(self.c[k])\n",
    "            if k == 0:\n",
    "                image_row = image\n",
    "            else:\n",
    "                image_row = np.hstack((image_row, image))            \n",
    "        pl.figure('show_cluster_centroids')\n",
    "        pl.title(title)\n",
    "        pl.imshow(image_row, cmap='gray')\n",
    "        pl.axis('off')\n",
    "        pl.show()        \n",
    "        \n",
    "    def cluster_centroids_and_majority_labels(self, y):\n",
    "        msg = ''\n",
    "        msg_pattern = 'm[{:d}] = {:d} ({:d}/{:d})'\n",
    "        majority_labels = np.zeros(self.K, dtype=np.int)\n",
    "        labels = np.unique(y)\n",
    "        for k in np.arange(self.K):\n",
    "            counts = np.zeros(self.K, dtype=np.int)\n",
    "            for l in np.arange(len(labels)):\n",
    "                counts[l] = np.sum((self.a==k) & (y == labels[l]))\n",
    "            msg = msg + msg_pattern.format(k, labels[np.argmax(counts)], np.max(counts), np.sum(counts))\n",
    "            if k != (self.K-1):\n",
    "                msg = msg + '\\n'\n",
    "        return msg\n",
    "    \n",
    "    def show_cluster_centroids_and_majority_labels(self, y):\n",
    "        msg = self.cluster_centroids_and_majority_labels(y)\n",
    "        self.show_cluster_centroids(msg)\n",
    "    \n",
    "    def run(self):        \n",
    "        while not self.is_converged():\n",
    "            self.a_previous = self.a.copy()            \n",
    "            self.assignment()  \n",
    "            if not self.suppress_output:\n",
    "                msg = 'iteration # = {:-4d}, J = {:-12.4f}'.format(self.current_iteration, self.J)            \n",
    "                self.show_cluster_centroids('Cluster Centroids ' + msg)            \n",
    "            self.update()\n",
    "            self.current_iteration += 1\n",
    "        "
   ]
  },
  {
   "cell_type": "markdown",
   "metadata": {},
   "source": [
    "Run $K$-means Clustering for $K=10$"
   ]
  },
  {
   "cell_type": "code",
   "execution_count": null,
   "metadata": {},
   "outputs": [
    {
     "data": {
      "image/png": "[encoded data removed]",
      "text/plain": [
       "<Figure size 432x288 with 1 Axes>"
      ]
     },
     "metadata": {
      "needs_background": "light"
     },
     "output_type": "display_data"
    }
   ],
   "source": [
    "K = 10\n",
    "for k in np.arange(K):\n",
    "    if k == 0:        \n",
    "        c = x_train[y_train==k][0]\n",
    "    else:\n",
    "        c = np.vstack((c, x_train[y_train==k][0]))\n",
    "km = Kmeans(x_train, c)\n",
    "km.run()\n",
    "km.show_cluster_centroids_and_majority_labels(y_train)"
   ]
  },
  {
   "cell_type": "markdown",
   "metadata": {},
   "source": [
    "Since we already know class labels (`y_train`) for each data point, we can check the majority of labels (`m[k]`) for each cluster after _K_-means clustering is run to completion."
   ]
  },
  {
   "cell_type": "markdown",
   "metadata": {},
   "source": [
    "### Elbow Algorithm\n",
    "\n",
    "The following script runs $K$-means clustering for different values of $K$ and produces a plot of cost function vs $K$."
   ]
  },
  {
   "cell_type": "code",
   "execution_count": null,
   "metadata": {},
   "outputs": [
    {
     "name": "stdout",
     "output_type": "stream",
     "text": [
      "K =    2, J =       6.9778\n",
      "K =    4, J =       6.6648\n",
      "K =    6, J =       6.4444\n",
      "K =    8, J =       6.3268\n",
      "K =   10, J =       6.2649\n",
      "K =   12, J =       6.1491\n",
      "K =   14, J =       6.0849\n",
      "K =   16, J =       6.0237\n",
      "K =   18, J =       5.9568\n"
     ]
    }
   ],
   "source": [
    "K_range = np.arange(2, 22, 2)\n",
    "J = np.zeros(len(K_range))\n",
    "i = 0\n",
    "for K in K_range:    \n",
    "    c = x_train[0:K].copy()\n",
    "    km = Kmeans(x_train, c)\n",
    "    km.run()\n",
    "    J[i] = km.J\n",
    "    print('K = {:4d}, J = {:12.4f}'.format(K, J[i]))\n",
    "    i += 1\n",
    "pl.figure()\n",
    "pl.title('J vs K')\n",
    "pl.plot(K_range, J)\n",
    "pl.xlabel('K')\n",
    "pl.ylabel('J(K)');"
   ]
  },
  {
   "cell_type": "markdown",
   "metadata": {},
   "source": [
    "## Dimensionality Reduction using Principal Component Analysis (PCA)\n",
    "\n",
    "In order to perfom PCA, we need to compute the mean vector and covariance matrix of the dataset. Note that in your class notes for PCA, datasets are represented in column-major order. In previous sections, we are using row-major order."
   ]
  },
  {
   "cell_type": "code",
   "execution_count": null,
   "metadata": {},
   "outputs": [],
   "source": [
    "def find_principal_components(x, suppress_output=False):\n",
    "    \"\"\"\n",
    "    Finds and returns the principal components.\n",
    "    \"\"\"\n",
    "    N = x.shape[0]\n",
    "    D = x.shape[1]\n",
    "    mu = np.mean(x, axis = 0)\n",
    "    C = 1.0 / (N-1) * np.dot((x-mu).T, (x-mu))\n",
    "    LD, PD = np.linalg.eigh(C) # note that this produces eigenvalues (LD) and corresponding eigenvectors (PD) sorted in ascending order of eigenvalues\n",
    "    LD = LD[::-1] # reverse LD\n",
    "    PD = PD[:, ::-1] # reverse PD    \n",
    "    if not suppress_output:\n",
    "        pl.figure('Selected Eigenvalues')\n",
    "        pl.plot(LD)\n",
    "        pl.xlabel('Eigenvalue #')\n",
    "        pl.ylabel('Eigenvalue')    \n",
    "    return (mu, PD, LD)"
   ]
  },
  {
   "cell_type": "code",
   "execution_count": null,
   "metadata": {},
   "outputs": [],
   "source": [
    "mu, PD, LD = find_principal_components(x_train)"
   ]
  },
  {
   "cell_type": "markdown",
   "metadata": {},
   "source": [
    "As you notice from the above plot of all eigenvalues, majority of eigenvalues have small values. Thus we can use total variation as a metric to select the significant principal components, i.e.:"
   ]
  },
  {
   "cell_type": "code",
   "execution_count": null,
   "metadata": {},
   "outputs": [],
   "source": [
    "delta = 0.99 # total variation\n",
    "d = np.argwhere(delta < np.cumsum(LD)/np.sum(LD))[0][0] # very first index of normalised cumulative sum of eigenvalues satisfying total variation requirement\n",
    "print('The number of principal components satisfying total variation of {:.2f} is {:d}'.format(delta, d))"
   ]
  },
  {
   "cell_type": "markdown",
   "metadata": {},
   "source": [
    "As you can see above, even if we want to retain 99% of total variation, reduced dimensionality $d$ is significantly smaller than the dimensionality $D$ of data points. Lets display those $d$ eigenvectors."
   ]
  },
  {
   "cell_type": "code",
   "execution_count": null,
   "metadata": {},
   "outputs": [],
   "source": [
    "for i in np.arange(d):\n",
    "    image = vector2image(PD[:,i])\n",
    "    pl.figure()\n",
    "    pl.imshow(image, cmap='gray')\n",
    "    pl.title('principal component #{:d}'.format(i))\n",
    "    pl.show()    "
   ]
  },
  {
   "cell_type": "markdown",
   "metadata": {},
   "source": [
    "Do you think principal components above are meaningful? How do you interpret them?"
   ]
  },
  {
   "cell_type": "markdown",
   "metadata": {},
   "source": [
    "### Data Projection\n",
    "\n",
    "The following script reduces the dimensionality of a data point to $d=2$ by projecting it onto a vector space of two principal components (2-rank approximation)."
   ]
  },
  {
   "cell_type": "code",
   "execution_count": null,
   "metadata": {},
   "outputs": [],
   "source": [
    "d = 2\n",
    "Pd = PD[:, 0:d] # let's only select d of eigenvectors to reduce the dimensionality of feature vectors from D to d\n",
    "W = np.dot((x_train - mu), Pd) # subtract mean vector from each row of x_train and project the difference onto reduced dimensionality eigenvector space\n",
    "pl.figure()\n",
    "pl.title('Scatter Plot of Dimension-reduced Data')\n",
    "K = 10\n",
    "for k in np.arange(K):\n",
    "    pl.scatter(W[y_train==k][:, 0], W[y_train==k][:, 1], label='digit {:d}'.format(k))\n",
    "pl.xlabel(r'$w_{1}$')\n",
    "pl.ylabel(r'$w_{2}$')\n",
    "pl.legend();"
   ]
  },
  {
   "cell_type": "markdown",
   "metadata": {},
   "source": [
    "### Data Reconstruction: $d$-Rank Approximation\n",
    "\n",
    "\n",
    "Lets reconstruct data using $d$-rank approximation and display some of the reconstructed data along with the original data."
   ]
  },
  {
   "cell_type": "code",
   "execution_count": null,
   "metadata": {},
   "outputs": [],
   "source": [
    "x_train_reconstructed = mu + np.dot(W, Pd.T)"
   ]
  },
  {
   "cell_type": "code",
   "execution_count": null,
   "metadata": {},
   "outputs": [],
   "source": [
    "index = 0\n",
    "pl.figure()\n",
    "pl.subplot(1, 2, 1)\n",
    "pl.imshow(vector2image(x_train[index, :]), cmap='gray')\n",
    "pl.axis('off')\n",
    "pl.title('Original Data')\n",
    "pl.subplot(1, 2, 2)\n",
    "pl.imshow(vector2image(x_train_reconstructed[index, :]), cmap='gray')\n",
    "pl.axis('off')\n",
    "pl.title('{:}-rank Approximation'.format(d));"
   ]
  },
  {
   "cell_type": "markdown",
   "metadata": {},
   "source": [
    "Lets observe higher-order _d_-rank approximations!"
   ]
  },
  {
   "cell_type": "code",
   "execution_count": null,
   "metadata": {},
   "outputs": [],
   "source": [
    "index = 0\n",
    "x_original = x_train[index][np.newaxis, :]\n",
    "for d in [1, 10, 20, 30, 40, 50, 100, 500]:\n",
    "    Pd = PD[:, 0:d]\n",
    "    W = np.dot((x_original - mu), Pd)\n",
    "    x_reconstructed = mu + np.dot(W, Pd.T)\n",
    "    x_residual = x_original - x_reconstructed\n",
    "    pl.figure()\n",
    "    pl.subplot(1, 3, 1)\n",
    "    pl.imshow(vector2image(x_original), cmap='gray')\n",
    "    pl.axis('off')\n",
    "    pl.title('Original Data', fontsize=8)\n",
    "    pl.subplot(1, 3, 2)\n",
    "    pl.imshow(vector2image(x_reconstructed), cmap='gray')\n",
    "    pl.axis('off')\n",
    "    pl.title('{:}-rank Approximation'.format(d), fontsize=8)\n",
    "    pl.subplot(1, 3, 3)\n",
    "    pl.imshow(vector2image(x_residual), cmap='gray')\n",
    "    pl.axis('off')\n",
    "    pl.title('Residual Image, MSE={:.4f}'.format(np.sqrt(np.mean(x_residual**2))), fontsize=8)"
   ]
  },
  {
   "cell_type": "markdown",
   "metadata": {},
   "source": [
    "What happens to the residual between original and reconstructed data with $d$-rank approximation when you make the order of approximation higher?"
   ]
  },
  {
   "cell_type": "markdown",
   "metadata": {},
   "source": [
    "# Anomaly Detection\n",
    "\n",
    "Based on your ACML lecture notes, we will use multivariate Gaussian density (`mgd`) estimator for anomaly detection. In order to use multivariate Gaussian density as a parametric density estimator, one needs to first estimate the parameters of the density estimator. In the following, lets use samples of digit 1 to represent normal behaviour and samples of digit 7 to represent anomoulous behaviour and form a dataset."
   ]
  },
  {
   "cell_type": "code",
   "execution_count": null,
   "metadata": {},
   "outputs": [],
   "source": [
    "d = 2\n",
    "mu = np.mean(x_train, axis=0)\n",
    "W = np.dot((x_train - mu), PD[:,0:d])\n",
    "\n",
    "x_normal = W[y_train==1]\n",
    "y_normal = np.zeros(x_normal.shape[0], dtype=np.int)\n",
    "x_anomaly = W[y_train==7]\n",
    "y_anomaly = np.ones(x_anomaly.shape[0], dtype=np.int)\n",
    "x = np.vstack((x_normal, x_anomaly))\n",
    "y = np.hstack((y_normal, y_anomaly))"
   ]
  },
  {
   "cell_type": "markdown",
   "metadata": {},
   "source": [
    "## Multivariate Gaussian Density Estimator"
   ]
  },
  {
   "cell_type": "code",
   "execution_count": null,
   "metadata": {},
   "outputs": [],
   "source": [
    "def mgd(x, mu, sigma):\n",
    "    \"\"\"\n",
    "    Computes and returns the multivariate Gaussian probability for the input x. It assumes that x and mu are row vectors.\n",
    "    \"\"\"\n",
    "    d = mu.shape[1]\n",
    "    sigma_inv = np.linalg.inv(sigma)\n",
    "    sigma_det = np.linalg.det(sigma)\n",
    "    p = 1.0/((2 * np.pi)**(d/2.0) * sigma_det**(0.5)) * np.exp(-1/2.0 * np.dot((x-mu), np.dot(sigma_inv, (x-mu).T)))[0][0]\n",
    "    return p"
   ]
  },
  {
   "cell_type": "markdown",
   "metadata": {},
   "source": [
    "## Mean Vector and Covariance Matrix for Normal Class"
   ]
  },
  {
   "cell_type": "code",
   "execution_count": null,
   "metadata": {},
   "outputs": [],
   "source": [
    "mu_normal = np.mean(x_normal,axis=0)[np.newaxis, :]\n",
    "sigma_normal = 1.0 / (x_normal.shape[0]-1) * np.dot((x_normal-mu_normal).T, (x_normal-mu_normal))"
   ]
  },
  {
   "cell_type": "markdown",
   "metadata": {},
   "source": [
    "The following script selects a sample from both normal anomaly classes and computes corresponding probabilities"
   ]
  },
  {
   "cell_type": "code",
   "execution_count": null,
   "metadata": {},
   "outputs": [],
   "source": [
    "x = x_normal[0][np.newaxis, :]\n",
    "print('a normal sample with probability of {:.8f}'.format(mgd(x, mu_normal, sigma_normal)))\n",
    "\n",
    "x = x_anomaly[0][np.newaxis, :]\n",
    "print('an anomaly sample with probability of {:.8f}'.format(mgd(x, mu_normal, sigma_normal)))"
   ]
  },
  {
   "cell_type": "markdown",
   "metadata": {},
   "source": [
    "__Now your task is to implement the rest of anomaly detection algorithm!!!__"
   ]
  }
 ],
 "metadata": {
  "kernelspec": {
   "display_name": "Python 3",
   "language": "python",
   "name": "python3"
  },
  "language_info": {
   "codemirror_mode": {
    "name": "ipython",
    "version": 3
   },
   "file_extension": ".py",
   "mimetype": "text/x-python",
   "name": "python",
   "nbconvert_exporter": "python",
   "pygments_lexer": "ipython3",
   "version": "3.7.1"
  }
 },
 "nbformat": 4,
 "nbformat_minor": 2
}
