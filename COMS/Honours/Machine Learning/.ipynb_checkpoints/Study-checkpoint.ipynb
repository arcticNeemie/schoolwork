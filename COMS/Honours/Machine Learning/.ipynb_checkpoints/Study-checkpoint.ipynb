{
 "cells": [
  {
   "cell_type": "markdown",
   "metadata": {},
   "source": [
    "<h2>Load Data</h2>"
   ]
  },
  {
   "cell_type": "code",
   "execution_count": 1,
   "metadata": {},
   "outputs": [],
   "source": [
    "import numpy as np\n",
    "import matplotlib.pyplot as pl\n",
    "\n",
    "# load training data\n",
    "training_data = np.loadtxt('Occupancy Detection/data/trainingdata.txt', usecols=(2,3,4,5,6,7), skiprows=1, delimiter=',')\n",
    "x_training = training_data[:, :-1]\n",
    "y_training = training_data[:, -1]\n",
    "\n",
    "# load testing data\n",
    "testing_data = np.loadtxt('Occupancy Detection/data/testingdata.txt', usecols=(2,3,4,5,6,7), skiprows=1, delimiter=',')\n",
    "x_testing = testing_data[:, :-1]\n",
    "y_testing = testing_data[:, -1]\n",
    "\n",
    "# feature names and their indexes on the 2D NumPy array\n",
    "feature_index_names = {0:'Temperature', 1:'Humidity', 2:'Light', 3:'CO2', 4:'Humidity_Ratio'}\n",
    "\n",
    "x_training_selected = x_training[:,[2, 3]]\n",
    "x_testing_selected = x_testing[:,[2, 3]]\n",
    "\n",
    "for i in range(y_training.shape[0]):\n",
    "    if y_training[i] == 0:\n",
    "        y_training[i] = -1\n",
    "for i in range(y_testing.shape[0]):\n",
    "    if y_testing[i] == 0:\n",
    "        y_testing[i] = -1"
   ]
  },
  {
   "cell_type": "markdown",
   "metadata": {},
   "source": [
    "<h2>Perceptron</h2>\n",
    "<b>Note: </b>Only works for linearly separable data"
   ]
  },
  {
   "cell_type": "code",
   "execution_count": 2,
   "metadata": {},
   "outputs": [
    {
     "name": "stdout",
     "output_type": "stream",
     "text": [
      "Running Epoch  5\n",
      "Running Epoch  10\n",
      "Running Epoch  15\n",
      "Running Epoch  20\n",
      "Running Epoch  25\n",
      "Running Epoch  30\n",
      "Running Epoch  35\n",
      "Running Epoch  40\n",
      "Running Epoch  45\n",
      "Running Epoch  50\n",
      "Running Epoch  55\n",
      "Running Epoch  60\n",
      "Running Epoch  65\n",
      "Running Epoch  70\n",
      "Running Epoch  75\n",
      "Running Epoch  80\n",
      "Running Epoch  85\n",
      "Running Epoch  90\n",
      "Running Epoch  95\n",
      "Running Epoch  100\n",
      "Running Epoch  105\n",
      "Running Epoch  110\n",
      "Running Epoch  115\n",
      "Running Epoch  120\n",
      "Running Epoch  125\n",
      "Running Epoch  130\n",
      "Running Epoch  135\n",
      "Running Epoch  140\n",
      "Running Epoch  145\n",
      "Running Epoch  150\n",
      "Running Epoch  155\n",
      "Running Epoch  160\n",
      "Running Epoch  165\n",
      "Running Epoch  170\n",
      "Running Epoch  175\n",
      "Running Epoch  180\n",
      "Running Epoch  185\n",
      "Running Epoch  190\n",
      "Running Epoch  195\n",
      "Running Epoch  200\n"
     ]
    }
   ],
   "source": [
    "def perceive(X,Y,T=100):\n",
    "    w = np.zeros(X.shape[1]+1)\n",
    "    classified = False\n",
    "    t = 1\n",
    "    while not classified and t<=T:\n",
    "        if t%5 == 0:\n",
    "            print(\"Running Epoch \",t)\n",
    "        classified = True\n",
    "        for n in range(Y.shape[0]):\n",
    "            x = np.insert(X[n],0,1,axis=0)\n",
    "            if Y[n]*np.dot(w,x) <= 0:\n",
    "                classified = False\n",
    "                w = w + np.sign(Y[n])*x\n",
    "        t+=1\n",
    "    return w\n",
    "                \n",
    "    \n",
    "w_perceptron = perceive(x_training_selected,y_training,T=200)"
   ]
  },
  {
   "cell_type": "code",
   "execution_count": 74,
   "metadata": {},
   "outputs": [
    {
     "data": {
      "image/png": "[encoded data removed]",
      "text/plain": [
       "<Figure size 432x288 with 1 Axes>"
      ]
     },
     "metadata": {
      "needs_background": "light"
     },
     "output_type": "display_data"
    }
   ],
   "source": [
    "def scatter_plot_two_features_only(x, y, feature1_name, feature2_name, w, save_figures=False):\n",
    "    c = ['r', 'b', 'g']\n",
    "    m = ['s', 'o', '*']\n",
    "    s = [32, 32, 64]\n",
    "    l = [r'$-1$', r'$1$', r'query']\n",
    "    font_size = 22\n",
    "    x_class0 = x[y==-1, :]\n",
    "    x_class1 = x[y==1.0, :]    \n",
    "    figure_name = feature1_name + ' vs ' + feature2_name + ' Query'\n",
    "    pl.figure(figure_name)\n",
    "    pl.scatter(x_class0[:, 0], x_class0[:, 1], c=c[0], marker=m[0], s=s[0], label=l[0])\n",
    "    pl.scatter(x_class1[:, 0], x_class1[:, 1], c=c[1], marker=m[1], s=s[1], label=l[1])\n",
    "    plot_x = np.array([min(x[:,0]) - 2, max(x[:,0]) + 2])\n",
    "    plot_y = (-(w[0] / w[2]) / (w[0] / w[1]))*plot_x + (-w[0] / w[2])\n",
    "    pl.plot(plot_x,plot_y, c = c[2], linewidth=2)    \n",
    "    pl.xlabel(feature1_name, fontsize=font_size)\n",
    "    pl.ylabel(feature2_name, fontsize=font_size)\n",
    "    pl.legend(scatterpoints=1, fontsize=font_size, loc = 'upper right')\n",
    "    pl.title(figure_name, fontsize=font_size)\n",
    "    pl.tight_layout()\n",
    "    if save_figures:\n",
    "        pl.savefig(figure_name + '.png')\n",
    "        \n",
    "scatter_plot_two_features_only(x_training_selected,y_training,feature_index_names[2], feature_index_names[3],w_perceptron)"
   ]
  },
  {
   "cell_type": "markdown",
   "metadata": {},
   "source": [
    "<h2>SVM</h2>"
   ]
  },
  {
   "cell_type": "code",
   "execution_count": 75,
   "metadata": {},
   "outputs": [],
   "source": [
    "def pegasos(X,Y,lamda = 0.5,T = 10000):\n",
    "    w = np.zeros(X.shape[1]+1)\n",
    "    for t in range(1,T+1):\n",
    "        index = np.random.randint(Y.shape[0])\n",
    "        x = np.insert(X[index],0,1,axis=0)\n",
    "        y = Y[index]\n",
    "        nu = 1.0/(lamda*t)\n",
    "        if y*np.dot(w,x)<1:\n",
    "            w = (1-nu*lamda)*w + nu*y*x\n",
    "        else:\n",
    "            w = (1-nu*lamda)*w\n",
    "    return w\n",
    "\n",
    "w_svm = pegasos(x_training_selected,y_training)"
   ]
  },
  {
   "cell_type": "code",
   "execution_count": 76,
   "metadata": {},
   "outputs": [
    {
     "data": {
      "image/png": "[encoded data removed]",
      "text/plain": [
       "<Figure size 432x288 with 1 Axes>"
      ]
     },
     "metadata": {
      "needs_background": "light"
     },
     "output_type": "display_data"
    }
   ],
   "source": [
    "scatter_plot_two_features_only(x_training_selected,y_training,feature_index_names[2], feature_index_names[3],w_svm)"
   ]
  },
  {
   "cell_type": "code",
   "execution_count": 78,
   "metadata": {},
   "outputs": [
    {
     "name": "stdout",
     "output_type": "stream",
     "text": [
      "Testing\n",
      "0.9711069418386492\n",
      "Training\n",
      "0.9255802529780179\n"
     ]
    }
   ],
   "source": [
    "print(\"Testing\")\n",
    "correct = 0\n",
    "for i in range(y_testing.shape[0]):\n",
    "    x = np.insert(x_testing_selected[i],0,1,axis=0)\n",
    "    prediction = np.dot(w_svm,x)\n",
    "    #print(\"Y = \",y_testing[i],\"Prediction = \",prediction,\"\\n\")\n",
    "    if(y_testing[i]*prediction>0):\n",
    "        correct += 1\n",
    "print(correct/y_testing.shape[0])\n",
    "print(\"Training\")\n",
    "correct = 0\n",
    "for i in range(y_training.shape[0]):\n",
    "    x = np.insert(x_training_selected[i],0,1,axis=0)\n",
    "    prediction = np.dot(w_svm,x)\n",
    "    #print(\"Y = \",y_testing[i],\"Prediction = \",prediction,\"\\n\")\n",
    "    if(y_training[i]*prediction>0):\n",
    "        correct += 1\n",
    "print(correct/y_training.shape[0])"
   ]
  },
  {
   "cell_type": "code",
   "execution_count": null,
   "metadata": {},
   "outputs": [],
   "source": []
  }
 ],
 "metadata": {
  "kernelspec": {
   "display_name": "Python 3",
   "language": "python",
   "name": "python3"
  },
  "language_info": {
   "codemirror_mode": {
    "name": "ipython",
    "version": 3
   },
   "file_extension": ".py",
   "mimetype": "text/x-python",
   "name": "python",
   "nbconvert_exporter": "python",
   "pygments_lexer": "ipython3",
   "version": "3.7.1"
  }
 },
 "nbformat": 4,
 "nbformat_minor": 2
}
