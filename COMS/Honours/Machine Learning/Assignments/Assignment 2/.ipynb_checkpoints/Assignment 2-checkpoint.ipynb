{
 "cells": [
  {
   "cell_type": "markdown",
   "metadata": {},
   "source": [
    "<h1 align=\"center\">Assignment 2</h1>"
   ]
  },
  {
   "cell_type": "code",
   "execution_count": 2,
   "metadata": {},
   "outputs": [],
   "source": [
    "import numpy as np"
   ]
  },
  {
   "cell_type": "markdown",
   "metadata": {},
   "source": [
    "<h2>Question 1: K-Nearest Neighbour Classification</h2>"
   ]
  },
  {
   "cell_type": "markdown",
   "metadata": {},
   "source": [
    "Read in the data from the text files"
   ]
  },
  {
   "cell_type": "code",
   "execution_count": 21,
   "metadata": {},
   "outputs": [],
   "source": [
    "# Training\n",
    "training_data = np.loadtxt('knn_training_data.txt', usecols=(0,1,2,3), delimiter=',')\n",
    "x_training = training_data[:, :-1]\n",
    "y_training = training_data[:, -1]\n",
    "\n",
    "# Testing\n",
    "testing_data = np.loadtxt('knn_testing_data.txt', usecols=(0,1,2,3), delimiter=',')\n",
    "x_testing = testing_data[:, :-1]\n",
    "y_testing = testing_data[:, -1]"
   ]
  },
  {
   "cell_type": "markdown",
   "metadata": {},
   "source": [
    "K-Nearest Neighbour algorithm"
   ]
  },
  {
   "cell_type": "code",
   "execution_count": 57,
   "metadata": {},
   "outputs": [],
   "source": [
    "#Returns the k nearest neighbours in x to point q, as well as the sorted index subarray and the sorted distance subarray\n",
    "def kNN(x,y,q,k):\n",
    "    classes = np.unique(y) #Get all unique classes of y\n",
    "    class_counts = np.zeros(len(classes)) #Used to count each occurence of each class\n",
    "    dist = np.sqrt(np.sum((x-q)**2,axis=1)) #Vectorised distance calculation using Euclidean metric\n",
    "    index = np.argsort(dist) #Returns the indices of the sorted distance array\n",
    "    for c in np.arange(len(classes)):\n",
    "        class_counts[c] = np.sum(y[index[0:k]]==classes[c]) #Count the occurence of each class\n",
    "    q_class = np.argmax(class_counts) #Returns the index of the label with the highest count\n",
    "    y_labels = y[index[0:k]]\n",
    "    return q_class,index[0:k],np.sort(dist)[0:k],y_labels"
   ]
  },
  {
   "cell_type": "markdown",
   "metadata": {},
   "source": [
    "Compare against examples\n",
    "<br>\n",
    "<br>\n",
    "<b>NB: </b>For some reason, my results are 1 less than his for each index. Something to do with incuding the query point in the search. But the distances and predictions are correct"
   ]
  },
  {
   "cell_type": "code",
   "execution_count": 59,
   "metadata": {},
   "outputs": [
    {
     "name": "stdout",
     "output_type": "stream",
     "text": [
      "1NN: Record:  [7]  Distance:  [0.24392622] Labels:  [0.]  Predicted:  0 \n",
      "\n",
      "3NN: Record:  [ 7 13 11]  Distance:  [0.24392622 0.96041658 2.2597345 ] Labels:  [0. 0. 0.]  Predicted:  0 \n",
      "\n"
     ]
    }
   ],
   "source": [
    "q = np.array([2.99,7.20,-1.22])\n",
    "one_NN = kNN(x_training,y_training,q,1)\n",
    "print(\"1NN: Record: \",one_NN[1],\" Distance: \",one_NN[2],\"Labels: \",one_NN[3],\" Predicted: \",one_NN[0],\"\\n\")\n",
    "\n",
    "three_NN = kNN(x_training,y_training,q,3)\n",
    "print(\"3NN: Record: \",three_NN[1],\" Distance: \",three_NN[2],\"Labels: \",three_NN[3],\" Predicted: \",three_NN[0],\"\\n\")"
   ]
  },
  {
   "cell_type": "markdown",
   "metadata": {},
   "source": [
    "<b>Question 1.1: </b>What is the prediction of the 1-NN classifier for x = [4.65,-4.83,3.46]"
   ]
  },
  {
   "cell_type": "code",
   "execution_count": 51,
   "metadata": {},
   "outputs": [
    {
     "name": "stdout",
     "output_type": "stream",
     "text": [
      "1NN: Record:  [8]  Distance:  [1.98012626]  Predicted:  0 \n",
      "\n"
     ]
    }
   ],
   "source": [
    "q = np.array([4.65,-4.83,3.46])\n",
    "one_NN = kNN(x_training,y_training,q,1)\n",
    "print(\"1NN: Record: \",one_NN[1],\" Distance: \",one_NN[2],\" Predicted: \",one_NN[0],\"\\n\")"
   ]
  },
  {
   "cell_type": "code",
   "execution_count": null,
   "metadata": {},
   "outputs": [],
   "source": []
  }
 ],
 "metadata": {
  "kernelspec": {
   "display_name": "Python 3",
   "language": "python",
   "name": "python3"
  },
  "language_info": {
   "codemirror_mode": {
    "name": "ipython",
    "version": 3
   },
   "file_extension": ".py",
   "mimetype": "text/x-python",
   "name": "python",
   "nbconvert_exporter": "python",
   "pygments_lexer": "ipython3",
   "version": "3.7.1"
  }
 },
 "nbformat": 4,
 "nbformat_minor": 2
}
