{
 "cells": [
  {
   "cell_type": "markdown",
   "metadata": {},
   "source": [
    "<h1 align=\"center\">Assignment 2</h1>"
   ]
  },
  {
   "cell_type": "code",
   "execution_count": 2,
   "metadata": {},
   "outputs": [],
   "source": [
    "import numpy as np"
   ]
  },
  {
   "cell_type": "markdown",
   "metadata": {},
   "source": [
    "<h2>Question 1: K-Nearest Neighbour Classification</h2>"
   ]
  },
  {
   "cell_type": "markdown",
   "metadata": {},
   "source": [
    "Read in the data from the text files"
   ]
  },
  {
   "cell_type": "code",
   "execution_count": 3,
   "metadata": {},
   "outputs": [],
   "source": [
    "# Training\n",
    "training_data = np.loadtxt('knn_training_data.txt', usecols=(0,1,2,3), delimiter=',')\n",
    "x_training = training_data[:, :-1]\n",
    "y_training = training_data[:, -1]\n",
    "\n",
    "# Testing\n",
    "testing_data = np.loadtxt('knn_testing_data.txt', usecols=(0,1,2,3), delimiter=',')\n",
    "x_testing = testing_data[:, :-1]\n",
    "y_testing = testing_data[:, -1]"
   ]
  },
  {
   "cell_type": "markdown",
   "metadata": {},
   "source": [
    "K-Nearest Neighbour algorithm"
   ]
  },
  {
   "cell_type": "code",
   "execution_count": 4,
   "metadata": {},
   "outputs": [],
   "source": [
    "#Returns the k nearest neighbours in x to point q, as well as the sorted index subarray and the sorted distance subarray\n",
    "def kNN(x,y,q,k):\n",
    "    classes = np.unique(y) #Get all unique classes of y\n",
    "    class_counts = np.zeros(len(classes)) #Used to count each occurence of each class\n",
    "    dist = np.sqrt(np.sum((x-q)**2,axis=1)) #Vectorised distance calculation using Euclidean metric\n",
    "    index = np.argsort(dist) #Returns the indices of the sorted distance array\n",
    "    for c in np.arange(len(classes)):\n",
    "        class_counts[c] = np.sum(y[index[0:k]]==classes[c]) #Count the occurence of each class\n",
    "    q_class = np.argmax(class_counts) #Returns the index of the label with the highest count\n",
    "    y_labels = y[index[0:k]]\n",
    "    return q_class,index[0:k]+1,np.sort(dist)[0:k],y_labels"
   ]
  },
  {
   "cell_type": "markdown",
   "metadata": {},
   "source": [
    "Compare against examples"
   ]
  },
  {
   "cell_type": "code",
   "execution_count": 5,
   "metadata": {},
   "outputs": [
    {
     "name": "stdout",
     "output_type": "stream",
     "text": [
      "1NN for q = [ 2.99  7.2  -1.22]\n",
      "Record: 8 with Distance: 0.24 and Label: 0\n",
      "Prediction: 0\n",
      "\n",
      "3NN for q = [ 2.99  7.2  -1.22]\n",
      "Record: 8 with Distance: 0.24 and Label: 0\n",
      "Record: 14 with Distance: 0.96 and Label: 0\n",
      "Record: 12 with Distance: 2.26 and Label: 0\n",
      "Prediction: 0\n",
      "\n"
     ]
    }
   ],
   "source": [
    "def kNN_query(q,x,y,k):\n",
    "    neighbours = kNN(x,y,q,k)\n",
    "    print(\"%iNN for q = %s\" %(k,str(q)))\n",
    "    for i in range(k):\n",
    "        print(\"Record: %i with Distance: %.2f and Label: %i\" %(neighbours[1][i],neighbours[2][i],neighbours[3][i]))\n",
    "    print(\"Prediction: %i\\n\" %(neighbours[0]))\n",
    "\n",
    "q = np.array([2.99,7.20,-1.22])\n",
    "kNN_query(q,x_training,y_training,1)\n",
    "kNN_query(q,x_training,y_training,3)"
   ]
  },
  {
   "cell_type": "markdown",
   "metadata": {},
   "source": [
    "<b>Question 1.1: </b>What is the prediction of the 1-NN classifier for x = [4.65,-4.83,3.46]\n",
    "<br>\n",
    "[5]"
   ]
  },
  {
   "cell_type": "code",
   "execution_count": 6,
   "metadata": {},
   "outputs": [
    {
     "name": "stdout",
     "output_type": "stream",
     "text": [
      "1NN for q = [ 4.65 -4.83  3.46]\n",
      "Record: 9 with Distance: 1.98 and Label: 0\n",
      "Prediction: 0\n",
      "\n"
     ]
    }
   ],
   "source": [
    "q = np.array([4.65,-4.83,3.46])\n",
    "kNN_query(q,x_training,y_training,1)"
   ]
  },
  {
   "cell_type": "markdown",
   "metadata": {},
   "source": [
    "<b>Question 1.2: </b>What is the prediction of the 3-NN classifier for x = [1.45,3.61,-4.06]\n",
    "<br>\n",
    "[5]"
   ]
  },
  {
   "cell_type": "code",
   "execution_count": 7,
   "metadata": {},
   "outputs": [
    {
     "name": "stdout",
     "output_type": "stream",
     "text": [
      "3NN for q = [ 1.45  3.61 -4.06]\n",
      "Record: 23 with Distance: 0.92 and Label: 1\n",
      "Record: 28 with Distance: 1.75 and Label: 1\n",
      "Record: 21 with Distance: 1.82 and Label: 1\n",
      "Prediction: 1\n",
      "\n"
     ]
    }
   ],
   "source": [
    "q = np.array([1.45,3.61,-4.06])\n",
    "kNN_query(q,x_training,y_training,3)"
   ]
  },
  {
   "cell_type": "markdown",
   "metadata": {},
   "source": [
    "<b>Question 1.3: </b>What is the prediction of the 5-NN classifier for x = [-0.3,2.48,-2.95]\n",
    "<br>\n",
    "[5]"
   ]
  },
  {
   "cell_type": "code",
   "execution_count": 8,
   "metadata": {},
   "outputs": [
    {
     "name": "stdout",
     "output_type": "stream",
     "text": [
      "5NN for q = [-0.3   2.48 -2.95]\n",
      "Record: 32 with Distance: 0.81 and Label: 1\n",
      "Record: 39 with Distance: 0.95 and Label: 1\n",
      "Record: 21 with Distance: 1.00 and Label: 1\n",
      "Record: 28 with Distance: 1.22 and Label: 1\n",
      "Record: 23 with Distance: 2.20 and Label: 1\n",
      "Prediction: 1\n",
      "\n"
     ]
    }
   ],
   "source": [
    "q = np.array([-0.3,2.48,-2.95])\n",
    "kNN_query(q,x_training,y_training,5)"
   ]
  },
  {
   "cell_type": "markdown",
   "metadata": {},
   "source": [
    "<b>Question 1.4: </b>Using the above training and testing data sets given in Table 1, compute training and test error rates for\n",
    "5-NN, 7-NN, 9-NN, 11-NN and 13-NN classifiers to complete the following table where train and test error rates for 1-NN\n",
    "and 3-NN classifiers are provided for you.\n",
    "<br>\n",
    "[10]"
   ]
  },
  {
   "cell_type": "code",
   "execution_count": 15,
   "metadata": {},
   "outputs": [
    {
     "name": "stdout",
     "output_type": "stream",
     "text": [
      " K         Training Error\n",
      " 1           0.0000\n",
      " 3           0.0000\n",
      " 5           0.0000\n",
      " 7           0.0000\n",
      " 9           0.0500\n",
      "11           0.0500\n",
      "13           0.0500\n",
      "15           0.0250\n",
      "17           0.1250\n",
      "19           0.0750\n",
      "21           0.1000\n",
      "23           0.1750\n",
      "25           0.1500\n",
      "27           0.1250\n",
      "29           0.2250\n",
      "31           0.2750\n",
      "33           0.4000\n",
      "35           0.3250\n",
      "37           0.3000\n",
      "39           0.3250\n"
     ]
    }
   ],
   "source": [
    "def computeError(x,y,max_k,type=\"Training\"):\n",
    "    N = y.shape[0] # the number of examples in training dataset\n",
    "    print('{:>2} {:>16}'.format('K', '%s Error') %(type))\n",
    "    for K in np.arange(1, max_k+1, 2):\n",
    "        y_prediction = np.zeros(N)\n",
    "        for n in np.arange(N):\n",
    "            x_q = x[n]\n",
    "            y_prediction[n] = kNN(x, y, x_q, K)[0]\n",
    "        incorrect = np.sum(y != y_prediction)\n",
    "        #correct = np.sum(y == y_prediction)\n",
    "        classification_error = incorrect/N\n",
    "        print('{:>2.0f} {:>16.4f}'.format(K, classification_error))\n",
    "        \n",
    "computeError(x_training,y_training,39,\"Training\")"
   ]
  },
  {
   "cell_type": "code",
   "execution_count": 16,
   "metadata": {},
   "outputs": [
    {
     "name": "stdout",
     "output_type": "stream",
     "text": [
      " K         Testing Error\n",
      " 1           0.0000\n",
      " 3           0.0000\n",
      " 5           0.0000\n",
      " 7           0.0000\n",
      " 9           0.0500\n",
      "11           0.0500\n",
      "13           0.0500\n",
      "15           0.0250\n",
      "17           0.1250\n",
      "19           0.0750\n",
      "21           0.1000\n",
      "23           0.1750\n",
      "25           0.1500\n",
      "27           0.1250\n",
      "29           0.2250\n",
      "31           0.2750\n",
      "33           0.4000\n",
      "35           0.3250\n",
      "37           0.3000\n",
      "39           0.3250\n"
     ]
    }
   ],
   "source": [
    "computeError(x_training,y_testing,39,\"Testing\")"
   ]
  },
  {
   "cell_type": "markdown",
   "metadata": {},
   "source": [
    "<h2>Question 2: Logistic Regression</h2>"
   ]
  },
  {
   "cell_type": "code",
   "execution_count": 36,
   "metadata": {},
   "outputs": [],
   "source": [
    "def sigmoid(x,beta=1):\n",
    "    return 1/(1+np.exp(-beta*x))"
   ]
  },
  {
   "cell_type": "markdown",
   "metadata": {},
   "source": [
    "<b>Question 2.1: </b>What is the range of $h_{\\Theta}(x)$? For what value(s) of $\\beta$ this classifier cannot learn from an arbitrary data set?\n",
    "<br>\n",
    "[5]"
   ]
  },
  {
   "cell_type": "markdown",
   "metadata": {},
   "source": [
    "$h_{\\Theta}(x) \\in [0,1]$\n",
    "<br>\n",
    "<br>\n",
    "If $\\beta =0$, the classifier is unable to learn"
   ]
  },
  {
   "cell_type": "markdown",
   "metadata": {},
   "source": [
    "<b>Question 2.3: </b>Suppose that $\\Theta=[0.63155343,-0.69559537,-0.37831336,-0.4340919]$ is obtained after running batch gradient descent\n",
    "learning algorithm for $\\beta$ = 1. The output of logistic regression model for an input x(n) is mapped to a binary output (1 if $h_{\\Theta}(x^{(n)})> 0.5$, 0 otherwise). Given the above information and the testing data in Table 1, complete the following table.\n",
    "<br>\n",
    "[15]"
   ]
  },
  {
   "cell_type": "code",
   "execution_count": null,
   "metadata": {},
   "outputs": [],
   "source": []
  }
 ],
 "metadata": {
  "kernelspec": {
   "display_name": "Python 3",
   "language": "python",
   "name": "python3"
  },
  "language_info": {
   "codemirror_mode": {
    "name": "ipython",
    "version": 3
   },
   "file_extension": ".py",
   "mimetype": "text/x-python",
   "name": "python",
   "nbconvert_exporter": "python",
   "pygments_lexer": "ipython3",
   "version": "3.7.1"
  }
 },
 "nbformat": 4,
 "nbformat_minor": 2
}
