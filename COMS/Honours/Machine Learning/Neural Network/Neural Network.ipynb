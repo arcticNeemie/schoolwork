{
 "cells": [
  {
   "cell_type": "markdown",
   "metadata": {},
   "source": [
    "<h1 align=\"center\">Neural Network</h1>"
   ]
  },
  {
   "cell_type": "markdown",
   "metadata": {},
   "source": [
    "<h2>Imports</h2>"
   ]
  },
  {
   "cell_type": "code",
   "execution_count": 2,
   "metadata": {},
   "outputs": [],
   "source": [
    "import numpy as np"
   ]
  },
  {
   "cell_type": "markdown",
   "metadata": {},
   "source": [
    "<h2>Data</h2>\n",
    "This stuff is copied directly from the Occupancy Detection example"
   ]
  },
  {
   "cell_type": "code",
   "execution_count": 3,
   "metadata": {},
   "outputs": [
    {
     "name": "stdout",
     "output_type": "stream",
     "text": [
      "training data:\n",
      "number of samples_______ = 8143\n",
      "number of zeros_________ = 6414\n",
      "number of ones__________ = 1729\n",
      "testing data:\n",
      "number of samples_______ = 2665\n",
      "number of zeros_________ = 1693\n",
      "number of ones__________ = 972\n"
     ]
    }
   ],
   "source": [
    "# load training data\n",
    "training_data = np.loadtxt('data/trainingdata.txt', usecols=(2,3,4,5,6,7), skiprows=1, delimiter=',')\n",
    "x_training = training_data[:, :-1]\n",
    "y_training = training_data[:, -1]\n",
    "\n",
    "# load testing data\n",
    "testing_data = np.loadtxt('data/testingdata.txt', usecols=(2,3,4,5,6,7), skiprows=1, delimiter=',')\n",
    "x_testing = testing_data[:, :-1]\n",
    "y_testing = testing_data[:, -1]\n",
    "\n",
    "# feature names and their indexes on the 2D NumPy array\n",
    "feature_index_names = {0:'Temperature', 1:'Humidity', 2:'Light', 3:'CO2', 4:'Humidity_Ratio'}\n",
    "\n",
    "# statistics of training and testing datasets\n",
    "print('training data:')\n",
    "print('{:_<24s} = {:d}'.format('number of samples', y_training.shape[0]))\n",
    "print('{:_<24s} = {:d}'.format('number of zeros', np.sum(y_training == 0)))\n",
    "print('{:_<24s} = {:d}'.format('number of ones', np.sum(y_training == 1)))\n",
    "\n",
    "print('testing data:')\n",
    "print('{:_<24s} = {:d}'.format('number of samples', y_testing.shape[0]))\n",
    "print('{:_<24s} = {:d}'.format('number of zeros', np.sum(y_testing == 0)))\n",
    "print('{:_<24s} = {:d}'.format('number of ones', np.sum(y_testing == 1)))"
   ]
  },
  {
   "cell_type": "markdown",
   "metadata": {},
   "source": [
    "For reasons discussed in the Occupancy Detection lab, we shall only consider the features <b>Light</b> and <b>CO<sub>2</sub></b>"
   ]
  },
  {
   "cell_type": "code",
   "execution_count": 4,
   "metadata": {},
   "outputs": [
    {
     "name": "stdout",
     "output_type": "stream",
     "text": [
      "(8143, 2)\n",
      "(2665, 2)\n"
     ]
    }
   ],
   "source": [
    "x_training_selected = x_training[:,[2, 3]]\n",
    "x_testing_selected = x_testing[:,[2, 3]]\n",
    "print(x_training_selected.shape)\n",
    "print(x_testing_selected.shape)"
   ]
  },
  {
   "cell_type": "markdown",
   "metadata": {},
   "source": [
    "We now normalize the data"
   ]
  },
  {
   "cell_type": "code",
   "execution_count": 5,
   "metadata": {},
   "outputs": [
    {
     "name": "stdout",
     "output_type": "stream",
     "text": [
      "[[0.50855837 0.86102752]\n",
      " [0.51546614 0.85690995]\n",
      " [0.5126364  0.8586058 ]\n",
      " ...\n",
      " [0.47669095 0.87907095]\n",
      " [0.46679766 0.88436415]\n",
      " [0.47817743 0.87826325]]\n",
      "\n",
      "\n",
      "\n",
      "[[0.61557055 0.78808178]\n",
      " [0.6054123  0.79591202]\n",
      " [0.59693796 0.8022874 ]\n",
      " ...\n",
      " [0.58734213 0.80933876]\n",
      " [0.58641191 0.81001301]\n",
      " [0.57890263 0.81539668]]\n"
     ]
    }
   ],
   "source": [
    "def normalized(a, axis=-1, order=2):\n",
    "    l2 = np.atleast_1d(np.linalg.norm(a, order, axis))\n",
    "    l2[l2==0] = 1\n",
    "    return a / np.expand_dims(l2, axis)\n",
    "\n",
    "x_training_selected = normalized(x_training_selected)\n",
    "print(x_training_selected)\n",
    "print(\"\\n\\n\")\n",
    "x_testing_selected = normalized(x_testing_selected)\n",
    "print(x_testing_selected)"
   ]
  },
  {
   "cell_type": "markdown",
   "metadata": {},
   "source": [
    "<h2>Activation Functions</h2>"
   ]
  },
  {
   "cell_type": "markdown",
   "metadata": {},
   "source": [
    "For simplicity, every single node has the same activation function"
   ]
  },
  {
   "cell_type": "code",
   "execution_count": 6,
   "metadata": {},
   "outputs": [],
   "source": [
    "def sigmoid(z):\n",
    "    return 1/(1+np.exp(-z))"
   ]
  },
  {
   "cell_type": "markdown",
   "metadata": {},
   "source": [
    "<h2>Initialize Parameters</h2>\n",
    "Here we initialize all parameters"
   ]
  },
  {
   "cell_type": "code",
   "execution_count": 11,
   "metadata": {},
   "outputs": [
    {
     "name": "stdout",
     "output_type": "stream",
     "text": [
      "[[0.96711204 0.48151508 0.39954015]\n",
      " [0.15553024 0.10378368 0.68387004]\n",
      " [0.52473635 0.31342871 0.34531732]] \n",
      "\n",
      "\n",
      "[[0.94745525 0.4694904  0.40406323 0.53596799]\n",
      " [0.45510328 0.78356116 0.24593433 0.61222427]] \n",
      "\n",
      "\n",
      "[[0.79242661 0.136932   0.84370495]] \n",
      "\n",
      "\n"
     ]
    }
   ],
   "source": [
    "#Number of hidden layers\n",
    "layer = 2\n",
    "#Size of input, not including bias\n",
    "xsize = x_training_selected.shape[1]\n",
    "#Size of output\n",
    "osize = 1\n",
    "#Number of nodes in each layer, not including bias and including input and output\n",
    "size = [xsize,3,2,osize]\n",
    "#Weight matrices\n",
    "weights = []\n",
    "for i in range(layer+1):\n",
    "    dim1 = size[i+1]\n",
    "    dim2 = size[i]+1\n",
    "    weights.append(np.random.rand(dim1,dim2))\n",
    "\n",
    "for w in weights:\n",
    "    print(w,\"\\n\\n\")"
   ]
  },
  {
   "cell_type": "markdown",
   "metadata": {},
   "source": [
    "<h2>Forward Propagation</h2>"
   ]
  },
  {
   "cell_type": "code",
   "execution_count": 12,
   "metadata": {},
   "outputs": [
    {
     "name": "stdout",
     "output_type": "stream",
     "text": [
      "[[0.8359412 ]\n",
      " [0.83594375]\n",
      " [0.83594272]\n",
      " ...\n",
      " [0.8359274 ]\n",
      " [0.83592245]\n",
      " [0.83592812]]\n"
     ]
    }
   ],
   "source": [
    "def forwardProp(X):\n",
    "    output = []\n",
    "    for x in X:         #Iterate through each data point\n",
    "        #Add bias unit\n",
    "        x = np.array(np.append([1],x))\n",
    "        #Define output from previous layer\n",
    "        g = x\n",
    "        for l in range(1,layer+2):        #Iterate through each layer\n",
    "            #Get weights for this layer\n",
    "            w = weights[l-1]\n",
    "            #Get s\n",
    "            s = np.matmul(w,g)\n",
    "            #Redefine output\n",
    "            g = np.zeros((s.shape))\n",
    "            if(l!=layer+1):\n",
    "                #Add bias\n",
    "                g = np.append([1],g)\n",
    "                for i in range(size[l]):\n",
    "                    g[i+1] = sigmoid(s[i])\n",
    "                #print(\"Layer \",l,\" g = \",g,\"\\n\\n\")\n",
    "            else:\n",
    "                for i in range(size[l]):\n",
    "                    g[i] = sigmoid(s[i])\n",
    "        #Append final output\n",
    "        output.append(g)\n",
    "        #print(\"Output for \",x,\" is \",g,\"\\n\")\n",
    "\n",
    "    return np.array(output)\n",
    "\n",
    "output = forwardProp(x_training_selected)\n",
    "print(output)"
   ]
  },
  {
   "cell_type": "code",
   "execution_count": null,
   "metadata": {},
   "outputs": [],
   "source": []
  }
 ],
 "metadata": {
  "kernelspec": {
   "display_name": "Python 3",
   "language": "python",
   "name": "python3"
  },
  "language_info": {
   "codemirror_mode": {
    "name": "ipython",
    "version": 3
   },
   "file_extension": ".py",
   "mimetype": "text/x-python",
   "name": "python",
   "nbconvert_exporter": "python",
   "pygments_lexer": "ipython3",
   "version": "3.7.1"
  }
 },
 "nbformat": 4,
 "nbformat_minor": 2
}
