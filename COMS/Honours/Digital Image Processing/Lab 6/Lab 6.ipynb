{
 "cells": [
  {
   "cell_type": "markdown",
   "metadata": {},
   "source": [
    "<h1 align=\"center\">Lab 6</h1>"
   ]
  },
  {
   "cell_type": "markdown",
   "metadata": {},
   "source": [
    "<h2>Imports and Stuff</h2>"
   ]
  },
  {
   "cell_type": "code",
   "execution_count": 1,
   "metadata": {},
   "outputs": [],
   "source": [
    "import numpy as np\n",
    "import matplotlib.pyplot as plt\n",
    "import copy\n",
    "import math\n",
    "from skimage import morphology\n",
    "from skimage import measure\n",
    "from skimage.color import rgb2gray\n",
    "from scipy import ndimage\n",
    "from PIL import Image\n",
    "\n",
    "def displayImage(images, nrows = 1, ncols=1, title=[],image_max=0,plotsize=10):\n",
    "    #Handle the case of 1 image\n",
    "    if nrows == 1 and ncols == 1:\n",
    "        images = [images]\n",
    "    #Mismatch\n",
    "    if len(images) != nrows*ncols:\n",
    "        print(\"Number of images != number of subplots\")\n",
    "        return\n",
    "    #Title mismathc\n",
    "    if len(images) != len(title) and len(title)!=0:\n",
    "        print(\"Number of images != number of titles\")\n",
    "        return\n",
    "    fig = plt.figure(figsize=(plotsize,plotsize))\n",
    "    ax = []\n",
    "    for i in range(1, ncols*nrows +1):\n",
    "        image = images[i-1]\n",
    "        \n",
    "        #Deal for various types\n",
    "        type = image.dtype\n",
    "        if np.issubdtype(type, np.integer):\n",
    "            if image_max==0:\n",
    "                im_max = np.iinfo(type).max\n",
    "            else:\n",
    "                im_max=copy.deepcopy(image_max)\n",
    "        else:\n",
    "            im_max = 1\n",
    "        \n",
    "        plt.gray()\n",
    "        ax.append( fig.add_subplot(nrows, ncols,i))\n",
    "        if len(title)!=0:\n",
    "            ax[-1].set_title(title[i-1])\n",
    "        plt.axis(\"off\")\n",
    "        plt.imshow(image,vmin=0,vmax=im_max)\n",
    "    plt.show()\n",
    "    \n",
    "#Convert float to uint8\n",
    "def im2int8(image):\n",
    "    image = image.astype(np.float32)\n",
    "    image = 255 * image\n",
    "    image = image.astype(np.uint8)\n",
    "    return image\n",
    "\n",
    "#Converts an image to float32\n",
    "def im2float32(image):\n",
    "    type = image.dtype\n",
    "    if np.issubdtype(type, np.integer):\n",
    "        info = np.iinfo(image.dtype)\n",
    "        image = image.astype(np.float32) / info.max\n",
    "    return image\n"
   ]
  },
  {
   "cell_type": "markdown",
   "metadata": {},
   "source": [
    "<h2>Problems</h2>"
   ]
  },
  {
   "cell_type": "markdown",
   "metadata": {},
   "source": [
    "<b>Question 1: </b>Given the image in Figure 1 (‘circles.tif’),\n",
    "<br>\n",
    "<ul>\n",
    "    <li>How would you split the image into disconnected components?\n",
    "</ul>"
   ]
  },
  {
   "cell_type": "markdown",
   "metadata": {},
   "source": [
    "<b>Answer: </b>Appy an erosion to the image, which shrinks each circle."
   ]
  },
  {
   "cell_type": "markdown",
   "metadata": {},
   "source": [
    "<ul>\n",
    "    <li>Try your idea out in Python or Matlab.\n",
    "</ul>"
   ]
  },
  {
   "cell_type": "code",
   "execution_count": 2,
   "metadata": {
    "scrolled": true
   },
   "outputs": [
    {
     "data": {
      "image/png": "[encoded data removed]",
      "text/plain": [
       "<Figure size 720x720 with 2 Axes>"
      ]
     },
     "metadata": {
      "needs_background": "light"
     },
     "output_type": "display_data"
    }
   ],
   "source": [
    "circles = Image.open(\"circles.tif\")\n",
    "circles = np.asarray(circles)\n",
    "\n",
    "diskSize = 7\n",
    "B = morphology.disk(diskSize)\n",
    "\n",
    "C = np.logical_not(morphology.disk(diskSize+1)).astype(np.uint8)\n",
    "\n",
    "circles1 = morphology.binary_erosion(circles,B)\n",
    "\n",
    "displayImage([circles,circles1],1,2,[\"Original\",\"Eroded Image\"])"
   ]
  },
  {
   "cell_type": "markdown",
   "metadata": {},
   "source": [
    "<ul>\n",
    "    <li>How would you isolate the two biggest circles in the image?\n",
    "</ul>"
   ]
  },
  {
   "cell_type": "markdown",
   "metadata": {},
   "source": [
    "<b>Answer: </b>Erode enough to isolate just the two circles, then dilate by the same amount to enlarge them."
   ]
  },
  {
   "cell_type": "code",
   "execution_count": 3,
   "metadata": {},
   "outputs": [
    {
     "data": {
      "image/png": "[encoded data removed]",
      "text/plain": [
       "<Figure size 720x720 with 3 Axes>"
      ]
     },
     "metadata": {
      "needs_background": "light"
     },
     "output_type": "display_data"
    }
   ],
   "source": [
    "circles = Image.open(\"circles.tif\")\n",
    "circles = np.asarray(circles)\n",
    "\n",
    "diskSize = 25\n",
    "B = morphology.disk(diskSize)\n",
    "\n",
    "circles1 = morphology.binary_erosion(circles,B)\n",
    "circles2 = morphology.binary_dilation(circles1,B)\n",
    "displayImage([circles,circles1,circles2],1,3,[\"Original Image\",\"Eroded Image\",\"Re-dilated Image\"])"
   ]
  },
  {
   "cell_type": "markdown",
   "metadata": {},
   "source": [
    "<b>Question 2: </b>Given the image ‘UTK.tif’,\n",
    "<ul>\n",
    "    <li>How would you extract the border of the image?\n",
    "</ul>"
   ]
  },
  {
   "cell_type": "code",
   "execution_count": 4,
   "metadata": {},
   "outputs": [
    {
     "data": {
      "image/png": "[encoded data removed]",
      "text/plain": [
       "<Figure size 1440x1440 with 3 Axes>"
      ]
     },
     "metadata": {
      "needs_background": "light"
     },
     "output_type": "display_data"
    }
   ],
   "source": [
    "utk = Image.open(\"UTK.tif\")\n",
    "utk = np.asarray(utk)\n",
    "#utk = rgb2gray(utk)\n",
    "\n",
    "Bsize = 3\n",
    "B = np.ones((Bsize,Bsize))\n",
    "utk2 = morphology.binary_erosion(utk,B)\n",
    "utk2 = utk2.astype(np.uint8)*255\n",
    "utk3 = utk-utk2\n",
    "\n",
    "displayImage([utk,utk2,utk3],1,3,[\"Original\",\"Eroded\",\"Difference\"],plotsize=20)"
   ]
  },
  {
   "cell_type": "markdown",
   "metadata": {},
   "source": [
    "<ul>\n",
    "    <li>How would you isolate one of the letters, say ‘K’, in the image?\n",
    "</ul>\n",
    "<br>\n",
    "Find connected component of a point in K"
   ]
  },
  {
   "cell_type": "code",
   "execution_count": 11,
   "metadata": {},
   "outputs": [
    {
     "data": {
      "image/png": "[encoded data removed]",
      "text/plain": [
       "<Figure size 720x720 with 2 Axes>"
      ]
     },
     "metadata": {
      "needs_background": "light"
     },
     "output_type": "display_data"
    }
   ],
   "source": [
    "labeled, nr_objects = ndimage.label(utk)\n",
    "displayImage([utk,labeled.astype(np.bool)],1,2,title=[\"Original\",\"Connected Components\"])"
   ]
  },
  {
   "cell_type": "markdown",
   "metadata": {},
   "source": [
    "<b>Question 3:</b>Given the image in Figure 2 (‘samll_sqaures.png’),\n",
    "<ul>\n",
    "    <li>How to find the (approximate) central coordinate of the smallest square, which is a 4x4 square, in the\n",
    "image?\n",
    "    <li>Once the coordinate is identified, how to reconstruct the small square?\n",
    "</ul>"
   ]
  },
  {
   "cell_type": "code",
   "execution_count": 30,
   "metadata": {},
   "outputs": [
    {
     "data": {
      "image/png": "[encoded data removed]",
      "text/plain": [
       "<Figure size 720x720 with 4 Axes>"
      ]
     },
     "metadata": {
      "needs_background": "light"
     },
     "output_type": "display_data"
    }
   ],
   "source": [
    "squares = plt.imread(\"small_square.png\")\n",
    "\n",
    "B = np.ones((4,4))\n",
    "Bcom = np.zeros((6,6))\n",
    "Bcom[:,0] = 1\n",
    "Bcom[:,5] = 1\n",
    "Bcom[0,:] = 1\n",
    "Bcom[5,:] = 1\n",
    "\n",
    "matching = ndimage.morphology.binary_hit_or_miss(squares,B)\n",
    "smallest = ndimage.morphology.binary_hit_or_miss(squares,B,Bcom)\n",
    "reconstructed = morphology.binary_dilation(smallest,B)\n",
    "displayImage([squares,matching,smallest,reconstructed],1,4, \\\n",
    "             title=[\"Original\",\"Hit or Miss with B1\",\"Hit or Miss with B1 and B2\",\"Redilated\"])"
   ]
  },
  {
   "cell_type": "markdown",
   "metadata": {},
   "source": [
    "<b>Question 6: </b>Given the image ‘noisy_fingerprint’, perform the following operations.\n",
    "<ul>\n",
    "    <li>Remove the noise in the image using suitable morphological operations.\n",
    "    <li>Thin the fingerprint ridges using suitable morphological operations.\n",
    "</ul>"
   ]
  },
  {
   "cell_type": "code",
   "execution_count": 41,
   "metadata": {},
   "outputs": [
    {
     "data": {
      "image/png": "[encoded data removed]",
      "text/plain": [
       "<Figure size 720x720 with 3 Axes>"
      ]
     },
     "metadata": {
      "needs_background": "light"
     },
     "output_type": "display_data"
    }
   ],
   "source": [
    "finger = Image.open('noisy_fingerprint.tif')\n",
    "finger = np.asarray(finger)\n",
    "\n",
    "B = np.ones((3,3))\n",
    "\n",
    "finger_salt = morphology.binary_opening(finger,B)\n",
    "finger_noiseless = morphology.binary_closing(finger_salt,B)\n",
    "\n",
    "finger_thin = morphology.thin(finger_noiseless)\n",
    "\n",
    "displayImage([finger,finger_noiseless,finger_thin],1,3,title=[\"Original\",\"Noise Removed\",\"Thinned\"])"
   ]
  },
  {
   "cell_type": "code",
   "execution_count": null,
   "metadata": {},
   "outputs": [],
   "source": []
  }
 ],
 "metadata": {
  "kernelspec": {
   "display_name": "Python 3",
   "language": "python",
   "name": "python3"
  },
  "language_info": {
   "codemirror_mode": {
    "name": "ipython",
    "version": 3
   },
   "file_extension": ".py",
   "mimetype": "text/x-python",
   "name": "python",
   "nbconvert_exporter": "python",
   "pygments_lexer": "ipython3",
   "version": "3.7.1"
  }
 },
 "nbformat": 4,
 "nbformat_minor": 2
}
