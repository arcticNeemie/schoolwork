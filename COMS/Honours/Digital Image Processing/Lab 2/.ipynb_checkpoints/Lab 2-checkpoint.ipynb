{
 "cells": [
  {
   "cell_type": "markdown",
   "metadata": {},
   "source": [
    "<h1 align=\"center\">DIP - Lab 2</h2>"
   ]
  },
  {
   "cell_type": "markdown",
   "metadata": {},
   "source": [
    "<h2>Imports and Stuff</h2>"
   ]
  },
  {
   "cell_type": "code",
   "execution_count": 2,
   "metadata": {},
   "outputs": [],
   "source": [
    "import numpy as np\n",
    "import matplotlib.pyplot as plt\n",
    "import copy\n",
    "\n",
    "#Displays an image\n",
    "def displayImage(image,max):\n",
    "    plt.gray()\n",
    "    plt.imshow(image, vmin=0, vmax=max)\n",
    "    plt.show()\n",
    "    plt.axis(\"off\")\n",
    "    \n",
    "#Convert float to uint8\n",
    "def im2int8(image):\n",
    "    image = image.astype(np.float32)\n",
    "    image = 255 * image\n",
    "    image = image.astype(np.uint8)\n",
    "    return image\n",
    "\n",
    "#Converts an image to float32\n",
    "def im2float32(image):\n",
    "    type = image.dtype\n",
    "    if np.issubdtype(type, np.integer):\n",
    "        info = np.iinfo(image.dtype)\n",
    "        image = image.astype(np.float32) / info.max\n",
    "    return image"
   ]
  },
  {
   "cell_type": "markdown",
   "metadata": {},
   "source": [
    "<h2 align=\"center\">Problems</h2>"
   ]
  },
  {
   "cell_type": "markdown",
   "metadata": {},
   "source": [
    "<b>Question 1:</b> Explain why the discrete histogram equalization technique does not in general yield a flat histogram.\n",
    "<br>\n",
    "<br>\n",
    "Not all images have the brightness distribution necessary to produce a flat histogram."
   ]
  },
  {
   "cell_type": "markdown",
   "metadata": {},
   "source": [
    "<b>Question 2:</b> Take each of the examples in Table 1, with 16 pixels and 3 bit dynamic range monochrome values, and apply a contrast stretch and histogram equalization modification. Comment on the results. What would you say are the\n",
    "key differences between a contrast stretch and a histogram equalization?\n",
    "\n",
    "<img src=\"table1.png\">"
   ]
  },
  {
   "cell_type": "code",
   "execution_count": 3,
   "metadata": {},
   "outputs": [
    {
     "name": "stdout",
     "output_type": "stream",
     "text": [
      "Displaying table  1\n"
     ]
    },
    {
     "data": {
      "image/png": "[encoded data removed]",
      "text/plain": [
       "<Figure size 432x288 with 1 Axes>"
      ]
     },
     "metadata": {
      "needs_background": "light"
     },
     "output_type": "display_data"
    },
    {
     "data": {
      "image/png": "[encoded data removed]",
      "text/plain": [
       "<Figure size 432x288 with 1 Axes>"
      ]
     },
     "metadata": {
      "needs_background": "light"
     },
     "output_type": "display_data"
    },
    {
     "data": {
      "image/png": "[encoded data removed]",
      "text/plain": [
       "<Figure size 432x288 with 1 Axes>"
      ]
     },
     "metadata": {
      "needs_background": "light"
     },
     "output_type": "display_data"
    },
    {
     "name": "stdout",
     "output_type": "stream",
     "text": [
      "Displaying table  2\n"
     ]
    },
    {
     "data": {
      "image/png": "[encoded data removed]",
      "text/plain": [
       "<Figure size 432x288 with 1 Axes>"
      ]
     },
     "metadata": {
      "needs_background": "light"
     },
     "output_type": "display_data"
    },
    {
     "data": {
      "image/png": "[encoded data removed]",
      "text/plain": [
       "<Figure size 432x288 with 1 Axes>"
      ]
     },
     "metadata": {
      "needs_background": "light"
     },
     "output_type": "display_data"
    },
    {
     "data": {
      "image/png": "[encoded data removed]",
      "text/plain": [
       "<Figure size 432x288 with 1 Axes>"
      ]
     },
     "metadata": {
      "needs_background": "light"
     },
     "output_type": "display_data"
    },
    {
     "name": "stdout",
     "output_type": "stream",
     "text": [
      "Displaying table  3\n"
     ]
    },
    {
     "data": {
      "image/png": "[encoded data removed]",
      "text/plain": [
       "<Figure size 432x288 with 1 Axes>"
      ]
     },
     "metadata": {
      "needs_background": "light"
     },
     "output_type": "display_data"
    },
    {
     "data": {
      "image/png": "[encoded data removed]",
      "text/plain": [
       "<Figure size 432x288 with 1 Axes>"
      ]
     },
     "metadata": {
      "needs_background": "light"
     },
     "output_type": "display_data"
    },
    {
     "data": {
      "image/png": "[encoded data removed]",
      "text/plain": [
       "<Figure size 432x288 with 1 Axes>"
      ]
     },
     "metadata": {
      "needs_background": "light"
     },
     "output_type": "display_data"
    },
    {
     "data": {
      "image/png": "[encoded data removed]",
      "text/plain": [
       "<Figure size 432x288 with 1 Axes>"
      ]
     },
     "metadata": {
      "needs_background": "light"
     },
     "output_type": "display_data"
    }
   ],
   "source": [
    "#Initialize Tables\n",
    "list1 = [[0,1,1,1],[0,2,1,6],[1,1,6,5],[6,7,7,7]]\n",
    "table1 = np.array(list1)\n",
    "\n",
    "list2 = [[7,6,5,4],[6,7,5,5],[5,5,6,7],[4,5,7,6]]\n",
    "table2 = np.array(list2)\n",
    "\n",
    "list3 = [[2,3,2,3],[3,2,3,5],[3,6,5,6],[6,5,6,5]]\n",
    "table3 = np.array(list3)\n",
    "\n",
    "#The piecewise function used to perform the contrast stretch (float32 format)\n",
    "def contrastStretchFunction(x,pl,ph):\n",
    "    if x<pl:\n",
    "        return 0\n",
    "    elif x>ph:\n",
    "        return 1\n",
    "    else:\n",
    "        return (x-pl)/(ph-pl)\n",
    "            \n",
    "#Performs a contrast stretch on a float32 image, taking into account the outliers\n",
    "def contrastStretch(image):\n",
    "    q1 = np.percentile(image,25)\n",
    "    q3 = np.percentile(image,75)\n",
    "    iqr = q3-q1\n",
    "    pl = q1-1.5*iqr\n",
    "    ph = q3+1.5*iqr\n",
    "    \n",
    "    for (x,y),value in np.ndenumerate(image):\n",
    "        image[x,y] = contrastStretchFunction(value,pl,ph)\n",
    "    return image\n",
    "\n",
    "#Gets the Histogram of an Image\n",
    "def getHistogram(image,max):\n",
    "    histogram,bin_edges = np.histogram(image,max+1)\n",
    "    \n",
    "    return histogram\n",
    "\n",
    "#Gets the probability of each grey level from a histogram\n",
    "def getProbs(histogram):\n",
    "    n = sum(histogram)\n",
    "    probs = histogram/n\n",
    "    return probs\n",
    "    \n",
    "#Get the cumulative probs\n",
    "def getCumulative(probs):\n",
    "    return np.cumsum(probs)\n",
    "\n",
    "#Get new mapping from cumulative distribution\n",
    "def CDFToMap(cdf,max):\n",
    "    return np.round(max*cdf)\n",
    "\n",
    "#Perform Histogram Equalization\n",
    "def histogramEqualization(image,max):\n",
    "    histogram = getHistogram(image,max)\n",
    "    probs = getProbs(histogram)\n",
    "    cdf = getCumulative(probs)\n",
    "    myMap = CDFToMap(cdf,max)\n",
    "    for (x,y),value in np.ndenumerate(image):\n",
    "        image[x,y] = myMap[value]\n",
    "    return image\n",
    "\n",
    "#Display the original table as well as a contrast-stetched one and a histogrammed one\n",
    "def displayTableContrastHistogram(table,number,max):\n",
    "    print(\"Displaying table \",number)\n",
    "    displayImage(table,max)\n",
    "    tableC = im2float32(copy.deepcopy(table))\n",
    "    tableH = copy.deepcopy(table)\n",
    "    displayImage(contrastStretch(tableC),1)\n",
    "    displayImage(histogramEqualization(tableH,max),max)\n",
    "\n",
    "\n",
    "displayTableContrastHistogram(table1,1,7)\n",
    "displayTableContrastHistogram(table2,2,7)\n",
    "displayTableContrastHistogram(table3,3,7)"
   ]
  },
  {
   "cell_type": "markdown",
   "metadata": {},
   "source": [
    "Contrast Stretching takes the existing distribution and \"stretches\" it across the full dynamic range. Histogram Equalization, on the other hand, attempts to flatten the distribution of the image so that, ideally, any point along the full dynamic range is equally likely to occur in the image."
   ]
  },
  {
   "cell_type": "markdown",
   "metadata": {},
   "source": [
    "<b>Question 3:</b> \n",
    "<ol>\n",
    "    <li>What effect would setting to zero the lower-order bit planes have on the histogram of an image in general?\n",
    "        <ul>\n",
    "            <li>The histogram would shift to the left, resulting in a darker image\n",
    "        </ul>\n",
    "    <li>What would be the effect on the histogram if we set to zero the higher-order bit planes instead?\n",
    "        <ul>\n",
    "            <li>This would have the effect of removing certain multiples from the histogram. Thus there would be gaps in the histogram as well as an overall shift to the left.\n",
    "        </ul>\n",
    "</ol>"
   ]
  },
  {
   "cell_type": "markdown",
   "metadata": {},
   "source": [
    "<b>Question 4:</b> Suppose that a digital image is subjected to histogram equalization. Show that a second pass of histogram equal-ization will produce exactly the same result as the first pass."
   ]
  },
  {
   "cell_type": "markdown",
   "metadata": {},
   "source": [
    "<b>Question 5: </b>Given a 3-bit 8×8 image with its histogram shown in Table 2, perform a histogram matching using the desiredhistogram shown in Table 3.\n",
    "<img src=\"table2and3.png\">"
   ]
  },
  {
   "cell_type": "markdown",
   "metadata": {},
   "source": [
    "<b>Question 6: </b>A 3-bit imageTis given below.  Perform an adaptive histogram equalization on the pixels of T (excluding theborder pixels) using a 3×3 tile.\n",
    "\n",
    "<img src=\"T.png\">"
   ]
  },
  {
   "cell_type": "markdown",
   "metadata": {},
   "source": [
    "<h2 align=\"center\">Lab Exercises</h1>"
   ]
  },
  {
   "cell_type": "markdown",
   "metadata": {},
   "source": [
    "<b>Question 1: </b>Implement a functionimg_out = histeq_DIP(img_in)which performs histogram equalization onimg_in,whereimg_outis the output image.  Test your implementation on image ‘fractured_spine.tif’.  For this exercise,you should attempt to put the results in a very short report that includes the original image, a plot of its histogram,a plot of the histogram-equalization transformation function, the enhanced image, and a plot of its histogram. Usethis information to explain why the resulting image was enhanced as it was."
   ]
  },
  {
   "cell_type": "markdown",
   "metadata": {},
   "source": [
    "<b>Question 2: </b>\n",
    "<ol>\n",
    "    <li>Implement a histogram matching functionimg_out = histogram_matching_DIP(img_in, p), whereimg_inis an input image,pis a specified histogram, andimg_outis the output image.\n",
    "    <li>Apply your implementation to image ‘aerial_washedout.png’ using the histograms of images ‘pollen_1_he.png’,and ‘mars_moon.png’.\n",
    "    <li>Apply your implementation to image ‘mars_moon.png’ using the histograms of image ‘pollen_1_he.png’.\n",
    "</ol>"
   ]
  },
  {
   "cell_type": "markdown",
   "metadata": {},
   "source": [
    "<b>Question 3: </b>Implement an adaptive histogram equalization function.  To do this,  you need to divide an image into smallblocks (or tiles). Then each of these blocks are histogram equalized as usual. In adaptive histogram equalization,how would you deal with the issues caused by the following? Test your program for images ‘mars_moon.png’ and‘car.png’.\n",
    "<ol>\n",
    "    <li>The resulting image might have blocking effects, i.e., the borders of the tiles are clearly visible.?\n",
    "    <li>Noise or outlier pixels\n",
    "</ol>"
   ]
  },
  {
   "cell_type": "markdown",
   "metadata": {},
   "source": [
    "<b>Question 4: </b>Perform adaptive histogram equalization for images ‘mars_moon.png’ and ‘car.png’ using matlabadapthisteqor python scikit-image package. (See the example codeplot_equalize.py)."
   ]
  },
  {
   "cell_type": "code",
   "execution_count": null,
   "metadata": {},
   "outputs": [],
   "source": []
  },
  {
   "cell_type": "code",
   "execution_count": null,
   "metadata": {},
   "outputs": [],
   "source": []
  },
  {
   "cell_type": "code",
   "execution_count": null,
   "metadata": {},
   "outputs": [],
   "source": []
  },
  {
   "cell_type": "code",
   "execution_count": null,
   "metadata": {},
   "outputs": [],
   "source": []
  }
 ],
 "metadata": {
  "kernelspec": {
   "display_name": "Python 3",
   "language": "python",
   "name": "python3"
  },
  "language_info": {
   "codemirror_mode": {
    "name": "ipython",
    "version": 3
   },
   "file_extension": ".py",
   "mimetype": "text/x-python",
   "name": "python",
   "nbconvert_exporter": "python",
   "pygments_lexer": "ipython3",
   "version": "3.7.1"
  }
 },
 "nbformat": 4,
 "nbformat_minor": 2
}
