{
 "cells": [
  {
   "cell_type": "markdown",
   "metadata": {},
   "source": [
    "<h1 align=\"center\">Lab 5</h1>"
   ]
  },
  {
   "cell_type": "markdown",
   "metadata": {},
   "source": [
    "<h2>Imports and Stuff</h2>"
   ]
  },
  {
   "cell_type": "code",
   "execution_count": 1,
   "metadata": {},
   "outputs": [],
   "source": [
    "import numpy as np\n",
    "import matplotlib.pyplot as plt\n",
    "import copy\n",
    "import math\n",
    "from skimage import morphology\n",
    "from skimage.color import rgb2gray\n",
    "from PIL import Image\n",
    "\n",
    "#By default, an image is a float image\n",
    "def displayImage(images, nrows = 1, ncols=1, title=[],image_max=0,plotsize=10):\n",
    "    #Handle the case of 1 image\n",
    "    if nrows == 1 and ncols == 1:\n",
    "        images = [images]\n",
    "    #Mismatch\n",
    "    if len(images) != nrows*ncols:\n",
    "        print(\"Number of images != number of subplots\")\n",
    "        return\n",
    "    #Title mismathc\n",
    "    if len(images) != len(title) and len(title)!=0:\n",
    "        print(\"Number of images != number of titles\")\n",
    "        return\n",
    "    fig = plt.figure(figsize=(plotsize,plotsize))\n",
    "    ax = []\n",
    "    for i in range(1, ncols*nrows +1):\n",
    "        image = images[i-1]\n",
    "        \n",
    "        #Deal for various types\n",
    "        type = image.dtype\n",
    "        if np.issubdtype(type, np.integer):\n",
    "            if image_max==0:\n",
    "                im_max = np.iinfo(type).max\n",
    "            else:\n",
    "                im_max=copy.deepcopy(image_max)\n",
    "        else:\n",
    "            im_max = 1\n",
    "        \n",
    "        plt.gray()\n",
    "        ax.append( fig.add_subplot(nrows, ncols,i))\n",
    "        if len(title)!=0:\n",
    "            ax[-1].set_title(title[i-1])\n",
    "        plt.axis(\"off\")\n",
    "        plt.imshow(image,vmin=0,vmax=im_max)\n",
    "    plt.show()\n",
    "    \n",
    "#Convert float to uint8\n",
    "def im2int8(image):\n",
    "    image = image.astype(np.float32)\n",
    "    image = 255 * image\n",
    "    image = image.astype(np.uint8)\n",
    "    return image\n",
    "\n",
    "#Converts an image to float32\n",
    "def im2float32(image):\n",
    "    type = image.dtype\n",
    "    if np.issubdtype(type, np.integer):\n",
    "        info = np.iinfo(image.dtype)\n",
    "        image = image.astype(np.float32) / info.max\n",
    "    return image\n"
   ]
  },
  {
   "cell_type": "markdown",
   "metadata": {},
   "source": [
    "<h2>Lab Questions</h2>"
   ]
  },
  {
   "cell_type": "markdown",
   "metadata": {},
   "source": [
    "<b>Question 1: </b>Given image ‘left’, apply appropriate morphological operators to eliminate the smaller squares."
   ]
  },
  {
   "cell_type": "code",
   "execution_count": 17,
   "metadata": {},
   "outputs": [
    {
     "name": "stdout",
     "output_type": "stream",
     "text": [
      "B\n",
      "\n",
      "[[1. 1. 1. 1. 1. 1. 1. 1. 1. 1. 1. 1. 1.]\n",
      " [1. 1. 1. 1. 1. 1. 1. 1. 1. 1. 1. 1. 1.]\n",
      " [1. 1. 1. 1. 1. 1. 1. 1. 1. 1. 1. 1. 1.]\n",
      " [1. 1. 1. 1. 1. 1. 1. 1. 1. 1. 1. 1. 1.]\n",
      " [1. 1. 1. 1. 1. 1. 1. 1. 1. 1. 1. 1. 1.]\n",
      " [1. 1. 1. 1. 1. 1. 1. 1. 1. 1. 1. 1. 1.]\n",
      " [1. 1. 1. 1. 1. 1. 1. 1. 1. 1. 1. 1. 1.]\n",
      " [1. 1. 1. 1. 1. 1. 1. 1. 1. 1. 1. 1. 1.]\n",
      " [1. 1. 1. 1. 1. 1. 1. 1. 1. 1. 1. 1. 1.]\n",
      " [1. 1. 1. 1. 1. 1. 1. 1. 1. 1. 1. 1. 1.]\n",
      " [1. 1. 1. 1. 1. 1. 1. 1. 1. 1. 1. 1. 1.]\n",
      " [1. 1. 1. 1. 1. 1. 1. 1. 1. 1. 1. 1. 1.]\n",
      " [1. 1. 1. 1. 1. 1. 1. 1. 1. 1. 1. 1. 1.]]\n"
     ]
    },
    {
     "data": {
      "image/png": "[encoded data removed]",
      "text/plain": [
       "<Figure size 720x720 with 3 Axes>"
      ]
     },
     "metadata": {
      "needs_background": "light"
     },
     "output_type": "display_data"
    }
   ],
   "source": [
    "left = plt.imread(\"left.tif\")\n",
    "\n",
    "B = np.ones((13,13))\n",
    "print(\"B\\n\")\n",
    "print(B)\n",
    "\n",
    "left_erode = morphology.binary_erosion(left,B)\n",
    "left_erode_dilate = morphology.binary_dilation(left_erode,B)\n",
    "\n",
    "displayImage([left,left_erode,left_erode_dilate],1,3,title=[\"Original\",\"Eroded\",\"Eroded and then Dilated\"])"
   ]
  },
  {
   "cell_type": "markdown",
   "metadata": {},
   "source": [
    "<b>Question 2: </b>Given image ‘wirebond-mask’, how would you extract the large square in the middle?\n",
    "\n",
    "Erode and then dilate"
   ]
  },
  {
   "cell_type": "code",
   "execution_count": 20,
   "metadata": {},
   "outputs": [
    {
     "data": {
      "image/png": "[encoded data removed]",
      "text/plain": [
       "<Figure size 720x720 with 4 Axes>"
      ]
     },
     "metadata": {
      "needs_background": "light"
     },
     "output_type": "display_data"
    }
   ],
   "source": [
    "wirebond = Image.open(\"wirebond-mask.tif\") # open colour image\n",
    "wirebond = np.asarray(wirebond)\n",
    "\n",
    "B = np.ones((50,50)).astype(np.bool)\n",
    "\n",
    "wirebond2 = morphology.binary_erosion(wirebond,B)\n",
    "wirebond3 = morphology.binary_dilation(wirebond2,B)\n",
    "\n",
    "displayImage([wirebond,B,wirebond2,wirebond3],1,4,title=[\"Original\",\"Structuring Element\",\"Eroded Image\",\"Eroded and then Dilated Image\"])"
   ]
  },
  {
   "cell_type": "markdown",
   "metadata": {},
   "source": [
    "<b>Question 3: </b>Apply opening and closing to image ‘phantom’ using different structuring elements and analyze the difference."
   ]
  },
  {
   "cell_type": "code",
   "execution_count": 27,
   "metadata": {},
   "outputs": [
    {
     "data": {
      "image/png": "[encoded data removed]",
      "text/plain": [
       "<Figure size 288x288 with 1 Axes>"
      ]
     },
     "metadata": {
      "needs_background": "light"
     },
     "output_type": "display_data"
    },
    {
     "data": {
      "image/png": "[encoded data removed]",
      "text/plain": [
       "<Figure size 720x720 with 12 Axes>"
      ]
     },
     "metadata": {
      "needs_background": "light"
     },
     "output_type": "display_data"
    }
   ],
   "source": [
    "phantom = Image.open(\"phantom.png\") # open colour image\n",
    "phantom = np.asarray(phantom)\n",
    "phantom = rgb2gray(phantom)\n",
    "\n",
    "mySize = 26\n",
    "\n",
    "Bdisk = morphology.disk(mySize).astype(np.bool)\n",
    "Bsquare = morphology.square(mySize).astype(np.bool)\n",
    "Brectangle = morphology.rectangle(mySize*2,mySize).astype(np.bool)\n",
    "Bdiamond = morphology.diamond(mySize).astype(np.bool)\n",
    "\n",
    "phantom2 = morphology.binary_opening(phantom,Bdisk)\n",
    "phantom2_ = morphology.binary_closing(phantom,Bdisk)\n",
    "\n",
    "phantom3 = morphology.binary_opening(phantom,Bsquare)\n",
    "phantom3_ = morphology.binary_closing(phantom,Bsquare)\n",
    "\n",
    "phantom4 = morphology.binary_opening(phantom,Brectangle)\n",
    "phantom4_ = morphology.binary_closing(phantom,Brectangle)\n",
    "\n",
    "phantom5 = morphology.binary_opening(phantom,Bdiamond)\n",
    "phantom5_ = morphology.binary_closing(phantom,Bdiamond)\n",
    "\n",
    "displayImage(phantom,title=[\"Original Image\"],plotsize=4)\n",
    "images = [Bdisk,phantom2,phantom2_,Bsquare,phantom3,phantom3_,Brectangle,phantom4,phantom4_,Bdiamond,phantom5,phantom5_]\n",
    "titles = [\"Disk\",\"Opened\",\"Closed\",\"Square\",\"Opened\",\"Closed\",\"Rectangle\",\"Opened\",\"Closed\",\"Diamond\",\"Opened\",\"Closed\",]\n",
    "displayImage(images,4,3,title=titles)"
   ]
  },
  {
   "cell_type": "markdown",
   "metadata": {},
   "source": [
    "<b>Question 4: </b>Extract the boundary of image ‘lincoln’ using morphological operators."
   ]
  },
  {
   "cell_type": "code",
   "execution_count": 29,
   "metadata": {},
   "outputs": [
    {
     "data": {
      "image/png": "[encoded data removed]",
      "text/plain": [
       "<Figure size 720x720 with 3 Axes>"
      ]
     },
     "metadata": {
      "needs_background": "light"
     },
     "output_type": "display_data"
    }
   ],
   "source": [
    "lincoln = Image.open(\"lincoln.tif\") # open colour image\n",
    "lincoln = np.asarray(lincoln)\n",
    "lincoln = rgb2gray(lincoln)\n",
    "\n",
    "B = np.ones((3,3))\n",
    "\n",
    "lincoln2 = morphology.binary_erosion(lincoln,B)\n",
    "lincoln3 = lincoln^lincoln2\n",
    "\n",
    "displayImage([lincoln,lincoln2,lincoln3],1,3,title=[\"Original\",\"Eroded\",\"Boundary\"])"
   ]
  },
  {
   "cell_type": "markdown",
   "metadata": {},
   "source": [
    "<b>Question 5: </b>Extract the skeleton of image ‘leg_bone’."
   ]
  },
  {
   "cell_type": "code",
   "execution_count": 32,
   "metadata": {},
   "outputs": [
    {
     "data": {
      "image/png": "[encoded data removed]",
      "text/plain": [
       "<Figure size 720x720 with 2 Axes>"
      ]
     },
     "metadata": {
      "needs_background": "light"
     },
     "output_type": "display_data"
    }
   ],
   "source": [
    "bone = Image.open(\"leg_bone.tif\") # open colour image\n",
    "bone = np.asarray(bone)\n",
    "bone = rgb2gray(bone)\n",
    "skeleton = morphology.skeletonize(bone)\n",
    "\n",
    "displayImage([bone,skeleton],1,2,title=[\"Original Image\",\"Skeleton Image\"])"
   ]
  },
  {
   "cell_type": "markdown",
   "metadata": {},
   "source": [
    "<h2>Problems</h2>"
   ]
  },
  {
   "cell_type": "markdown",
   "metadata": {},
   "source": [
    "<b>Question 1:</b> Find the opening and closing of the shapes given in Table 1, Figures 1 and 2 by the corresponding structuringelements. Note that the origins of the structuring elements in Figures 1 and 2 are in the center."
   ]
  },
  {
   "cell_type": "code",
   "execution_count": 11,
   "metadata": {},
   "outputs": [
    {
     "data": {
      "image/png": "[encoded data removed]",
      "text/plain": [
       "<Figure size 720x720 with 4 Axes>"
      ]
     },
     "metadata": {
      "needs_background": "light"
     },
     "output_type": "display_data"
    }
   ],
   "source": [
    "table = np.array([[0,0,0,0,0,0],[0,1,1,0,0,0],[0,0,1,1,0,0],[0,0,0,1,1,0],[0,0,0,0,0,0],[0,0,0,0,0,0]]).astype(np.bool)\n",
    "SE = np.array([[1,1],[0,1]]).astype(np.bool)\n",
    "\n",
    "table1open = morphology.binary_opening(table,SE)\n",
    "table1closed = morphology.binary_closing(table,SE)\n",
    "displayImage([table,SE,table1open,table1closed],1,4,title=[\"Original\",\"SE\",\"Opened\",\"Closed\"])"
   ]
  },
  {
   "cell_type": "code",
   "execution_count": null,
   "metadata": {},
   "outputs": [],
   "source": []
  },
  {
   "cell_type": "code",
   "execution_count": null,
   "metadata": {},
   "outputs": [],
   "source": []
  }
 ],
 "metadata": {
  "kernelspec": {
   "display_name": "Python 3",
   "language": "python",
   "name": "python3"
  },
  "language_info": {
   "codemirror_mode": {
    "name": "ipython",
    "version": 3
   },
   "file_extension": ".py",
   "mimetype": "text/x-python",
   "name": "python",
   "nbconvert_exporter": "python",
   "pygments_lexer": "ipython3",
   "version": "3.7.1"
  }
 },
 "nbformat": 4,
 "nbformat_minor": 2
}
