{
 "cells": [
  {
   "cell_type": "markdown",
   "metadata": {},
   "source": [
    "<h2>Data</h2>"
   ]
  },
  {
   "cell_type": "code",
   "execution_count": 43,
   "metadata": {},
   "outputs": [
    {
     "ename": "AttributeError",
     "evalue": "'AxesSubplot' object has no attribute 'xlabel'",
     "output_type": "error",
     "traceback": [
      "\u001b[0;31m---------------------------------------------------------------------------\u001b[0m",
      "\u001b[0;31mAttributeError\u001b[0m                            Traceback (most recent call last)",
      "\u001b[0;32m<ipython-input-43-f1ae60f45dbf>\u001b[0m in \u001b[0;36m<module>\u001b[0;34m\u001b[0m\n\u001b[1;32m     69\u001b[0m \u001b[0mf\u001b[0m\u001b[0;34m,\u001b[0m \u001b[0maxarr\u001b[0m \u001b[0;34m=\u001b[0m \u001b[0mplt\u001b[0m\u001b[0;34m.\u001b[0m\u001b[0msubplots\u001b[0m\u001b[0;34m(\u001b[0m\u001b[0;36m2\u001b[0m\u001b[0;34m,\u001b[0m \u001b[0msharex\u001b[0m\u001b[0;34m=\u001b[0m\u001b[0;32mTrue\u001b[0m\u001b[0;34m,\u001b[0m\u001b[0mfigsize\u001b[0m\u001b[0;34m=\u001b[0m\u001b[0;34m(\u001b[0m\u001b[0;36m15\u001b[0m\u001b[0;34m,\u001b[0m\u001b[0;36m15\u001b[0m\u001b[0;34m)\u001b[0m\u001b[0;34m)\u001b[0m\u001b[0;34m\u001b[0m\u001b[0;34m\u001b[0m\u001b[0m\n\u001b[1;32m     70\u001b[0m \u001b[0;34m\u001b[0m\u001b[0m\n\u001b[0;32m---> 71\u001b[0;31m \u001b[0maxarr\u001b[0m\u001b[0;34m[\u001b[0m\u001b[0;36m0\u001b[0m\u001b[0;34m]\u001b[0m\u001b[0;34m.\u001b[0m\u001b[0mxlabel\u001b[0m\u001b[0;34m(\u001b[0m\u001b[0;34m\"n\"\u001b[0m\u001b[0;34m)\u001b[0m\u001b[0;34m\u001b[0m\u001b[0;34m\u001b[0m\u001b[0m\n\u001b[0m\u001b[1;32m     72\u001b[0m \u001b[0maxarr\u001b[0m\u001b[0;34m[\u001b[0m\u001b[0;36m0\u001b[0m\u001b[0;34m]\u001b[0m\u001b[0;34m.\u001b[0m\u001b[0mylabel\u001b[0m\u001b[0;34m(\u001b[0m\u001b[0;34m\"Total Time (s)\"\u001b[0m\u001b[0;34m)\u001b[0m\u001b[0;34m\u001b[0m\u001b[0;34m\u001b[0m\u001b[0m\n\u001b[1;32m     73\u001b[0m \u001b[0maxarr\u001b[0m\u001b[0;34m[\u001b[0m\u001b[0;36m0\u001b[0m\u001b[0;34m]\u001b[0m\u001b[0;34m.\u001b[0m\u001b[0mplot\u001b[0m\u001b[0;34m(\u001b[0m\u001b[0mn\u001b[0m\u001b[0;34m,\u001b[0m \u001b[0mtot_smq_1000_32\u001b[0m\u001b[0;34m,\u001b[0m \u001b[0;34m'-o'\u001b[0m\u001b[0;34m,\u001b[0m \u001b[0mlabel\u001b[0m\u001b[0;34m=\u001b[0m\u001b[0;34m'Serial Manhattan Quicksort'\u001b[0m\u001b[0;34m)\u001b[0m\u001b[0;34m\u001b[0m\u001b[0;34m\u001b[0m\u001b[0m\n",
      "\u001b[0;31mAttributeError\u001b[0m: 'AxesSubplot' object has no attribute 'xlabel'"
     ]
    },
    {
     "data": {
      "image/png": "[encoded data removed]",
      "text/plain": [
       "<Figure size 1080x1080 with 2 Axes>"
      ]
     },
     "metadata": {
      "needs_background": "light"
     },
     "output_type": "display_data"
    }
   ],
   "source": [
    "import matplotlib.pyplot as plt\n",
    "n = [200,800,1600]\n",
    "\n",
    "seq_1000_32 = [[0.02133,0.023122],[0.074729,0.084901],[0.148413,0.167418]]\n",
    "tot_seq_1000_32 = []\n",
    "for s in seq_1000_32:\n",
    "    tot_seq_1000_32.append(s[0]+s[1])\n",
    "\n",
    "sem_1000_32 = [[0.018935,0.020924],[0.078226,0.083202],[0.146966,0.166312]]\n",
    "tot_sem_1000_32 = []\n",
    "for s in sem_1000_32:\n",
    "    tot_sem_1000_32.append(s[0]+s[1])\n",
    "    \n",
    "seb_1000_32 = [[0.019371,0.531754],[0.074229,2.143703],[0.147234,4.304201]]\n",
    "tot_seb_1000_32 = []\n",
    "for s in seb_1000_32:\n",
    "    tot_seb_1000_32.append(s[0]+s[1])\n",
    "    \n",
    "    \n",
    "peq_1000_32 = [[0.005218,0.022326],[0.019432,0.089591],[0.039463,0.178609]]\n",
    "tot_peq_1000_32 = []\n",
    "for s in peq_1000_32:\n",
    "    tot_peq_1000_32.append(s[0]+s[1])\n",
    "\n",
    "pem_1000_32 = [[0.005017,0.012565],[0.02015,0.049569],[0.039265,0.097854]]\n",
    "tot_pem_1000_32 = []\n",
    "for s in pem_1000_32:\n",
    "    tot_pem_1000_32.append(s[0]+s[1])\n",
    "    \n",
    "peb_1000_32 = [[0.005279,0.302504],[0.01984,1.206996],[0.039092,2.407322]]\n",
    "tot_peb_1000_32 = []\n",
    "for s in peb_1000_32:\n",
    "    tot_peb_1000_32.append(s[0]+s[1])\n",
    "\n",
    "smm_1000_32 = [[0.04822,0.020996],[0.191624,0.084608],[0.382254,0.166384]]\n",
    "tot_smm_1000_32 = []\n",
    "for s in smm_1000_32:\n",
    "    tot_smm_1000_32.append(s[0]+s[1])\n",
    "    \n",
    "\n",
    "smq_1000_32 = [[0.048478,0.020886],[0.191908,0.084287],[0.392653,0.170683]]\n",
    "tot_smq_1000_32 = []\n",
    "for s in smq_1000_32:\n",
    "    tot_smq_1000_32.append(s[0]+s[1])\n",
    "\n",
    "    \n",
    "smb_1000_32 = [[0.048939,0.532164],[0.196771,2.199062],[0.383467,4.262315]]\n",
    "tot_smb_1000_32 = []\n",
    "for s in smb_1000_32:\n",
    "    tot_smb_1000_32.append(s[0]+s[1])\n",
    "    \n",
    "\n",
    "pmq_1000_32 = [[0.01245,0.022688],[0.050333,0.08931],[0.097206,0.182271]]\n",
    "tot_pmq_1000_32 = []\n",
    "for s in pmq_1000_32:\n",
    "    tot_pmq_1000_32.append(s[0]+s[1])\n",
    "\n",
    "pmm_1000_32 = [[0.012906,0.012428],[0.049283,0.048857],[0.097688,0.097834]]\n",
    "tot_pmm_1000_32 = []\n",
    "for s in pmm_1000_32:\n",
    "    tot_pmm_1000_32.append(s[0]+s[1])\n",
    "    \n",
    "pmb_1000_32 = [[0.012222,0.296567],[0.049104,1.201139],[0.097324,2.401881]]\n",
    "tot_pmb_1000_32 = []\n",
    "for s in pmb_1000_32:\n",
    "    tot_pmb_1000_32.append(s[0]+s[1])\n",
    "\n",
    "\n",
    "f, axarr = plt.subplots(2, sharex=True,figsize=(15,15))\n",
    "\n",
    "axarr[0].set_xlabel(\"n\")\n",
    "axarr[0].set_ylabel(\"Total Time (s)\")\n",
    "axarr[0].plot(n, tot_smq_1000_32, '-o', label='Serial Manhattan Quicksort')\n",
    "axarr[0].plot(n, tot_smm_1000_32, '-o', label='Serial Manhattan Mergesort')\n",
    "axarr[0].plot(n, tot_smb_1000_32, '-o', label='Serial Manhattan Bubblesort')\n",
    "axarr[0].plot(n, tot_pmq_1000_32, '-d', label='Parallel Manhattan Quicksort')\n",
    "axarr[0].plot(n, tot_pmm_1000_32, '-d', label='Parallel Manhattan Mergesort')\n",
    "axarr[0].plot(n, tot_pmb_1000_32, '-d', label='Parallel Manhattan Bubblesort')\n",
    "box0 = axarr[0].get_position()\n",
    "axarr[0].set_position([box0.x0, box0.y0 + box0.height * 0.1,\n",
    "                 box0.width, box0.height * 0.9])\n",
    "axarr[0].legend(loc='upper center', bbox_to_anchor=(0.5, -0.05),\n",
    "          fancybox=True, shadow=True, ncol=5)\n",
    "\n",
    "\n",
    "axarr[1].set_xlabel(\"n\")\n",
    "axarr[1].set_ylabel(\"Total Time (s)\")\n",
    "axarr[1].plot(n, tot_seq_1000_32, '-o', label='Serial Euclidean Quicksort')\n",
    "axarr[1].plot(n, tot_sem_1000_32, '-o', label='Serial Euclidean Mergesort')\n",
    "axarr[1].plot(n, tot_seb_1000_32, '-o', label='Serial Euclidean Bubblesort')\n",
    "axarr[1].plot(n, tot_peq_1000_32, '-d', label='Parallel Euclidean Quicksort')\n",
    "axarr[1].plot(n, tot_pem_1000_32, '-d', label='Parallel Euclidean Mergesort')\n",
    "axarr[1].plot(n, tot_peb_1000_32, '-d', label='Parallel Euclidean Bubblesort')\n",
    "box1 = axarr[1].get_position()\n",
    "axarr[1].set_position([box1.x0, box1.y0 + box1.height * 0.1,\n",
    "                 box1.width, box1.height * 0.9])\n",
    "axarr[1].legend(loc='upper center', bbox_to_anchor=(0.5, -0.05),\n",
    "          fancybox=True, shadow=True, ncol=5)\n",
    "\n",
    "\n",
    "pylab.show()    \n",
    "\n",
    "#[[],[],[]]"
   ]
  },
  {
   "cell_type": "code",
   "execution_count": null,
   "metadata": {},
   "outputs": [],
   "source": []
  },
  {
   "cell_type": "code",
   "execution_count": null,
   "metadata": {},
   "outputs": [],
   "source": []
  }
 ],
 "metadata": {
  "kernelspec": {
   "display_name": "Python 3",
   "language": "python",
   "name": "python3"
  },
  "language_info": {
   "codemirror_mode": {
    "name": "ipython",
    "version": 3
   },
   "file_extension": ".py",
   "mimetype": "text/x-python",
   "name": "python",
   "nbconvert_exporter": "python",
   "pygments_lexer": "ipython3",
   "version": "3.7.1"
  }
 },
 "nbformat": 4,
 "nbformat_minor": 2
}
